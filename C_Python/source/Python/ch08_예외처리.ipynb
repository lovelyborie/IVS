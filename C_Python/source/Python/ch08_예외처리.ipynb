{
 "cells": [
  {
   "cell_type": "markdown",
   "id": "4e1a6376-bf52-4b9c-8e96-944c5f75a4f9",
   "metadata": {},
   "source": [
    "<font size ='8' color = 'red'> <b> ch08 예외처리 </b>"
   ]
  },
  {
   "cell_type": "markdown",
   "id": "fd2fb437-de54-4fe6-a971-f0dd4a6ea17b",
   "metadata": {},
   "source": [
    "# 1절 예외처리"
   ]
  },
  {
   "cell_type": "markdown",
   "id": "913892a8-3776-4d2a-8170-0752c82d3210",
   "metadata": {},
   "source": [
    "- 예외가 날 가능성이 있는 부분을 미리 예상하고 그에 대한 처리를 프로그래밍하는 것 (이유 : 안정적으로 실행될 수 있도록 하기 위함)"
   ]
  },
  {
   "cell_type": "code",
   "execution_count": 3,
   "id": "3a95c56a-da6c-441b-95f1-9af63167ee0d",
   "metadata": {},
   "outputs": [
    {
     "name": "stdin",
     "output_type": "stream",
     "text": [
      "파일명? ch08.txt\n"
     ]
    },
    {
     "data": {
      "text/plain": [
       "['This is Test File\\n', 'Hello, Python\\n', '테스트 파일입니다.']"
      ]
     },
     "execution_count": 3,
     "metadata": {},
     "output_type": "execute_result"
    }
   ],
   "source": [
    "# 있는 파일의 경우 예외 발생 안 함\n",
    "filename = input('파일명?')\n",
    "f = open('data/'+filename,'r',encoding=\"utf-8\")\n",
    "f.readlines()"
   ]
  },
  {
   "cell_type": "code",
   "execution_count": 4,
   "id": "4a4a2d5a-d4ec-4577-a47c-a3dd779fd5a2",
   "metadata": {},
   "outputs": [
    {
     "name": "stdin",
     "output_type": "stream",
     "text": [
      "파일명? z.txt\n"
     ]
    },
    {
     "ename": "FileNotFoundError",
     "evalue": "[Errno 2] No such file or directory: 'data/z.txt'",
     "output_type": "error",
     "traceback": [
      "\u001b[1;31m---------------------------------------------------------------------------\u001b[0m",
      "\u001b[1;31mFileNotFoundError\u001b[0m                         Traceback (most recent call last)",
      "Cell \u001b[1;32mIn[4], line 3\u001b[0m\n\u001b[0;32m      1\u001b[0m \u001b[38;5;66;03m# 없는 파일의 경우 예외 발생\u001b[39;00m\n\u001b[0;32m      2\u001b[0m filename \u001b[38;5;241m=\u001b[39m \u001b[38;5;28minput\u001b[39m(\u001b[38;5;124m'\u001b[39m\u001b[38;5;124m파일명?\u001b[39m\u001b[38;5;124m'\u001b[39m)\n\u001b[1;32m----> 3\u001b[0m f \u001b[38;5;241m=\u001b[39m \u001b[38;5;28mopen\u001b[39m(\u001b[38;5;124m'\u001b[39m\u001b[38;5;124mdata/\u001b[39m\u001b[38;5;124m'\u001b[39m\u001b[38;5;241m+\u001b[39mfilename,\u001b[38;5;124m'\u001b[39m\u001b[38;5;124mr\u001b[39m\u001b[38;5;124m'\u001b[39m,encoding\u001b[38;5;241m=\u001b[39m\u001b[38;5;124m\"\u001b[39m\u001b[38;5;124mutf-8\u001b[39m\u001b[38;5;124m\"\u001b[39m)\n\u001b[0;32m      4\u001b[0m f\u001b[38;5;241m.\u001b[39mreadlines()\n",
      "File \u001b[1;32m~\\anaconda3\\Lib\\site-packages\\IPython\\core\\interactiveshell.py:310\u001b[0m, in \u001b[0;36m_modified_open\u001b[1;34m(file, *args, **kwargs)\u001b[0m\n\u001b[0;32m    303\u001b[0m \u001b[38;5;28;01mif\u001b[39;00m file \u001b[38;5;129;01min\u001b[39;00m {\u001b[38;5;241m0\u001b[39m, \u001b[38;5;241m1\u001b[39m, \u001b[38;5;241m2\u001b[39m}:\n\u001b[0;32m    304\u001b[0m     \u001b[38;5;28;01mraise\u001b[39;00m \u001b[38;5;167;01mValueError\u001b[39;00m(\n\u001b[0;32m    305\u001b[0m         \u001b[38;5;124mf\u001b[39m\u001b[38;5;124m\"\u001b[39m\u001b[38;5;124mIPython won\u001b[39m\u001b[38;5;124m'\u001b[39m\u001b[38;5;124mt let you open fd=\u001b[39m\u001b[38;5;132;01m{\u001b[39;00mfile\u001b[38;5;132;01m}\u001b[39;00m\u001b[38;5;124m by default \u001b[39m\u001b[38;5;124m\"\u001b[39m\n\u001b[0;32m    306\u001b[0m         \u001b[38;5;124m\"\u001b[39m\u001b[38;5;124mas it is likely to crash IPython. If you know what you are doing, \u001b[39m\u001b[38;5;124m\"\u001b[39m\n\u001b[0;32m    307\u001b[0m         \u001b[38;5;124m\"\u001b[39m\u001b[38;5;124myou can use builtins\u001b[39m\u001b[38;5;124m'\u001b[39m\u001b[38;5;124m open.\u001b[39m\u001b[38;5;124m\"\u001b[39m\n\u001b[0;32m    308\u001b[0m     )\n\u001b[1;32m--> 310\u001b[0m \u001b[38;5;28;01mreturn\u001b[39;00m io_open(file, \u001b[38;5;241m*\u001b[39margs, \u001b[38;5;241m*\u001b[39m\u001b[38;5;241m*\u001b[39mkwargs)\n",
      "\u001b[1;31mFileNotFoundError\u001b[0m: [Errno 2] No such file or directory: 'data/z.txt'"
     ]
    }
   ],
   "source": [
    "# 없는 파일의 경우 예외 발생\n",
    "filename = input('파일명?')\n",
    "f = open('data/'+filename,'r',encoding=\"utf-8\")\n",
    "f.readlines()"
   ]
  },
  {
   "cell_type": "code",
   "execution_count": 5,
   "id": "775b6a49-4913-4cff-97ae-8e5ecd6a350a",
   "metadata": {},
   "outputs": [
    {
     "name": "stdin",
     "output_type": "stream",
     "text": [
      "나눌 숫자를 입력하세요 >> 5\n"
     ]
    },
    {
     "data": {
      "text/plain": [
       "20.0"
      ]
     },
     "execution_count": 5,
     "metadata": {},
     "output_type": "execute_result"
    }
   ],
   "source": [
    "#ValueError 예외 객체 : 숫자가 아닌 문자를 입력했을 경우\n",
    "#ZeroDivisionError 예외 객체 : 0을 입력했을 경우\n",
    "num = int(input('나눌 숫자를 입력하세요 >>'))\n",
    "100/num"
   ]
  },
  {
   "cell_type": "code",
   "execution_count": null,
   "id": "0cd3b44f-7c56-4728-a6cb-2823e436a1b0",
   "metadata": {},
   "outputs": [],
   "source": [
    "# 인덱스를 벗어났을 경우\n",
    "a =[1,2,3]\n",
    "a[3]"
   ]
  },
  {
   "cell_type": "markdown",
   "id": "aa4c9827-a463-47ff-8707-bcbe8dee4373",
   "metadata": {},
   "source": [
    "# 2절 try ~ except 로 예외 처리"
   ]
  },
  {
   "cell_type": "markdown",
   "id": "53acf547-8d35-4cc4-9e82-e36e1e953958",
   "metadata": {},
   "source": [
    "```\n",
    "try :\n",
    "    예외가 발생할 가능성이 있는 명령어1\n",
    "    명령어.....\n",
    "except [예외타입 as [예외객체변수명]:\n",
    "    예외가 발생했을 경우\n",
    "else :\n",
    "    예외가 발생되지 않을 경우 수행명령어\n",
    "finally :\n",
    "    예외 발생 여부 상관없이 실행할 명령어\n",
    "```"
   ]
  },
  {
   "cell_type": "code",
   "execution_count": 6,
   "id": "7f062556-5b74-4eea-bb7f-2bd9e13ce498",
   "metadata": {},
   "outputs": [
    {
     "name": "stdin",
     "output_type": "stream",
     "text": [
      "100을 나눌 정수를 입력하세요 >> 5\n"
     ]
    },
    {
     "name": "stdout",
     "output_type": "stream",
     "text": [
      "입력한 수는 5\n",
      "100을 입력한 정수로 나누면 20.00입니다.\n"
     ]
    }
   ],
   "source": [
    "# 100을 입력받은 정수값으로 나눠 출력한다.\n",
    "x = int(input('100을 나눌 정수를 입력하세요 >>'))\n",
    "print(\"입력한 수는 {}\".format(x))\n",
    "print(\"100을 입력한 정수로 나누면 {:.2f}입니다.\".format(100/x))"
   ]
  },
  {
   "cell_type": "code",
   "execution_count": 8,
   "id": "5a9a5211-b253-4763-b2cf-15ff0c3a45aa",
   "metadata": {},
   "outputs": [
    {
     "name": "stdin",
     "output_type": "stream",
     "text": [
      "100을 나눌 정수를 입력하세요 >> 12.7\n"
     ]
    },
    {
     "name": "stdout",
     "output_type": "stream",
     "text": [
      "유효한 정수가 아닙니다\n"
     ]
    }
   ],
   "source": [
    "try:\n",
    "    x = int(input('100을 나눌 정수를 입력하세요 >>'))\n",
    "    print(\"입력한 수는 {}\".format(x))\n",
    "    print(\"100을 입력한 정수로 나누면 {:.2f}입니다.\".format(100/x))\n",
    "except :\n",
    "    print('유효한 정수가 아닙니다')"
   ]
  },
  {
   "cell_type": "code",
   "execution_count": 12,
   "id": "8c122f35-14d7-4f96-9d4e-4ecab4b99514",
   "metadata": {},
   "outputs": [
    {
     "name": "stdin",
     "output_type": "stream",
     "text": [
      "100을 나눌 정수를 입력하세요 >> 0\n"
     ]
    },
    {
     "name": "stdout",
     "output_type": "stream",
     "text": [
      "입력한 수는 0\n",
      "0으로는 나눌 수 없습니다\n"
     ]
    },
    {
     "name": "stdin",
     "output_type": "stream",
     "text": [
      "100을 나눌 정수를 입력하세요 >> 0\n"
     ]
    },
    {
     "name": "stdout",
     "output_type": "stream",
     "text": [
      "입력한 수는 0\n",
      "0으로는 나눌 수 없습니다\n"
     ]
    },
    {
     "name": "stdin",
     "output_type": "stream",
     "text": [
      "100을 나눌 정수를 입력하세요 >> a0\n"
     ]
    },
    {
     "name": "stdout",
     "output_type": "stream",
     "text": [
      "유효한 숫자를 입력하세요\n"
     ]
    },
    {
     "name": "stdin",
     "output_type": "stream",
     "text": [
      "100을 나눌 정수를 입력하세요 >> ear\n"
     ]
    },
    {
     "name": "stdout",
     "output_type": "stream",
     "text": [
      "유효한 숫자를 입력하세요\n"
     ]
    },
    {
     "name": "stdin",
     "output_type": "stream",
     "text": [
      "100을 나눌 정수를 입력하세요 >> 33\n"
     ]
    },
    {
     "name": "stdout",
     "output_type": "stream",
     "text": [
      "입력한 수는 33\n",
      "100을 입력한 정수로 나누면 3.03입니다.\n"
     ]
    }
   ],
   "source": [
    "while True :\n",
    "    try:\n",
    "        x = int(input('100을 나눌 정수를 입력하세요 >>'))\n",
    "        print(\"입력한 수는 {}\".format(x))\n",
    "        print(\"100을 입력한 정수로 나누면 {:.2f}입니다.\".format(100/x))\n",
    "        break\n",
    "    except (ValueError,ZeroDivisionError):\n",
    "        print('유효한 숫자를 입력하세요')\n",
    "    #except ZeroDivisionError:\n",
    "        #print('0으로는 나눌 수 없습니다')\n",
    "    except Exception :\n",
    "        print('알 수 없는 혹시 모를 예외입니다')\n",
    "\n",
    "#상위 에러를 except하단에 두자"
   ]
  },
  {
   "cell_type": "code",
   "execution_count": 15,
   "id": "98dc0795-4e74-4b73-87f7-8a3b3c4bb3ef",
   "metadata": {},
   "outputs": [
    {
     "name": "stdin",
     "output_type": "stream",
     "text": [
      "100을 나눌 정수를 입력하세요 >> k\n"
     ]
    },
    {
     "name": "stdout",
     "output_type": "stream",
     "text": [
      "유효한 숫자를 입력하세요\n",
      "예외 객체의 타입 :  <class 'ValueError'>\n",
      "예외 매세지 e.args :  (\"invalid literal for int() with base 10: 'k'\",)\n"
     ]
    },
    {
     "name": "stdin",
     "output_type": "stream",
     "text": [
      "100을 나눌 정수를 입력하세요 >> 1000\n"
     ]
    },
    {
     "name": "stdout",
     "output_type": "stream",
     "text": [
      "입력한 수는 1000\n",
      "100을 입력한 정수로 나누면 0.10입니다.\n"
     ]
    }
   ],
   "source": [
    "while True :\n",
    "    try:\n",
    "        x = int(input('100을 나눌 정수를 입력하세요 >>'))\n",
    "        print(\"입력한 수는 {}\".format(x))\n",
    "        print(\"100을 입력한 정수로 나누면 {:.2f}입니다.\".format(100/x))\n",
    "        break\n",
    "    except (ValueError,ZeroDivisionError) as e:\n",
    "        print('유효한 숫자를 입력하세요')\n",
    "        print('예외 객체의 타입 : ' , type(e))\n",
    "        print('예외 매세지 e.args : ',e.args)\n",
    "    #except ZeroDivisionError:\n",
    "        #print('0으로는 나눌 수 없습니다')\n",
    "    except Exception :\n",
    "        print('알 수 없는 혹시 모를 예외입니다')\n",
    "\n",
    "#상위 에러를 except하단에 두자"
   ]
  },
  {
   "cell_type": "code",
   "execution_count": 18,
   "id": "2cf4301d-5577-40b2-8684-e29ba0f133ed",
   "metadata": {},
   "outputs": [
    {
     "name": "stdout",
     "output_type": "stream",
     "text": [
      "This is Test File\n",
      "Hello, Python\n",
      "테스트 파일입니다.\n"
     ]
    }
   ],
   "source": [
    "try :\n",
    "    f = open('data/ch08.txt','r',encoding=\"utf-8\")\n",
    "    data = f.read() # 파일을 끝까지 읽어서 변환\n",
    "   #print(data)\n",
    "except FileNotFoundError as e:\n",
    "    print(e)\n",
    "else:\n",
    "    print(data)\n",
    "finally:\n",
    "    f.close()"
   ]
  },
  {
   "cell_type": "markdown",
   "id": "a13b9af3-cf99-443e-aae1-4ce5a88e29a3",
   "metadata": {},
   "source": [
    "# 3절 강제로 예외발생(raise)"
   ]
  },
  {
   "cell_type": "code",
   "execution_count": 19,
   "id": "a8934e63-2cf5-4581-aa7b-2012251c6ca9",
   "metadata": {},
   "outputs": [
    {
     "ename": "Exception",
     "evalue": "예외가 발생했습니다",
     "output_type": "error",
     "traceback": [
      "\u001b[1;31m---------------------------------------------------------------------------\u001b[0m",
      "\u001b[1;31mException\u001b[0m                                 Traceback (most recent call last)",
      "Cell \u001b[1;32mIn[19], line 1\u001b[0m\n\u001b[1;32m----> 1\u001b[0m \u001b[38;5;28;01mraise\u001b[39;00m \u001b[38;5;167;01mException\u001b[39;00m(\u001b[38;5;124m\"\u001b[39m\u001b[38;5;124m예외가 발생했습니다\u001b[39m\u001b[38;5;124m\"\u001b[39m)\n",
      "\u001b[1;31mException\u001b[0m: 예외가 발생했습니다"
     ]
    }
   ],
   "source": [
    "raise Exception(\"예외가 발생했습니다\")"
   ]
  },
  {
   "cell_type": "code",
   "execution_count": 28,
   "id": "98be0dca-96d6-4cc5-afb9-3c5681cee18b",
   "metadata": {},
   "outputs": [],
   "source": [
    "class LengthZeroError(Exception) :\n",
    "    \"길이가 0일떄 발생하는 예외\"\n",
    "    def __init__(self):\n",
    "        super().__init__(\"길이가 0\")"
   ]
  },
  {
   "cell_type": "code",
   "execution_count": 29,
   "id": "b11d4144-2585-4e5e-b477-3e42b4eed3ce",
   "metadata": {},
   "outputs": [
    {
     "ename": "LengthZeroError",
     "evalue": "길이가 0",
     "output_type": "error",
     "traceback": [
      "\u001b[1;31m---------------------------------------------------------------------------\u001b[0m",
      "\u001b[1;31mLengthZeroError\u001b[0m                           Traceback (most recent call last)",
      "Cell \u001b[1;32mIn[29], line 1\u001b[0m\n\u001b[1;32m----> 1\u001b[0m \u001b[38;5;28;01mraise\u001b[39;00m LengthZeroError()\n",
      "\u001b[1;31mLengthZeroError\u001b[0m: 길이가 0"
     ]
    }
   ],
   "source": [
    "raise LengthZeroError()"
   ]
  },
  {
   "cell_type": "code",
   "execution_count": 24,
   "id": "77d98f32-a869-42a8-990b-3e6f8a9cfd62",
   "metadata": {},
   "outputs": [],
   "source": [
    "def insert(*data) :\n",
    "    if len(data)==0 :\n",
    "        raise LengthZeroError()\n",
    "    for item in data :\n",
    "        print(item, end= \" \")\n",
    "    print(\"등을 입력하셨습니다.\")"
   ]
  },
  {
   "cell_type": "code",
   "execution_count": 25,
   "id": "e806c4e9-8a6f-4f66-b5c3-2ad89deb00c1",
   "metadata": {},
   "outputs": [
    {
     "name": "stdout",
     "output_type": "stream",
     "text": [
      "2 3 4 등을 입력하셨습니다.\n"
     ]
    }
   ],
   "source": [
    "insert(2,3,4)"
   ]
  },
  {
   "cell_type": "code",
   "execution_count": 27,
   "id": "eaa948f4-b03a-461c-b905-c1243c5b68d6",
   "metadata": {},
   "outputs": [
    {
     "name": "stdout",
     "output_type": "stream",
     "text": [
      "1 2 3 등을 입력하셨습니다.\n"
     ]
    }
   ],
   "source": [
    "l = (1,2,3)\n",
    "insert(*l)"
   ]
  },
  {
   "cell_type": "markdown",
   "id": "713470ba-5dfe-40fc-9026-27ef0686116c",
   "metadata": {},
   "source": [
    "# 4절 파일 정리 작업(with절 이용)"
   ]
  },
  {
   "cell_type": "code",
   "execution_count": 32,
   "id": "8109fbf0-42b6-457b-9d3e-4f7ce6e4de44",
   "metadata": {},
   "outputs": [
    {
     "name": "stdout",
     "output_type": "stream",
     "text": [
      "['This is Test File\\n', 'Hello, Python\\n', '테스트 파일입니다.']\n"
     ]
    }
   ],
   "source": [
    "# 파일 입출력시 자원 반납 필수(close)\n",
    "try :\n",
    "    f = open('data/ch08.txt','r',encoding=\"utf-8\")\n",
    "    lines = f.readlines()\n",
    "    print(lines)\n",
    "except Exception :\n",
    "    print('없는 파일이거나 encoding 확인 요망',e)\n",
    "finally :\n",
    "    f.close()"
   ]
  },
  {
   "cell_type": "code",
   "execution_count": 33,
   "id": "dd07ef93-b24b-4766-847a-3c873f01c73e",
   "metadata": {},
   "outputs": [
    {
     "name": "stdout",
     "output_type": "stream",
     "text": [
      "['This is Test File\\n', 'Hello, Python\\n', '테스트 파일입니다.']\n"
     ]
    }
   ],
   "source": [
    "# with절 이용시 자동 close() 실행\n",
    "with open('data/ch08.txt','r',encoding=\"utf-8\") as f :\n",
    "    lines = f.readlines()\n",
    "print(lines)"
   ]
  },
  {
   "cell_type": "markdown",
   "id": "6f410ec9-d9b1-4221-8de7-34061aafb311",
   "metadata": {},
   "source": [
    "# 연습문제"
   ]
  },
  {
   "cell_type": "code",
   "execution_count": null,
   "id": "20cfe4b4-b3b7-4afd-9a96-e1dc2407999e",
   "metadata": {},
   "outputs": [],
   "source": []
  }
 ],
 "metadata": {
  "kernelspec": {
   "display_name": "Python 3 (ipykernel)",
   "language": "python",
   "name": "python3"
  },
  "language_info": {
   "codemirror_mode": {
    "name": "ipython",
    "version": 3
   },
   "file_extension": ".py",
   "mimetype": "text/x-python",
   "name": "python",
   "nbconvert_exporter": "python",
   "pygments_lexer": "ipython3",
   "version": "3.11.7"
  }
 },
 "nbformat": 4,
 "nbformat_minor": 5
}
