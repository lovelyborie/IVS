{
 "cells": [
  {
   "cell_type": "code",
   "execution_count": null,
   "id": "94e71078-fd9a-42ab-9ab8-26a385c647c3",
   "metadata": {},
   "outputs": [],
   "source": [
    "print(\"hello\")"
   ]
  },
  {
   "cell_type": "code",
   "execution_count": null,
   "id": "ffca59db-e62b-45a2-82f8-346a907a09ac",
   "metadata": {},
   "outputs": [],
   "source": [
    "from IPython.display import display, HTML\n",
    "display(HTML(\"\"\"\n",
    "<style>\n",
    "div.jp-WindowedPanel-outer.lm-Widget{padding:5px;}\n",
    "div.lm-Widget{width:100%;font-size:10pt;}\n",
    "div.cm-content {font-family:Consolas; font-size:10pt;}\n",
    "div.jp-OutputArea-output pre {font-size:15pt; font-weight:bold;}\n",
    "input.jp-Stdin-input {font-family:Consolas; font-size:10pt;}\n",
    "</style>\n",
    "\"\"\"))"
   ]
  },
  {
   "cell_type": "markdown",
   "id": "13066c1f-dda0-4ede-b809-6da9ec5c0ffe",
   "metadata": {},
   "source": [
    "<font color = \"red\" size = \"10\" ></b># ch01.파이썬 개요 및 환경설정</b>"
   ]
  },
  {
   "cell_type": "code",
   "execution_count": null,
   "id": "0d1eec04-6d58-4dc4-bdf3-3926eb0fe3ea",
   "metadata": {},
   "outputs": [],
   "source": [
    "#esc+m =>가독성 증가  esc+b => 아래 셀 추가  esc+a => 위에 셀 추가 shift+enter => 실행"
   ]
  },
  {
   "cell_type": "markdown",
   "id": "5595f4e0-9a3e-4b54-87d2-bcaa8de7cfd7",
   "metadata": {},
   "source": [
    "# 1. 주피터 노트북 사용법(큰제목)\n",
    "    - shift+enter : 포커스된 셀이 실행되고 다음셀로 이동\n",
    "    - alt+enter : 포코스된 셀이 실행되고 다음셀이 생성된 후 이동\n",
    "    - ctrl+enter : 포커스된 셀이 실행되고 포커스 이동없음\n",
    "    - enter = 클릭 : 셀이 포커스됨(편집상태)"
   ]
  },
  {
   "cell_type": "code",
   "execution_count": 1,
   "id": "a1f6a227-fb24-4622-a622-1a2087b409c6",
   "metadata": {},
   "outputs": [
    {
     "name": "stdout",
     "output_type": "stream",
     "text": [
      "Hello\n"
     ]
    }
   ],
   "source": [
    "print(\"Hello\")"
   ]
  },
  {
   "cell_type": "code",
   "execution_count": 2,
   "id": "d7bac9c9-af8c-44dd-9790-7cf289f0dbe1",
   "metadata": {},
   "outputs": [
    {
     "data": {
      "text/plain": [
       "3"
      ]
     },
     "execution_count": 2,
     "metadata": {},
     "output_type": "execute_result"
    }
   ],
   "source": [
    "a = 1\n",
    "b = '2'\n",
    "a + int(b) #문자 + 숫자 불가능"
   ]
  },
  {
   "cell_type": "code",
   "execution_count": null,
   "id": "38f5910a-b708-4ab9-a10f-b4a8ecc4d1b8",
   "metadata": {},
   "outputs": [],
   "source": [
    "##for i in range(100000000000000000000000):\n",
    "    #print(i)\n",
    "# 중지 : kernel > 다양한 restart 기능이나 shotdown 기능"
   ]
  },
  {
   "cell_type": "markdown",
   "id": "1bb72a1c-b5a0-4a87-a1da-f4e0bfbbf4fc",
   "metadata": {},
   "source": [
    "# 2. ESC키 누르고 핫키\n",
    "- dd : 셀 삭제\n",
    "- a : 윗 셀 추가\n",
    "- b : 아랫 셀 추카\n",
    "- m : 마크다운 셀로 전환\n",
    "- y : 코드 셀로 전환"
   ]
  },
  {
   "cell_type": "markdown",
   "id": "f1454fe8-554a-4331-aa62-2628d248fd2a",
   "metadata": {
    "jp-MarkdownHeadingCollapsed": true
   },
   "source": [
    "# 3. 마크다운이란?\n",
    "    - 코드와 함께 문서화 할 수 있다.\n",
    "\n",
    "```\n",
    "    여러줄 설명은 \n",
    "    줄바꿈으로 할 수 있습니다.\n",
    "```"
   ]
  },
  {
   "cell_type": "markdown",
   "id": "8d6aa59c-c48f-4c17-8ce0-ff8b217df0ad",
   "metadata": {},
   "source": [
    "# 4. Table of Contents\n",
    "    * View > Table of Contents\n"
   ]
  },
  {
   "cell_type": "code",
   "execution_count": null,
   "id": "46f23133-db91-45fc-ad4e-90c04f0f46a6",
   "metadata": {},
   "outputs": [],
   "source": [
    "!dir #주피터노트북에서 !는 cmd 명령어 수행 가능"
   ]
  },
  {
   "cell_type": "code",
   "execution_count": null,
   "id": "138374d6-8ca9-4be7-9d07-af17bc6facfb",
   "metadata": {},
   "outputs": [],
   "source": [
    "# Settings > JupyterLab Theme > JupyterLab Dark "
   ]
  },
  {
   "cell_type": "code",
   "execution_count": null,
   "id": "2f10c4d1-cb69-435a-895e-46dcf4f8c644",
   "metadata": {},
   "outputs": [],
   "source": []
  }
 ],
 "metadata": {
  "kernelspec": {
   "display_name": "Python 3 (ipykernel)",
   "language": "python",
   "name": "python3"
  },
  "language_info": {
   "codemirror_mode": {
    "name": "ipython",
    "version": 3
   },
   "file_extension": ".py",
   "mimetype": "text/x-python",
   "name": "python",
   "nbconvert_exporter": "python",
   "pygments_lexer": "ipython3",
   "version": "3.11.7"
  }
 },
 "nbformat": 4,
 "nbformat_minor": 5
}
