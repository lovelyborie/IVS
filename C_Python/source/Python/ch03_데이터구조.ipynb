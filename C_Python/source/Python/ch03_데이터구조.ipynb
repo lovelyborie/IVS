{
 "cells": [
  {
   "cell_type": "markdown",
   "id": "a3dac64a-23fa-43c0-8fd6-85a13fb62f81",
   "metadata": {},
   "source": [
    "<font size =\"8\" color = \"red\"><b>ch03. 데이터구조</b></font>\n",
    "- 리스트 [] , 튜플 () , 딕셔너리{구조체와 유사} , 셋(집합)"
   ]
  },
  {
   "cell_type": "markdown",
   "id": "041258e1-0580-4892-bd2c-1b240b48ff28",
   "metadata": {},
   "source": [
    "# 1절 리스트"
   ]
  },
  {
   "cell_type": "markdown",
   "id": "fd591113-1688-4bf3-b4ea-601f1779863e",
   "metadata": {},
   "source": [
    "## 1.1 리스트 만들기\n",
    "- [] 이용\n",
    "- 인덱스 : 0부터 시작. -1은 맨 마지막 인덱스\n",
    "- 슬라이싱 : [from:to:step] 을 이용하여 추출"
   ]
  },
  {
   "cell_type": "code",
   "execution_count": 2,
   "id": "aafdf6d2-bc5f-4d6a-874d-7b44d51a3aad",
   "metadata": {},
   "outputs": [
    {
     "data": {
      "text/plain": [
       "list"
      ]
     },
     "execution_count": 2,
     "metadata": {},
     "output_type": "execute_result"
    }
   ],
   "source": [
    "fruits = ['banana','apple','orange','grape',0]\n",
    "type(fruits)"
   ]
  },
  {
   "cell_type": "code",
   "execution_count": 3,
   "id": "c9282003-b768-4345-9d48-ea0a2f000251",
   "metadata": {},
   "outputs": [
    {
     "name": "stdout",
     "output_type": "stream",
     "text": [
      "['banana', 'apple', 'orange', 'grape', 0]\n"
     ]
    }
   ],
   "source": [
    "print(fruits)"
   ]
  },
  {
   "cell_type": "code",
   "execution_count": 6,
   "id": "7dadbd61-6b5c-42b0-8e1c-d8ecbc4761a6",
   "metadata": {},
   "outputs": [
    {
     "name": "stdout",
     "output_type": "stream",
     "text": [
      "banana\n"
     ]
    }
   ],
   "source": [
    "print(fruits[0])"
   ]
  },
  {
   "cell_type": "code",
   "execution_count": 7,
   "id": "65b466a1-92d3-4a9e-aa03-ccd4fe19d765",
   "metadata": {},
   "outputs": [
    {
     "name": "stdout",
     "output_type": "stream",
     "text": [
      "banana\n",
      "apple\n",
      "orange\n",
      "grape\n",
      "0\n"
     ]
    }
   ],
   "source": [
    "for fruit in fruits :\n",
    "    print(fruit)"
   ]
  },
  {
   "cell_type": "code",
   "execution_count": 10,
   "id": "39aa4a0a-97eb-4ca6-b7e6-a253a24ecde5",
   "metadata": {},
   "outputs": [
    {
     "data": {
      "text/plain": [
       "range(0, 5)"
      ]
     },
     "execution_count": 10,
     "metadata": {},
     "output_type": "execute_result"
    }
   ],
   "source": [
    "range(5)"
   ]
  },
  {
   "cell_type": "code",
   "execution_count": 13,
   "id": "629ecd92-40bf-4055-8022-dd9f77128c23",
   "metadata": {},
   "outputs": [
    {
     "data": {
      "text/plain": [
       "[0, 1, 2, 3, 4]"
      ]
     },
     "execution_count": 13,
     "metadata": {},
     "output_type": "execute_result"
    }
   ],
   "source": [
    "list(range(len(fruits))) # list fruits 요소의 갯수"
   ]
  },
  {
   "cell_type": "code",
   "execution_count": 14,
   "id": "687cc20e-7671-4ae0-81f1-335868f7c55b",
   "metadata": {},
   "outputs": [
    {
     "name": "stdout",
     "output_type": "stream",
     "text": [
      "0번째 과일은 banana\n",
      "1번째 과일은 apple\n",
      "2번째 과일은 orange\n",
      "3번째 과일은 grape\n",
      "4번째 과일은 0\n"
     ]
    }
   ],
   "source": [
    "for i in [0,1,2,3,4]:\n",
    "    print(\"{}번째 과일은 {}\".format(i,fruits[i]))"
   ]
  },
  {
   "cell_type": "code",
   "execution_count": 17,
   "id": "6d558250-9b6e-47f8-ad2a-f2fb380ed732",
   "metadata": {},
   "outputs": [
    {
     "name": "stdout",
     "output_type": "stream",
     "text": [
      "0번째 과일은 banana\n",
      "1번째 과일은 apple\n",
      "2번째 과일은 orange\n",
      "3번째 과일은 grape\n",
      "4번째 과일은 0\n"
     ]
    }
   ],
   "source": [
    "for i in range(len(fruits)) :\n",
    "    print(\"{}번째 과일은 {}\".format(i,fruits[i]))"
   ]
  },
  {
   "cell_type": "code",
   "execution_count": 18,
   "id": "d85fff0b-d964-499f-82ee-dcc84db246d5",
   "metadata": {},
   "outputs": [
    {
     "name": "stdout",
     "output_type": "stream",
     "text": [
      "0번재 과일은 banana\n",
      "1번재 과일은 apple\n",
      "2번재 과일은 orange\n",
      "3번재 과일은 grape\n",
      "4번재 과일은 0\n"
     ]
    }
   ],
   "source": [
    "#ppt 19page 참조\n",
    "for idx,value in enumerate(fruits):\n",
    "    print(\"{}번재 과일은 {}\".format(idx,value))"
   ]
  },
  {
   "cell_type": "markdown",
   "id": "9cbc7f5e-68e2-46ee-a7f1-61c5dc5970a6",
   "metadata": {},
   "source": [
    "## 1.2 기본정보 조회"
   ]
  },
  {
   "cell_type": "code",
   "execution_count": 21,
   "id": "7c330302-456b-415a-bca1-a9ab55814149",
   "metadata": {},
   "outputs": [
    {
     "name": "stdout",
     "output_type": "stream",
     "text": [
      "요소의 수 : 5\n",
      "최소값 :  1\n",
      "최대값 :  5\n"
     ]
    }
   ],
   "source": [
    "numbers = [1,2,3,4,5]\n",
    "print(\"요소의 수 : {}\".format(len(numbers)))\n",
    "print(\"최소값 : \",min(numbers))\n",
    "print(\"최대값 : \",max(numbers))"
   ]
  },
  {
   "cell_type": "markdown",
   "id": "18f36e53-7416-4499-81bc-89f3e3db5ad9",
   "metadata": {},
   "source": [
    "## 1.3 요소 추가"
   ]
  },
  {
   "cell_type": "code",
   "execution_count": 22,
   "id": "8072bac9-cc9f-468f-b89d-26e6113667c6",
   "metadata": {},
   "outputs": [],
   "source": [
    "# C\n",
    "#int arr[3]; => 배열 크기 3 은 불변"
   ]
  },
  {
   "cell_type": "markdown",
   "id": "c13e92e8-4a73-4cee-8057-68752e8ea0ed",
   "metadata": {},
   "source": [
    "```\n",
    "Python\n",
    "\n",
    "+ 두 리스트를 연결\n",
    "리스트*n : 리스트를 n만큼 반복\n",
    "append() : 요소 뒤에 추가\n",
    "extend() : 리스트의 요소별로 뒤에 추가\n",
    "\n",
    "```"
   ]
  },
  {
   "cell_type": "code",
   "execution_count": 26,
   "id": "c0acde95-df21-4e14-a657-6116227e5e64",
   "metadata": {},
   "outputs": [
    {
     "data": {
      "text/plain": [
       "[1, 2, 3, 1, 2, 3]"
      ]
     },
     "execution_count": 26,
     "metadata": {},
     "output_type": "execute_result"
    }
   ],
   "source": [
    "numbers = [1,2,3]\n",
    "numbers = numbers + numbers\n",
    "numbers"
   ]
  },
  {
   "cell_type": "code",
   "execution_count": 27,
   "id": "27cf375a-026b-451b-a397-b6f53392ed92",
   "metadata": {},
   "outputs": [
    {
     "name": "stdout",
     "output_type": "stream",
     "text": [
      "[1, 2, 3, 1, 2, 3, 1, 2, 3]\n"
     ]
    }
   ],
   "source": [
    "numbers = [1,2,3]\n",
    "print(numbers * 3)"
   ]
  },
  {
   "cell_type": "code",
   "execution_count": 31,
   "id": "91c7ee97-9e2f-464f-a5b2-22e968821a31",
   "metadata": {},
   "outputs": [
    {
     "data": {
      "text/plain": [
       "[1, 2, 3, 4]"
      ]
     },
     "execution_count": 31,
     "metadata": {},
     "output_type": "execute_result"
    }
   ],
   "source": [
    "numbers = [1,2,3]\n",
    "numbers.append(4)\n",
    "numbers"
   ]
  },
  {
   "cell_type": "code",
   "execution_count": 35,
   "id": "b1b5b6fa-4f44-4cae-826a-6a36fd4eab0d",
   "metadata": {},
   "outputs": [
    {
     "data": {
      "text/plain": [
       "[1, 2, 3, 4, [5, 6]]"
      ]
     },
     "execution_count": 35,
     "metadata": {},
     "output_type": "execute_result"
    }
   ],
   "source": [
    "numbers = [1,2,3,4]\n",
    "num = [5,6]\n",
    "#numbers를 [1,2,3,4,5,6] vs [1,2,3,4,[5,6]]\n",
    "numbers.append(num)\n",
    "numbers"
   ]
  },
  {
   "cell_type": "code",
   "execution_count": 34,
   "id": "7d695a92-c1d1-4136-9b71-b2be0a33aa07",
   "metadata": {},
   "outputs": [
    {
     "data": {
      "text/plain": [
       "[1, 2, 3, 4, 5, 6]"
      ]
     },
     "execution_count": 34,
     "metadata": {},
     "output_type": "execute_result"
    }
   ],
   "source": [
    "numbers = [1,2,3,4]\n",
    "num = [5,6]\n",
    "numbers.extend(num)\n",
    "numbers"
   ]
  },
  {
   "cell_type": "code",
   "execution_count": 36,
   "id": "a0544da8-5c35-4e00-bbdb-de9991f9d322",
   "metadata": {},
   "outputs": [
    {
     "data": {
      "text/plain": [
       "[1, 2, 3, 4, 'hello']"
      ]
     },
     "execution_count": 36,
     "metadata": {},
     "output_type": "execute_result"
    }
   ],
   "source": [
    "numbers = [1,2,3,4]\n",
    "numbers.append(\"hello\")\n",
    "numbers"
   ]
  },
  {
   "cell_type": "code",
   "execution_count": 37,
   "id": "dddf7cf0-8fd0-4a03-a3b3-c0380649977c",
   "metadata": {},
   "outputs": [
    {
     "data": {
      "text/plain": [
       "[1, 2, 3, 4, 'h', 'e', 'l', 'l', 'o']"
      ]
     },
     "execution_count": 37,
     "metadata": {},
     "output_type": "execute_result"
    }
   ],
   "source": [
    "numbers = [1,2,3,4]\n",
    "numbers.extend(\"hello\")\n",
    "numbers"
   ]
  },
  {
   "cell_type": "markdown",
   "id": "84917b67-1be2-4e93-bf4e-51ec46dd934f",
   "metadata": {},
   "source": [
    "## 1.4 인덱싱 \n",
    "- index(찾고자하는 값,1) : 찾고자하는 값이 1번인덱스부터 찾아 그 위치를 반환\n",
    "- count(찾고자하는 값) : 찾고자하는 값이 몇번나오는지 counter"
   ]
  },
  {
   "cell_type": "code",
   "execution_count": 41,
   "id": "754a549c-cf35-4478-9b05-67dd33b7d1b5",
   "metadata": {},
   "outputs": [
    {
     "name": "stdout",
     "output_type": "stream",
     "text": [
      "2가 몇개인지 : 2\n",
      "4가 몇개인지 : 0\n"
     ]
    }
   ],
   "source": [
    "numbers = [1,2,3,[1,2,3],1,2,3]\n",
    "print(\"2가 몇개인지 : {}\".format(numbers.count(2)))\n",
    "print(\"4가 몇개인지 : {}\".format(numbers.count(4)))"
   ]
  },
  {
   "cell_type": "code",
   "execution_count": 43,
   "id": "2fed1488-0948-4a9c-9937-44e0b1fa86e5",
   "metadata": {},
   "outputs": [
    {
     "data": {
      "text/plain": [
       "5"
      ]
     },
     "execution_count": 43,
     "metadata": {},
     "output_type": "execute_result"
    }
   ],
   "source": [
    "numbers.index(2,3) #3번째 index부터 2가 처음나오는 인덱스를 반환"
   ]
  },
  {
   "cell_type": "code",
   "execution_count": 42,
   "id": "49c3a688-1bbb-4ea0-ad9f-880c543a4a7d",
   "metadata": {},
   "outputs": [
    {
     "data": {
      "text/plain": [
       "True"
      ]
     },
     "execution_count": 42,
     "metadata": {},
     "output_type": "execute_result"
    }
   ],
   "source": [
    "2 in numbers"
   ]
  },
  {
   "cell_type": "markdown",
   "id": "adaf1943-9762-4a6e-ac02-aef072257cd1",
   "metadata": {},
   "source": [
    "## 1.5 리스트의 원하는 내용만 추출\n",
    "- 슬라이싱 [from:to:step]\n",
    "- 리스트 컴프리헨션을 이용"
   ]
  },
  {
   "cell_type": "code",
   "execution_count": 44,
   "id": "f21bc023-0bd6-4d82-a285-0596db4be930",
   "metadata": {},
   "outputs": [
    {
     "data": {
      "text/plain": [
       "[20, 19, 18, 13, 12, 10, 9, 5, 3, 1]"
      ]
     },
     "execution_count": 44,
     "metadata": {},
     "output_type": "execute_result"
    }
   ],
   "source": [
    "numbers = [1,3,5,9,10,12,13,18,19,20]\n",
    "numbers[::-1]"
   ]
  },
  {
   "cell_type": "code",
   "execution_count": 45,
   "id": "8beafe70-2cc2-4505-919b-851a6fc89059",
   "metadata": {},
   "outputs": [
    {
     "data": {
      "text/plain": [
       "[1, 5, 10, 13, 19]"
      ]
     },
     "execution_count": 45,
     "metadata": {},
     "output_type": "execute_result"
    }
   ],
   "source": [
    "numbers[::2] #인덱스가 짝수인 값을 추추로"
   ]
  },
  {
   "cell_type": "code",
   "execution_count": 46,
   "id": "746e7458-c253-4896-a062-e84be142a7c8",
   "metadata": {},
   "outputs": [
    {
     "data": {
      "text/plain": [
       "[10, 12, 18, 20]"
      ]
     },
     "execution_count": 46,
     "metadata": {},
     "output_type": "execute_result"
    }
   ],
   "source": [
    "#값이 짝수인 데이터만 추출\n",
    "result = []\n",
    "for num in numbers :\n",
    "    if (num%2 == 0) :\n",
    "        result.append(num)\n",
    "result"
   ]
  },
  {
   "cell_type": "code",
   "execution_count": 49,
   "id": "c577be5b-1b13-4255-b46a-119819bda143",
   "metadata": {},
   "outputs": [
    {
     "data": {
      "text/plain": [
       "[10, 12, 18, 20]"
      ]
     },
     "execution_count": 49,
     "metadata": {},
     "output_type": "execute_result"
    }
   ],
   "source": [
    "result = [num for num in numbers if num%2 ==0] #리스트 컴프리헨션\n",
    "result"
   ]
  },
  {
   "cell_type": "code",
   "execution_count": 53,
   "id": "630c6219-cecb-4d47-8f65-420df284da00",
   "metadata": {},
   "outputs": [
    {
     "data": {
      "text/plain": [
       "[1, 9, 100]"
      ]
     },
     "execution_count": 53,
     "metadata": {},
     "output_type": "execute_result"
    }
   ],
   "source": [
    "# numbers 리스트의 제곱값을 리스트로 생성하여라(컴프리헨션이용)\n",
    "numbers = [1,3,10]\n",
    "result = []\n",
    "# for num in numbers :\n",
    "#     result.append(num**2)\n",
    "result = [num**2 for num in numbers]\n",
    "result"
   ]
  },
  {
   "cell_type": "code",
   "execution_count": 55,
   "id": "c3ccd1ab-69c4-47c6-9106-504ced49dc87",
   "metadata": {},
   "outputs": [
    {
     "data": {
      "text/plain": [
       "['orange', 'apple', 'mango']"
      ]
     },
     "execution_count": 55,
     "metadata": {},
     "output_type": "execute_result"
    }
   ],
   "source": [
    "# 과일의 글자가 5글자 이상인 과일 추출하세요\n",
    "fruits = ['orange','apple','mango','kiwi']\n",
    "# for fruit in fruits:\n",
    "#     if len(fruit)>=5 :\n",
    "#         print(fruit)\n",
    "[fruit for fruit in fruits if len(fruit)>=5]"
   ]
  },
  {
   "cell_type": "code",
   "execution_count": 57,
   "id": "060a4657-e707-48d1-b792-daf5fa0fa36b",
   "metadata": {},
   "outputs": [
    {
     "data": {
      "text/plain": [
       "[6, 5, 5]"
      ]
     },
     "execution_count": 57,
     "metadata": {},
     "output_type": "execute_result"
    }
   ],
   "source": [
    "# 과일의 글자가 5글자 이상인 과일의 글자수를 출력하세요\n",
    "[len(fruit) for fruit in fruits if len(fruit)>=5]"
   ]
  },
  {
   "cell_type": "markdown",
   "id": "1496c0b1-e65c-4bf6-a948-c443730c7d7e",
   "metadata": {},
   "source": [
    "## 1.6 삭제하기\n",
    "- remove(data) : 해당 data가 제거\n",
    "- del 리스트변수[idx] : idx번째 요소 제거\n",
    "- pop() : 가장 마지막 인덱스 요소가 return 되고 삭제"
   ]
  },
  {
   "cell_type": "code",
   "execution_count": 60,
   "id": "431f3712-f5ca-4084-8b1a-9f98ee84355b",
   "metadata": {},
   "outputs": [
    {
     "name": "stdout",
     "output_type": "stream",
     "text": [
      "4\n",
      "[1, 2, 3]\n"
     ]
    }
   ],
   "source": [
    "numbers = [1,2,3,4]\n",
    "print(numbers.pop())\n",
    "print(numbers)"
   ]
  },
  {
   "cell_type": "code",
   "execution_count": 62,
   "id": "37ad5a61-f2d3-4e8f-8a75-f90f2d742ae0",
   "metadata": {},
   "outputs": [
    {
     "data": {
      "text/plain": [
       "[2, 3]"
      ]
     },
     "execution_count": 62,
     "metadata": {},
     "output_type": "execute_result"
    }
   ],
   "source": [
    "numbers.remove(1)\n",
    "numbers"
   ]
  },
  {
   "cell_type": "code",
   "execution_count": 63,
   "id": "933c1d86-efec-4dd8-aff5-2c80b3a46b56",
   "metadata": {},
   "outputs": [],
   "source": [
    "# numbers.remove(9) => 없는 데이터 remove시 에러"
   ]
  },
  {
   "cell_type": "code",
   "execution_count": 64,
   "id": "ed0d7fef-eac7-4f9a-bc81-f3e5d245402a",
   "metadata": {},
   "outputs": [
    {
     "name": "stdout",
     "output_type": "stream",
     "text": [
      "[3]\n"
     ]
    }
   ],
   "source": [
    "del numbers[0]\n",
    "print(numbers)"
   ]
  },
  {
   "cell_type": "code",
   "execution_count": 65,
   "id": "77a3b85d-d82f-4fe0-bd12-f4a7f80238ef",
   "metadata": {},
   "outputs": [],
   "source": [
    "del numbers #변수 자체를 없앰"
   ]
  },
  {
   "cell_type": "markdown",
   "id": "e6ef9a22-0d9a-4d16-a8b3-1368a33f204c",
   "metadata": {},
   "source": [
    "## 1.7 정렬하기"
   ]
  },
  {
   "cell_type": "code",
   "execution_count": 67,
   "id": "6e53e310-8755-4439-82fd-60898ddb6558",
   "metadata": {},
   "outputs": [
    {
     "name": "stdout",
     "output_type": "stream",
     "text": [
      "[1, 5, 5, 9, 10]\n",
      "[10, 9, 5, 5, 1]\n"
     ]
    }
   ],
   "source": [
    "numbers = [9,10,1,5,5]\n",
    "numbers.sort() #오름차순 정렬\n",
    "print(numbers)\n",
    "numbers.sort(reverse=True) #내림차순 정렬\n",
    "print(numbers)"
   ]
  },
  {
   "cell_type": "markdown",
   "id": "e4f20492-ecec-4187-8873-05b5efa86630",
   "metadata": {},
   "source": [
    "## 1.8 리스트 복제"
   ]
  },
  {
   "cell_type": "code",
   "execution_count": 68,
   "id": "e2afa48f-e79a-4e00-b42b-8bfc90259762",
   "metadata": {},
   "outputs": [
    {
     "name": "stdout",
     "output_type": "stream",
     "text": [
      "정렬전 데이터 : [1, 2, 6]\n",
      "정렬후 데이터 : [1, 2, 6]\n"
     ]
    }
   ],
   "source": [
    "numbers = [6,1,2]\n",
    "new_numbers = numbers; #얕은 복사\n",
    "numbers.sort()\n",
    "print(\"정렬전 데이터 :\" , new_numbers)  #같은 주소를 가진것이므로 똑같다\n",
    "print(\"정렬후 데이터 :\" , numbers)"
   ]
  },
  {
   "cell_type": "code",
   "execution_count": 70,
   "id": "0ed544c5-f88f-42ba-b696-234e4f7259d5",
   "metadata": {},
   "outputs": [
    {
     "name": "stdout",
     "output_type": "stream",
     "text": [
      "정렬전 데이터 : [6, 1, 2]\n",
      "정렬후 데이터 : [1, 2, 6]\n"
     ]
    }
   ],
   "source": [
    "numbers = [6,1,2]\n",
    "new_numbers = numbers.copy() #깊은 복사\n",
    "numbers.sort()\n",
    "print(\"정렬전 데이터 :\" , new_numbers)  \n",
    "print(\"정렬후 데이터 :\" , numbers)"
   ]
  },
  {
   "cell_type": "markdown",
   "id": "1a3a7c46-021a-4a03-a4ae-e862d7337a8a",
   "metadata": {},
   "source": [
    "# 2절. 튜플\n",
    "- 리스트와 유사하지만 읽기전용\n",
    "- () 이용해서 생성"
   ]
  },
  {
   "cell_type": "code",
   "execution_count": 71,
   "id": "77e7322c-9fea-4c7f-b683-8db006adf97c",
   "metadata": {},
   "outputs": [
    {
     "name": "stdout",
     "output_type": "stream",
     "text": [
      "<class 'tuple'>\n",
      "('서울', '부산', '광주', '대전')\n"
     ]
    }
   ],
   "source": [
    "city = ('서울',\"부산\",'광주','대전')\n",
    "print(type(city))\n",
    "print(city)"
   ]
  },
  {
   "cell_type": "code",
   "execution_count": 72,
   "id": "1d3e5624-04cc-458c-93a3-a3679ea4185c",
   "metadata": {},
   "outputs": [
    {
     "data": {
      "text/plain": [
       "'서울~부산~광주~대전'"
      ]
     },
     "execution_count": 72,
     "metadata": {},
     "output_type": "execute_result"
    }
   ],
   "source": [
    "'~'.join(city)"
   ]
  },
  {
   "cell_type": "code",
   "execution_count": 73,
   "id": "3a1e31f9-ab49-45e7-9524-7b723dd89400",
   "metadata": {},
   "outputs": [
    {
     "data": {
      "text/plain": [
       "list"
      ]
     },
     "execution_count": 73,
     "metadata": {},
     "output_type": "execute_result"
    }
   ],
   "source": [
    "list_=['서울']\n",
    "type(list_)"
   ]
  },
  {
   "cell_type": "code",
   "execution_count": 74,
   "id": "94cb8d98-3e76-47f9-9d63-c415f28801a4",
   "metadata": {},
   "outputs": [
    {
     "data": {
      "text/plain": [
       "str"
      ]
     },
     "execution_count": 74,
     "metadata": {},
     "output_type": "execute_result"
    }
   ],
   "source": [
    "t = ('서울')\n",
    "type(t)"
   ]
  },
  {
   "cell_type": "code",
   "execution_count": 76,
   "id": "438e2532-6ebd-4ab4-b7cb-7cd4844768ef",
   "metadata": {},
   "outputs": [
    {
     "data": {
      "text/plain": [
       "tuple"
      ]
     },
     "execution_count": 76,
     "metadata": {},
     "output_type": "execute_result"
    }
   ],
   "source": [
    "t = ('서울',) #요소가 하나은 튜플은 뒤에 컴파(,)필수\n",
    "type(t)"
   ]
  },
  {
   "cell_type": "markdown",
   "id": "1e2438e7-f978-476d-9fc4-188c0bb7132f",
   "metadata": {},
   "source": [
    "# 3절. 딕셔너리\n",
    "- 구조체와 유사\n",
    "- {}를 이용해서 생성. key-value 쌍으로\n",
    "- value는 중복 가능하나 key는 중복 불가\n",
    "- index를 이용한 참조 불가"
   ]
  },
  {
   "cell_type": "code",
   "execution_count": 79,
   "id": "91acd312-8841-4f08-89ee-236e2127abeb",
   "metadata": {},
   "outputs": [
    {
     "name": "stdout",
     "output_type": "stream",
     "text": [
      "<class 'dict'>\n",
      "{'name': '홍길동', 'address': '서울시 금천구'}\n"
     ]
    }
   ],
   "source": [
    "dic = {'name' : '홍길동', 'address' : '서울시 금천구'}\n",
    "print(type(dic))\n",
    "print(dic)"
   ]
  },
  {
   "cell_type": "code",
   "execution_count": 80,
   "id": "30128b22-efc4-44ed-952d-d79b26baeb27",
   "metadata": {},
   "outputs": [
    {
     "data": {
      "text/plain": [
       "('홍길동', '서울시 금천구')"
      ]
     },
     "execution_count": 80,
     "metadata": {},
     "output_type": "execute_result"
    }
   ],
   "source": [
    "dic['name'],dic['address']"
   ]
  },
  {
   "cell_type": "code",
   "execution_count": 81,
   "id": "358473ca-49e9-4aec-98f8-00e4af8cd11e",
   "metadata": {},
   "outputs": [],
   "source": [
    "# dic['score'] => 없으니까 에러"
   ]
  },
  {
   "cell_type": "code",
   "execution_count": 82,
   "id": "7d831247-2314-44cc-9a02-245b3a8be2f5",
   "metadata": {},
   "outputs": [
    {
     "data": {
      "text/plain": [
       "('홍길동', '서울시 금천구', None)"
      ]
     },
     "execution_count": 82,
     "metadata": {},
     "output_type": "execute_result"
    }
   ],
   "source": [
    "dic.get('name'),dic.get('address'),dic.get('score')"
   ]
  },
  {
   "cell_type": "code",
   "execution_count": 84,
   "id": "c4b54306-2b8c-4046-a53e-a260b29a0f11",
   "metadata": {},
   "outputs": [
    {
     "name": "stdout",
     "output_type": "stream",
     "text": [
      "{'name': '홍길동', 'address': '서울시 금천구', 'score': 100, 'sport': 'sleep'}\n"
     ]
    }
   ],
   "source": [
    "# 수정\n",
    "dic['score'] = 100\n",
    "dic['sport'] = 'sleep'\n",
    "print(dic)"
   ]
  },
  {
   "cell_type": "code",
   "execution_count": 86,
   "id": "d08898fb-0bc4-4bd2-84c1-a8a044eed6f1",
   "metadata": {},
   "outputs": [
    {
     "data": {
      "text/plain": [
       "'sleep'"
      ]
     },
     "execution_count": 86,
     "metadata": {},
     "output_type": "execute_result"
    }
   ],
   "source": [
    "#제거\n",
    "dic.pop('sport')"
   ]
  },
  {
   "cell_type": "code",
   "execution_count": 87,
   "id": "7846238a-591a-410d-abda-6b884c9ff691",
   "metadata": {},
   "outputs": [
    {
     "data": {
      "text/plain": [
       "{'name': '홍길동', 'address': '서울시 금천구', 'score': 100}"
      ]
     },
     "execution_count": 87,
     "metadata": {},
     "output_type": "execute_result"
    }
   ],
   "source": [
    "dic"
   ]
  },
  {
   "cell_type": "code",
   "execution_count": 88,
   "id": "04d0e31c-06cc-4ffa-a274-8618af3bcd32",
   "metadata": {},
   "outputs": [
    {
     "name": "stdout",
     "output_type": "stream",
     "text": [
      "name\n",
      "address\n",
      "score\n"
     ]
    }
   ],
   "source": [
    "for data in dic :  \n",
    "    print(data) #key 값이 도룰,value (x)"
   ]
  },
  {
   "cell_type": "code",
   "execution_count": 91,
   "id": "6b3e67d5-212b-4e92-b016-6463e660a0aa",
   "metadata": {},
   "outputs": [
    {
     "name": "stdout",
     "output_type": "stream",
     "text": [
      "0 name\n",
      "1 address\n",
      "2 score\n"
     ]
    }
   ],
   "source": [
    "#리스트 방식(튜플 셋)과 다름\n",
    "for idx,value in enumerate(dic) :\n",
    "    print(idx,value)"
   ]
  },
  {
   "cell_type": "code",
   "execution_count": 92,
   "id": "8a1d19d2-49cb-4c6a-9c9a-318f2b5ee927",
   "metadata": {},
   "outputs": [
    {
     "data": {
      "text/plain": [
       "dict_keys(['name', 'address', 'score'])"
      ]
     },
     "execution_count": 92,
     "metadata": {},
     "output_type": "execute_result"
    }
   ],
   "source": [
    "dic.keys()"
   ]
  },
  {
   "cell_type": "code",
   "execution_count": 93,
   "id": "4edf121d-f475-4d64-a534-06a59cc335f1",
   "metadata": {},
   "outputs": [
    {
     "data": {
      "text/plain": [
       "dict_values(['홍길동', '서울시 금천구', 100])"
      ]
     },
     "execution_count": 93,
     "metadata": {},
     "output_type": "execute_result"
    }
   ],
   "source": [
    "dic.values()"
   ]
  },
  {
   "cell_type": "code",
   "execution_count": 94,
   "id": "40b8b332-57c4-4b74-92d0-2fc21ef1a752",
   "metadata": {},
   "outputs": [
    {
     "data": {
      "text/plain": [
       "dict_items([('name', '홍길동'), ('address', '서울시 금천구'), ('score', 100)])"
      ]
     },
     "execution_count": 94,
     "metadata": {},
     "output_type": "execute_result"
    }
   ],
   "source": [
    "dic.items()"
   ]
  },
  {
   "cell_type": "code",
   "execution_count": 95,
   "id": "227559e8-c72b-4ee1-8f4c-4d1121879788",
   "metadata": {},
   "outputs": [
    {
     "name": "stdout",
     "output_type": "stream",
     "text": [
      "홍길동\n",
      "서울시 금천구\n",
      "100\n"
     ]
    }
   ],
   "source": [
    "for data in dic.values():\n",
    "    print(data)"
   ]
  },
  {
   "cell_type": "code",
   "execution_count": 98,
   "id": "950af439-80f2-4aa1-b028-649b726fb84f",
   "metadata": {},
   "outputs": [
    {
     "name": "stdout",
     "output_type": "stream",
     "text": [
      "name : 홍길동\n",
      "address : 서울시 금천구\n",
      "score : 100\n"
     ]
    }
   ],
   "source": [
    "for key,value in dic.items() :\n",
    "    print(\"{} : {}\".format(key,value))"
   ]
  },
  {
   "cell_type": "code",
   "execution_count": 100,
   "id": "1fa53cf4-e8fb-45ac-be02-4b1ef4f30a61",
   "metadata": {},
   "outputs": [
    {
     "data": {
      "text/plain": [
       "True"
      ]
     },
     "execution_count": 100,
     "metadata": {},
     "output_type": "execute_result"
    }
   ],
   "source": [
    "l = ['a','b','c']\n",
    "'c' in l"
   ]
  },
  {
   "cell_type": "code",
   "execution_count": 101,
   "id": "e7aff808-9bb3-4b2b-9e08-be589467f313",
   "metadata": {},
   "outputs": [
    {
     "data": {
      "text/plain": [
       "True"
      ]
     },
     "execution_count": 101,
     "metadata": {},
     "output_type": "execute_result"
    }
   ],
   "source": [
    "dic = {'name' : '홍길동', 'address' : '서울시 금천구'}\n",
    "'name' in dic"
   ]
  },
  {
   "cell_type": "code",
   "execution_count": 102,
   "id": "55e6563d-e140-4d17-99e6-d4a54653edec",
   "metadata": {},
   "outputs": [
    {
     "data": {
      "text/plain": [
       "False"
      ]
     },
     "execution_count": 102,
     "metadata": {},
     "output_type": "execute_result"
    }
   ],
   "source": [
    "'홍길동' in dic"
   ]
  },
  {
   "cell_type": "code",
   "execution_count": 103,
   "id": "75849633-5b25-41d3-bd3c-b5bedb80e508",
   "metadata": {},
   "outputs": [
    {
     "data": {
      "text/plain": [
       "2"
      ]
     },
     "execution_count": 103,
     "metadata": {},
     "output_type": "execute_result"
    }
   ],
   "source": [
    "len(dic) #데이터 개수"
   ]
  },
  {
   "cell_type": "markdown",
   "id": "d972c71c-9e2f-43f8-9440-e26c55f4bf2e",
   "metadata": {},
   "source": [
    "# 4절. 셋\n",
    "- 중복을 허용하지 않는 집합(순서X= 인덱스X) "
   ]
  },
  {
   "cell_type": "code",
   "execution_count": 104,
   "id": "34c548c4-9c1d-46c3-971c-dafe61528686",
   "metadata": {},
   "outputs": [
    {
     "data": {
      "text/plain": [
       "['apple', 'orange', 'banana', 'banana']"
      ]
     },
     "execution_count": 104,
     "metadata": {},
     "output_type": "execute_result"
    }
   ],
   "source": [
    "fruits = ['apple','orange','banana','banana']\n",
    "fruits"
   ]
  },
  {
   "cell_type": "code",
   "execution_count": 107,
   "id": "ccc0fbeb-5b01-4856-8090-ba1c7d909fd1",
   "metadata": {},
   "outputs": [
    {
     "name": "stdout",
     "output_type": "stream",
     "text": [
      "{'orange', 'apple', '0', 'banana'}\n",
      "<class 'set'>\n"
     ]
    }
   ],
   "source": [
    "fruits = {'apple','orange','banana','banana','0','0'} #중복안됨\n",
    "print(fruits)\n",
    "print(type(fruits))"
   ]
  },
  {
   "cell_type": "code",
   "execution_count": 108,
   "id": "371e47e0-7afd-4dbe-913a-ed46f8f606b4",
   "metadata": {},
   "outputs": [
    {
     "name": "stdout",
     "output_type": "stream",
     "text": [
      "{'apple', 'kiwi', 'banana', 'orange', '0'}\n"
     ]
    }
   ],
   "source": [
    "fruits.add('kiwi')\n",
    "print(fruits)"
   ]
  },
  {
   "cell_type": "code",
   "execution_count": 109,
   "id": "a547c4f7-88c1-4dc6-b7d2-247c3009bfa3",
   "metadata": {},
   "outputs": [
    {
     "name": "stdout",
     "output_type": "stream",
     "text": [
      "{'apple', 'kiwi', 'banana', 'orange', '0'}\n"
     ]
    }
   ],
   "source": [
    "fruits.add('banana')\n",
    "print(fruits)"
   ]
  },
  {
   "cell_type": "code",
   "execution_count": 110,
   "id": "779992dd-cd49-4db3-8a88-5c015f4c7c77",
   "metadata": {},
   "outputs": [
    {
     "name": "stdout",
     "output_type": "stream",
     "text": [
      "0:apple\n",
      "1:kiwi\n",
      "2:banana\n",
      "3:orange\n",
      "4:0\n"
     ]
    }
   ],
   "source": [
    "for i,value in enumerate(fruits) :\n",
    "    print(\"{}:{}\".format(i,value))"
   ]
  },
  {
   "cell_type": "code",
   "execution_count": 112,
   "id": "c1ecae1f-7893-4cfd-80bc-39b3a4a15644",
   "metadata": {},
   "outputs": [
    {
     "name": "stdout",
     "output_type": "stream",
     "text": [
      "apple\n",
      "kiwi\n",
      "banana\n",
      "orange\n",
      "0\n"
     ]
    }
   ],
   "source": [
    "for data in fruits :\n",
    "    print(data)"
   ]
  },
  {
   "cell_type": "markdown",
   "id": "2e963b55-83f7-4ce1-a96c-d26723539be4",
   "metadata": {},
   "source": [
    "# 5절. 연습문제"
   ]
  },
  {
   "cell_type": "code",
   "execution_count": 116,
   "id": "069557fc-e594-42d7-8e2a-9940b1015689",
   "metadata": {},
   "outputs": [],
   "source": [
    "numbers = [1,2,3,4,5,6,7,8,9,10]"
   ]
  },
  {
   "cell_type": "code",
   "execution_count": 117,
   "id": "b0147b7b-d25a-49e6-b436-119092e58cab",
   "metadata": {},
   "outputs": [
    {
     "name": "stdout",
     "output_type": "stream",
     "text": [
      "[1, 2, 3, 4, 5, 6, 7, 8, 9, 10, 100]\n"
     ]
    }
   ],
   "source": [
    "# 1. 숫자 100을 맨 뒤에 추가하세요\n",
    "numbers.append(100)\n",
    "print(numbers)"
   ]
  },
  {
   "cell_type": "code",
   "execution_count": 118,
   "id": "8dbab1ed-7820-4b6a-a22c-995af23b1406",
   "metadata": {},
   "outputs": [
    {
     "name": "stdout",
     "output_type": "stream",
     "text": [
      "[1, 2, 3, 4, 5, 6, 7, 8, 9, 10, 100, [200, 300, 400, 500]]\n"
     ]
    }
   ],
   "source": [
    "# 2. 다음 리스트를 numbers리스트 맨 뒤에 추가하세요\n",
    "data = [200,300,400,500]\n",
    "numbers.append(data)\n",
    "print(numbers)"
   ]
  },
  {
   "cell_type": "code",
   "execution_count": 120,
   "id": "c9dee3be-00f0-45c9-bfaf-cb833fa5d474",
   "metadata": {},
   "outputs": [
    {
     "name": "stdout",
     "output_type": "stream",
     "text": [
      "[1, 2, 3, 4, 5]\n"
     ]
    }
   ],
   "source": [
    "# 3. 처음 다섯 개 숫자만 출력하세요\n",
    "print(numbers[0:5:])"
   ]
  },
  {
   "cell_type": "code",
   "execution_count": 121,
   "id": "ed410f0b-5db9-483e-b740-966438543716",
   "metadata": {},
   "outputs": [
    {
     "name": "stdout",
     "output_type": "stream",
     "text": [
      "[1, 3, 5, 7, 9, 100]\n"
     ]
    }
   ],
   "source": [
    "# 4. 리스트에서 짝수 번째 데이터만 출력하세요\n",
    "print(numbers[::2])"
   ]
  },
  {
   "cell_type": "code",
   "execution_count": 122,
   "id": "45815ac1-809a-4921-9acf-b7b54bc99cb8",
   "metadata": {},
   "outputs": [
    {
     "name": "stdout",
     "output_type": "stream",
     "text": [
      "[0, 2, 0, 4, 0, 6, 0, 8, 0, 10, 0, [200, 300, 400, 500]]\n"
     ]
    }
   ],
   "source": [
    "# 5. 짝수번째 데이터를 모두 0으로 바꾸세요\n",
    "for idx,num in enumerate(numbers):\n",
    "    if(idx%2 == 0) :\n",
    "        numbers[idx] = 0;\n",
    "print(numbers)"
   ]
  },
  {
   "cell_type": "code",
   "execution_count": 125,
   "id": "bf0f5984-8f1e-4879-aae4-b6f24f776a09",
   "metadata": {},
   "outputs": [
    {
     "name": "stdout",
     "output_type": "stream",
     "text": [
      "[[200, 300, 400, 500], 0, 10, 0, 8, 0, 6, 0, 4, 0, 2, 0]\n"
     ]
    }
   ],
   "source": [
    "# 6. 데이터를 역순으로 나열하세요(내림차순 정렬이 아닙니다)\n",
    "print(numbers[-1::-1])"
   ]
  },
  {
   "cell_type": "code",
   "execution_count": 126,
   "id": "30ce7ca3-41e0-4103-9db0-dda12b6afc0b",
   "metadata": {},
   "outputs": [],
   "source": [
    "#  다음 딕셔너리 데이터가 주어졌을 경우 요구사항대로 코드를 작성하세요.\n",
    "member = {'name':\"홍길동\",\"age\":20,\"address\":\"서울시 금천구\", 'score':90}\n"
   ]
  },
  {
   "cell_type": "code",
   "execution_count": 127,
   "id": "6801e37b-3019-43f1-92f7-995e7cf1e5fd",
   "metadata": {},
   "outputs": [
    {
     "name": "stdout",
     "output_type": "stream",
     "text": [
      "서울시 금천구\n"
     ]
    }
   ],
   "source": [
    "# 7. address값을 출력하세요\n",
    "print(member.get('address'))"
   ]
  },
  {
   "cell_type": "code",
   "execution_count": 128,
   "id": "5bb780f1-d85b-48b8-aa15-f86e7b005469",
   "metadata": {},
   "outputs": [
    {
     "name": "stdout",
     "output_type": "stream",
     "text": [
      "90\n",
      "{'name': '홍길동', 'age': 20, 'address': '서울시 금천구'}\n"
     ]
    }
   ],
   "source": [
    "# 8. score 를 출력하고 member 딕셔너리에서 삭제하세요.\n",
    "print(member.pop('score'))\n",
    "print(member)"
   ]
  },
  {
   "cell_type": "code",
   "execution_count": 129,
   "id": "12cae801-524a-428f-b021-ac55d90e2173",
   "metadata": {},
   "outputs": [
    {
     "name": "stdout",
     "output_type": "stream",
     "text": [
      "서울시 서대문구\n"
     ]
    }
   ],
   "source": [
    "# 9. address를 '서울시 서대문구'로 변경하세요.\n",
    "member['address'] = '서울시 서대문구'\n",
    "print(member.get('address'))"
   ]
  },
  {
   "cell_type": "code",
   "execution_count": 133,
   "id": "f0afa84b-b3e9-43ff-8d7e-8c845f408a0f",
   "metadata": {},
   "outputs": [
    {
     "name": "stdout",
     "output_type": "stream",
     "text": [
      "['홍길동', 20, '서울시 서대문구']\n",
      "<class 'list'>\n"
     ]
    }
   ],
   "source": [
    "# 10. member 딕셔너리 데이터의 값을 리스트로 출력하세요\n",
    "print(list(member.values()))\n",
    "print(type(list(member.values())))"
   ]
  }
 ],
 "metadata": {
  "kernelspec": {
   "display_name": "Python 3 (ipykernel)",
   "language": "python",
   "name": "python3"
  },
  "language_info": {
   "codemirror_mode": {
    "name": "ipython",
    "version": 3
   },
   "file_extension": ".py",
   "mimetype": "text/x-python",
   "name": "python",
   "nbconvert_exporter": "python",
   "pygments_lexer": "ipython3",
   "version": "3.11.7"
  }
 },
 "nbformat": 4,
 "nbformat_minor": 5
}
