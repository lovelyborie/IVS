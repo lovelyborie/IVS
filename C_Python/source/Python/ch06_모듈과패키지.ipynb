{
 "cells": [
  {
   "cell_type": "markdown",
   "id": "77673cf8-391c-40b1-9064-fb0341120257",
   "metadata": {},
   "source": [
    "<font size = '7' color = 'red'><b>ch06 모듈과 패키지</b>"
   ]
  },
  {
   "cell_type": "markdown",
   "id": "973a3016-f1a5-4ede-97e6-0d17bfcc8f24",
   "metadata": {
    "jp-MarkdownHeadingCollapsed": true
   },
   "source": [
    "# 1절 모듈 사용하기\n",
    "- 모듈은 함수, 변수 , 클래스가 담긴 파일(*.py)\n",
    "- 파이썬 표준 모듈 200여개\n",
    "- 표준 모듈 외의 모듈 사용하려면 라이브러리를 설치 : \"pip install 라이브러리명\"\n",
    "  "
   ]
  },
  {
   "cell_type": "code",
   "execution_count": 20,
   "id": "f431a53a-9143-48fc-b3f9-aea184665f9a",
   "metadata": {},
   "outputs": [],
   "source": [
    "import pandas as pd\n",
    "#패키지 => 폴더"
   ]
  },
  {
   "cell_type": "markdown",
   "id": "4fa097b7-46cb-4734-b641-93643e4845e0",
   "metadata": {},
   "source": [
    "# 2절 사용자 정의 모듈\n",
    "- 모듈을 가져오는순서 (1)표준모듈 (2)sys.path변수에 저장된 경로"
   ]
  },
  {
   "cell_type": "code",
   "execution_count": 4,
   "id": "cf18163c-daf8-4d28-85f1-35a30fb92730",
   "metadata": {},
   "outputs": [
    {
     "data": {
      "text/plain": [
       "['C:\\\\IVS\\\\C_Python\\\\source\\\\Python',\n",
       " 'C:\\\\Users\\\\USER\\\\anaconda3\\\\python311.zip',\n",
       " 'C:\\\\Users\\\\USER\\\\anaconda3\\\\DLLs',\n",
       " 'C:\\\\Users\\\\USER\\\\anaconda3\\\\Lib',\n",
       " 'C:\\\\Users\\\\USER\\\\anaconda3',\n",
       " '',\n",
       " 'C:\\\\Users\\\\USER\\\\anaconda3\\\\Lib\\\\site-packages',\n",
       " 'C:\\\\Users\\\\USER\\\\anaconda3\\\\Lib\\\\site-packages\\\\win32',\n",
       " 'C:\\\\Users\\\\USER\\\\anaconda3\\\\Lib\\\\site-packages\\\\win32\\\\lib',\n",
       " 'C:\\\\Users\\\\USER\\\\anaconda3\\\\Lib\\\\site-packages\\\\Pythonwin',\n",
       " 'C:\\\\IVS\\\\C_Python\\\\source\\\\pylib',\n",
       " 'C:\\\\IVS\\\\C_Python\\\\source\\\\pylib']"
      ]
     },
     "execution_count": 4,
     "metadata": {},
     "output_type": "execute_result"
    }
   ],
   "source": [
    "import sys\n",
    "sys.path.append(\"C:\\\\IVS\\\\C_Python\\\\source\\\\pylib\")\n",
    "sys.path"
   ]
  },
  {
   "cell_type": "code",
   "execution_count": 18,
   "id": "c520cd4d-721d-4ce6-93c3-c9a692742bd5",
   "metadata": {},
   "outputs": [
    {
     "data": {
      "text/plain": [
       "'\\n1. import A : A모듈을 가져옴\\n2. import A as B : A 모듈을 B이름으로 가져옴\\n3. from A import B : A 모듈안의 B함수를 가져옴\\n4. from A import B as C : A 모듈안의 B함수를 C이름으로 가져옴\\n5. from A.B import C : A 패키지안의 B모듈의 C 함수를 가져옴\\n'"
      ]
     },
     "execution_count": 18,
     "metadata": {},
     "output_type": "execute_result"
    }
   ],
   "source": [
    "'''\n",
    "1. import A : A모듈을 가져옴\n",
    "2. import A as B : A 모듈을 B이름으로 가져옴\n",
    "3. from A import B : A 모듈안의 B함수를 가져옴\n",
    "4. from A import B as C : A 모듈안의 B함수를 C이름으로 가져옴\n",
    "5. from A.B import C : A 패키지안의 B모듈의 C 함수를 가져옴\n",
    "6. from A.B import C as D : A 패키지안의 B모듈의 C 함수를 D이름으로 가져옴\n",
    "'''"
   ]
  },
  {
   "cell_type": "code",
   "execution_count": 6,
   "id": "4cda8eb2-dfc3-49bc-85fc-b87752e744bc",
   "metadata": {},
   "outputs": [],
   "source": [
    "#1. import A\n",
    "import fibonacci"
   ]
  },
  {
   "cell_type": "code",
   "execution_count": 7,
   "id": "b34982f9-0fd6-4373-acb4-58b02bef340f",
   "metadata": {},
   "outputs": [
    {
     "name": "stdout",
     "output_type": "stream",
     "text": [
      "0. 1. 1. 2. 3. 5. 8. 13. 21. 34. 55. 89. \n"
     ]
    }
   ],
   "source": [
    "fibonacci.fibonacci(100)"
   ]
  },
  {
   "cell_type": "code",
   "execution_count": 8,
   "id": "b4cdb8dc-b34d-4b60-a615-d2baaf96b1ae",
   "metadata": {},
   "outputs": [],
   "source": [
    "del fibonacci"
   ]
  },
  {
   "cell_type": "code",
   "execution_count": 9,
   "id": "de267ade-bb57-4c31-aeca-f5f67ce62d9b",
   "metadata": {},
   "outputs": [],
   "source": [
    "#2. import A as B : A 모듈을 B이름으로 가져옴\n",
    "import fibonacci as fibo"
   ]
  },
  {
   "cell_type": "code",
   "execution_count": 10,
   "id": "6fe4f35b-368b-49f4-9fbb-c1edc41bf0ac",
   "metadata": {},
   "outputs": [
    {
     "name": "stdout",
     "output_type": "stream",
     "text": [
      "0. 1. 1. 2. 3. 5. 8. 13. 21. 34. 55. 89. \n"
     ]
    }
   ],
   "source": [
    "fibo.fibonacci(100)"
   ]
  },
  {
   "cell_type": "code",
   "execution_count": 11,
   "id": "a1be5fbe-e3c2-4f02-8df5-72776543cce2",
   "metadata": {},
   "outputs": [],
   "source": [
    "del fibo"
   ]
  },
  {
   "cell_type": "code",
   "execution_count": 12,
   "id": "332497d7-f500-45eb-bee3-73d98e84f1dc",
   "metadata": {},
   "outputs": [],
   "source": [
    "#3. from A import B : A 모듈안의 B함수를 가져옴\n",
    "from fibonacci import fibonacci"
   ]
  },
  {
   "cell_type": "code",
   "execution_count": 13,
   "id": "ae9d18c9-cefc-4ab5-8b67-152a6892db04",
   "metadata": {},
   "outputs": [
    {
     "name": "stdout",
     "output_type": "stream",
     "text": [
      "0. 1. 1. 2. 3. 5. 8. 13. 21. 34. 55. 89. \n"
     ]
    }
   ],
   "source": [
    "fibonacci(100)"
   ]
  },
  {
   "cell_type": "code",
   "execution_count": 14,
   "id": "5a807266-1124-455a-91a4-3585f1ae65bf",
   "metadata": {},
   "outputs": [],
   "source": [
    "del fibonacci"
   ]
  },
  {
   "cell_type": "code",
   "execution_count": 16,
   "id": "8b23d15c-68b1-4d81-8807-3877dc83a7a6",
   "metadata": {},
   "outputs": [],
   "source": [
    "#4. from A import B as C : A 모듈안의 B함수를 C이름으로 가져옴\n",
    "from fibonacci import fibonacci as fibo"
   ]
  },
  {
   "cell_type": "code",
   "execution_count": 17,
   "id": "357c8d93-0285-492e-937c-09094ef23ac5",
   "metadata": {},
   "outputs": [
    {
     "name": "stdout",
     "output_type": "stream",
     "text": [
      "0. 1. 1. 2. 3. 5. 8. 13. 21. 34. 55. 89. \n"
     ]
    }
   ],
   "source": [
    "fibo(100)"
   ]
  },
  {
   "cell_type": "code",
   "execution_count": 21,
   "id": "81d10fcc-43b7-4275-b515-1368cba9733d",
   "metadata": {},
   "outputs": [],
   "source": [
    "import fibonacci"
   ]
  },
  {
   "cell_type": "code",
   "execution_count": 22,
   "id": "c4e07ef5-f1cc-4330-87e1-0349eea83987",
   "metadata": {},
   "outputs": [
    {
     "data": {
      "text/plain": [
       "['__builtins__',\n",
       " '__cached__',\n",
       " '__doc__',\n",
       " '__file__',\n",
       " '__loader__',\n",
       " '__name__',\n",
       " '__package__',\n",
       " '__spec__',\n",
       " 'fibonacci']"
      ]
     },
     "execution_count": 22,
     "metadata": {},
     "output_type": "execute_result"
    }
   ],
   "source": [
    "dir(fibonacci)"
   ]
  },
  {
   "cell_type": "code",
   "execution_count": null,
   "id": "81d86645-4828-4121-bd97-105eaf5e9662",
   "metadata": {},
   "outputs": [],
   "source": []
  }
 ],
 "metadata": {
  "kernelspec": {
   "display_name": "Python 3 (ipykernel)",
   "language": "python",
   "name": "python3"
  },
  "language_info": {
   "codemirror_mode": {
    "name": "ipython",
    "version": 3
   },
   "file_extension": ".py",
   "mimetype": "text/x-python",
   "name": "python",
   "nbconvert_exporter": "python",
   "pygments_lexer": "ipython3",
   "version": "3.11.7"
  }
 },
 "nbformat": 4,
 "nbformat_minor": 5
}
