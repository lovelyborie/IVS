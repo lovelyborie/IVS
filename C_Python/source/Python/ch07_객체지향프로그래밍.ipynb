{
 "cells": [
  {
   "cell_type": "markdown",
   "id": "22f0834c-1e34-46a1-b170-67960c541fe9",
   "metadata": {},
   "source": [
    "<font size = '7' color = 'red'><b>ch07 객체지향 프로그래밍</b>"
   ]
  },
  {
   "cell_type": "markdown",
   "id": "2ed75e59-653a-4647-a114-68a3b5877f92",
   "metadata": {},
   "source": [
    "# 1절 객체와 클래스\n",
    "```\n",
    "class 클래스명 (상속받을 클래스명) :\n",
    "    변수나 함수들을 선언\n",
    "```"
   ]
  },
  {
   "cell_type": "code",
   "execution_count": null,
   "id": "ea7c93e9-852f-4b36-952e-fd3afcf96759",
   "metadata": {},
   "outputs": [],
   "source": [
    "class Person :\n",
    "    \"Person 클래스는 ~~ 설명하는 독스트링\"\n",
    "    pass\n",
    "\n",
    "p1 = Person()"
   ]
  },
  {
   "cell_type": "code",
   "execution_count": 18,
   "id": "6b6d3b35-06f8-48c7-aa72-44b49b04fc22",
   "metadata": {},
   "outputs": [],
   "source": [
    "class Person :\n",
    "    'Person은 이름과 성별 멤버변수가 있는 객체 타입'\n",
    "    def __init__(self,name='홍길동',gender='남자') : #셍상지 힘스\n",
    "        self.name = name\n",
    "        self.gender = gender\n",
    "        print(\"{},{} Person 객체가 생성되었습니다.\".format(self.name,self.gender))\n",
    "\n",
    "    def print_info(self) : #self를 넣어야 작동 (객체안의 함수)\n",
    "        print(\"{}님은 {}입니다.\".format(self.name,self.gender))\n",
    "\n",
    "    def printCnt(self,cnt) :\n",
    "        for i in range (cnt) :\n",
    "            print(self.name,end ='\\t')\n",
    "\n",
    "    def __str__(self) :\n",
    "        return \"{}\\t 성별은 {}\".format(self.name,self.gender)"
   ]
  },
  {
   "cell_type": "code",
   "execution_count": 19,
   "id": "af9c3ac8-b2c9-4731-bf8f-3502214a8989",
   "metadata": {},
   "outputs": [
    {
     "name": "stdout",
     "output_type": "stream",
     "text": [
      "성춘향,여자 Person 객체가 생성되었습니다.\n"
     ]
    }
   ],
   "source": [
    "p1 = Person(\"성춘향\",\"여자\") #p1에는 주소가 들어있다 (name,gener,print_info등이 저장된 주소) 즉,reference를 가져온것"
   ]
  },
  {
   "cell_type": "code",
   "execution_count": 20,
   "id": "f6f48d38-d0cf-41f9-a704-c2e1a3f641fb",
   "metadata": {},
   "outputs": [
    {
     "name": "stdout",
     "output_type": "stream",
     "text": [
      "성춘향 여자\n"
     ]
    }
   ],
   "source": [
    "print(p1.name,p1.gender)"
   ]
  },
  {
   "cell_type": "code",
   "execution_count": 21,
   "id": "c745935d-21bb-46c2-82ad-790d8e7e6373",
   "metadata": {},
   "outputs": [
    {
     "name": "stdout",
     "output_type": "stream",
     "text": [
      "성춘향님은 여자입니다.\n"
     ]
    }
   ],
   "source": [
    "p1.print_info()"
   ]
  },
  {
   "cell_type": "code",
   "execution_count": 22,
   "id": "07df6f25-9ed1-441d-bf25-cb384c1b6d77",
   "metadata": {},
   "outputs": [
    {
     "name": "stdout",
     "output_type": "stream",
     "text": [
      "성춘향\t성춘향\t성춘향\t"
     ]
    }
   ],
   "source": [
    "p1.printCnt(3)"
   ]
  },
  {
   "cell_type": "code",
   "execution_count": 23,
   "id": "76db3e23-39d2-4f2e-b0e9-1ed3e89a7ebb",
   "metadata": {},
   "outputs": [
    {
     "name": "stdout",
     "output_type": "stream",
     "text": [
      "성춘향\t 성별은 여자\n",
      "성춘향\t 성별은 여자\n"
     ]
    }
   ],
   "source": [
    "print(p1.__str__())\n",
    "print(p1)"
   ]
  },
  {
   "cell_type": "markdown",
   "id": "f6f0c86d-060e-463b-97ac-f2ee1e420a9f",
   "metadata": {},
   "source": [
    "# 2절 상속과 재정의"
   ]
  },
  {
   "cell_type": "code",
   "execution_count": 33,
   "id": "af9af875-a1ba-4a3a-aed1-2f09e361e70b",
   "metadata": {},
   "outputs": [],
   "source": [
    "class Student(Person) :\n",
    "    'name,gender,major 멤버변수를 갖는 Student타입'\n",
    "    def __init__(self,name,gender,major):\n",
    "        #부모클래스의 생성자 함수로 name,gender 초기화\n",
    "        super().__init__()\n",
    "        self.major = major\n",
    "\n",
    "    def print_info(self) :\n",
    "        super().print_info()\n",
    "        print(\"그리고 전공은 {}입니다.\".format(self.major))\n",
    "\n",
    "    def __str__(self) :\n",
    "        return spuer().__str__() + \"그리고 전공은 {}\".format(self.major)"
   ]
  },
  {
   "cell_type": "code",
   "execution_count": 34,
   "id": "6b192a21-ba69-4724-a2cb-3f3057240883",
   "metadata": {},
   "outputs": [
    {
     "name": "stdout",
     "output_type": "stream",
     "text": [
      "홍길동,남자 Person 객체가 생성되었습니다.\n"
     ]
    }
   ],
   "source": [
    "s1 = Student(\"김철수\",'남자','컴공')"
   ]
  },
  {
   "cell_type": "code",
   "execution_count": 35,
   "id": "e9a370ad-8566-4602-8fa1-e4b993f14748",
   "metadata": {},
   "outputs": [
    {
     "name": "stdout",
     "output_type": "stream",
     "text": [
      "홍길동님은 남자입니다.\n",
      "그리고 전공은 컴공입니다.\n"
     ]
    }
   ],
   "source": [
    "s1.print_info()"
   ]
  },
  {
   "cell_type": "code",
   "execution_count": null,
   "id": "c21f4420-185c-40ec-98a8-c4fd3769ae1d",
   "metadata": {},
   "outputs": [],
   "source": []
  }
 ],
 "metadata": {
  "kernelspec": {
   "display_name": "Python 3 (ipykernel)",
   "language": "python",
   "name": "python3"
  },
  "language_info": {
   "codemirror_mode": {
    "name": "ipython",
    "version": 3
   },
   "file_extension": ".py",
   "mimetype": "text/x-python",
   "name": "python",
   "nbconvert_exporter": "python",
   "pygments_lexer": "ipython3",
   "version": "3.11.7"
  }
 },
 "nbformat": 4,
 "nbformat_minor": 5
}
