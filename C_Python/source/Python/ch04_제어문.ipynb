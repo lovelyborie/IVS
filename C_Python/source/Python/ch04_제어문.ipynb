{
 "cells": [
  {
   "cell_type": "markdown",
   "id": "554f7cdc-78bb-41b7-9ebe-380a15907ffd",
   "metadata": {},
   "source": [
    "<font size = '8' color=\"red\"> <b>ch04 제어문</b>"
   ]
  },
  {
   "cell_type": "markdown",
   "id": "e396717e-4f8d-4703-b5c1-6debf430b94b",
   "metadata": {},
   "source": [
    "- if문 , for-in문 , while문"
   ]
  },
  {
   "cell_type": "markdown",
   "id": "c22e2805-5891-49c2-98b8-57f7353fd7eb",
   "metadata": {},
   "source": [
    "# 1절 if문"
   ]
  },
  {
   "cell_type": "code",
   "execution_count": 3,
   "id": "736c40a6-1132-42e0-9af5-d1eb7a747acf",
   "metadata": {},
   "outputs": [
    {
     "name": "stdin",
     "output_type": "stream",
     "text": [
      "HongEnter your score >> 88\n"
     ]
    },
    {
     "name": "stdout",
     "output_type": "stream",
     "text": [
      "입력하신 점수는 88점이고, B등급 입니다.\n"
     ]
    }
   ],
   "source": [
    "# 점수를 입력받아 학점출력\n",
    "name = \"Hong\"\n",
    "score = int(input(name + \"Enter your score >>\"))\n",
    "if 90<=score<=100 :\n",
    "    grade = 'A'\n",
    "elif 80<=score<90 :\n",
    "    grade = 'B'\n",
    "elif 70<=score<80 :\n",
    "    grade = 'C'\n",
    "elif 60<=score<70 :\n",
    "    grade = 'D'\n",
    "elif 0<=score <60 :\n",
    "    grade = 'F'\n",
    "else :\n",
    "    grade = '유효하지 않은 점수'\n",
    "print(\"입력하신 점수는 {}점이고, {}등급 입니다.\".format(score,grade))"
   ]
  },
  {
   "cell_type": "markdown",
   "id": "610f3e18-d8d0-449e-976d-d0996e47f84c",
   "metadata": {},
   "source": [
    "# 2절 for-in 문\n",
    "```\n",
    "for 변수 in 나열이 가능한 자료형 :\n",
    "    반복할 문장1\n",
    "    반복할 문장2\n",
    "else:\n",
    "    변수에 값이 할당되지 않은 경우 한번 실행할 문장(else 구문은 선택사항)\n",
    "    for문 안에 break가 있을 경우 else블럭 수행되지않음\n",
    "```"
   ]
  },
  {
   "cell_type": "code",
   "execution_count": 4,
   "id": "8f30b7de-db2c-4600-a5f9-63a9baeede50",
   "metadata": {},
   "outputs": [
    {
     "data": {
      "text/plain": [
       "[1, 3, 5, 7, 9]"
      ]
     },
     "execution_count": 4,
     "metadata": {},
     "output_type": "execute_result"
    }
   ],
   "source": [
    "list(range(1,10,2)) #range도 나열가능한 자료"
   ]
  },
  {
   "cell_type": "code",
   "execution_count": 5,
   "id": "024ff33d-fa0b-42c8-98b3-d765f7e2491c",
   "metadata": {},
   "outputs": [
    {
     "name": "stdout",
     "output_type": "stream",
     "text": [
      "1\t3\t5\t7\t9\t\n",
      "Done\n",
      "END\n"
     ]
    }
   ],
   "source": [
    "for i in range(1,10,2) :\n",
    "    print(i,end='\\t')    \n",
    "else:\n",
    "    print(\"\\nDone\")\n",
    "print(\"END\")"
   ]
  },
  {
   "cell_type": "code",
   "execution_count": 6,
   "id": "7ac3d0c6-cca5-4dc7-98d3-ee50e49a34ae",
   "metadata": {},
   "outputs": [
    {
     "name": "stdout",
     "output_type": "stream",
     "text": [
      "1 \t\n",
      "3 \t\n",
      "5 \t\n",
      "7 \t\n",
      "9 \t\n",
      "\n",
      "Done\n",
      "END\n"
     ]
    }
   ],
   "source": [
    "for i in range(1,10,2) :\n",
    "    print(i,'\\t')    \n",
    "else:\n",
    "    print(\"\\nDone\")\n",
    "print(\"END\")"
   ]
  },
  {
   "cell_type": "code",
   "execution_count": 10,
   "id": "4b658bec-4e52-40a0-a422-26b7206a8eb6",
   "metadata": {},
   "outputs": [
    {
     "name": "stdout",
     "output_type": "stream",
     "text": [
      "2550\n"
     ]
    }
   ],
   "source": [
    "# 1~100까지 짝수의 합을 계산하고 출력하시오\n",
    "result = 0\n",
    "for i in range(2,101,2) :\n",
    "    result += i\n",
    "print(result)"
   ]
  },
  {
   "cell_type": "markdown",
   "id": "5207804c-9c1a-4ce9-b48f-86104abe6281",
   "metadata": {},
   "source": [
    "# 3절 while문\n",
    "```\n",
    "while 조건 :\n",
    "    반복문장 1\n",
    "    반복문장 2\n",
    "else :\n",
    "    조건이 거짓일 경우 한번 수행할 문장(선택사항)\n",
    "    while문 내 break를 통해서 빠져 나올때는 else블럭은 수행하지 않음\n",
    "\n",
    "```"
   ]
  },
  {
   "cell_type": "code",
   "execution_count": 12,
   "id": "0bb8b1a4-0ee7-4beb-aa76-b82a29264d6e",
   "metadata": {},
   "outputs": [
    {
     "name": "stdin",
     "output_type": "stream",
     "text": [
      "첫번째 (작은수) 정수를 입력하세요>> 1\n",
      "두번째 (큰수) 정수를 입력하세요>> 10\n"
     ]
    },
    {
     "name": "stdout",
     "output_type": "stream",
     "text": [
      "1부터 10까지 홀수들의 누적합은 25\n"
     ]
    }
   ],
   "source": [
    "# 사용자에게 두 수를 입력받아 첫번째(작은수)수 부터 두번재(큰수) 입력한 수 까지 홀수의 합 누적해서 출력\n",
    "n1 = int(input('첫번째 (작은수) 정수를 입력하세요>>'))\n",
    "n2 = int(input('두번째 (큰수) 정수를 입력하세요>>'))\n",
    "sum = 0 #누적 변수\n",
    "i = n1\n",
    "while i<=n2 :\n",
    "    if i%2 != 0 :\n",
    "        sum += i\n",
    "    i+=1\n",
    "print(\"{}부터 {}까지 홀수들의 누적합은 {}\".format(n1,n2,sum))"
   ]
  },
  {
   "cell_type": "markdown",
   "id": "b9ca4f87-1720-4d0a-afbb-a88a7ed869c7",
   "metadata": {},
   "source": [
    "# 4절 break,continue"
   ]
  },
  {
   "cell_type": "code",
   "execution_count": 15,
   "id": "341525f5-990d-455b-9ed5-2d04400a7a28",
   "metadata": {},
   "outputs": [
    {
     "name": "stdout",
     "output_type": "stream",
     "text": [
      "num=1\tnum=2\tnum=4\tnum=5\tnum=6\tnum=7\tnum=8\tnum=9\tnum=10\tnum=11\t"
     ]
    }
   ],
   "source": [
    "num = 0 \n",
    "while num<=10 :\n",
    "    num+=1\n",
    "    if num == 3 :\n",
    "        # break\n",
    "        continue\n",
    "    print(\"num={}\".format(num),end ='\\t')"
   ]
  },
  {
   "cell_type": "markdown",
   "id": "4f1a5aca-9421-4f2c-8758-1e44ef1c1b51",
   "metadata": {},
   "source": [
    "# 5절 이중 loop"
   ]
  },
  {
   "cell_type": "code",
   "execution_count": 19,
   "id": "403f57aa-d3d4-4c07-915c-58029912c9e9",
   "metadata": {},
   "outputs": [
    {
     "name": "stdout",
     "output_type": "stream",
     "text": [
      "2x1= 2\t 3x1= 3\t 4x1= 4\t 5x1= 5\t 6x1= 6\t 7x1= 7\t 8x1= 8\t 9x1= 9\t \n",
      "2x2= 4\t 3x2= 6\t 4x2= 8\t 5x2=10\t 6x2=12\t 7x2=14\t 8x2=16\t 9x2=18\t \n",
      "2x3= 6\t 3x3= 9\t 4x3=12\t 5x3=15\t 6x3=18\t 7x3=21\t 8x3=24\t 9x3=27\t \n",
      "2x4= 8\t 3x4=12\t 4x4=16\t 5x4=20\t 6x4=24\t 7x4=28\t 8x4=32\t 9x4=36\t \n",
      "2x5=10\t 3x5=15\t 4x5=20\t 5x5=25\t 6x5=30\t 7x5=35\t 8x5=40\t 9x5=45\t \n",
      "2x6=12\t 3x6=18\t 4x6=24\t 5x6=30\t 6x6=36\t 7x6=42\t 8x6=48\t 9x6=54\t \n",
      "2x7=14\t 3x7=21\t 4x7=28\t 5x7=35\t 6x7=42\t 7x7=49\t 8x7=56\t 9x7=63\t \n",
      "2x8=16\t 3x8=24\t 4x8=32\t 5x8=40\t 6x8=48\t 7x8=56\t 8x8=64\t 9x8=72\t \n",
      "2x9=18\t 3x9=27\t 4x9=36\t 5x9=45\t 6x9=54\t 7x9=63\t 8x9=72\t 9x9=81\t \n"
     ]
    }
   ],
   "source": [
    "for i in range(1,10) :\n",
    "    for j in range(2,10) :\n",
    "        print(\"{}x{}={:>2}\\t\".format(j,i,j*i),end = ' ') #:2 =>2자리정렬 > :오른쪽정렬\n",
    "    print() #개행용도"
   ]
  },
  {
   "cell_type": "markdown",
   "id": "ac48ae24-ef63-4a16-ad65-01b1a11d6fda",
   "metadata": {},
   "source": [
    "# 연습문제"
   ]
  },
  {
   "cell_type": "code",
   "execution_count": 1,
   "id": "8a0619a1-c2da-46b5-8e1a-eedfc82492f0",
   "metadata": {},
   "outputs": [
    {
     "data": {
      "text/plain": [
       "42"
      ]
     },
     "execution_count": 1,
     "metadata": {},
     "output_type": "execute_result"
    }
   ],
   "source": [
    "import random\n",
    "random.seed(7) #seed값을 같은 값으로 넣어주면 랜덤수 결과 동일\n",
    "random.randint(1,100)"
   ]
  },
  {
   "cell_type": "code",
   "execution_count": 22,
   "id": "f5fe0ff8-dd3f-4866-b727-7056a50332a1",
   "metadata": {},
   "outputs": [
    {
     "data": {
      "text/plain": [
       "'\\n1. 1~100사이의 정수를 맞추는 프로그램을 구현하시오\\n(프로그램안에 임의의 숫자가 만들어지고 그 숫자를 맞추도록 합니다)\\n방법1. 숫자가 틀리면 UP, DOWN을 알려주고 숫자를 맞추면 종료합니다.\\n방법2. 숫자가 틀리면 min~max 사이의 수라고 알려주고 숫자를 맞추면 종료합니다.\\n'"
      ]
     },
     "execution_count": 22,
     "metadata": {},
     "output_type": "execute_result"
    }
   ],
   "source": [
    "\"\"\"\n",
    "1. 1~100사이의 정수를 맞추는 프로그램을 구현하시오\n",
    "(프로그램안에 임의의 숫자가 만들어지고 그 숫자를 맞추도록 합니다)\n",
    "방법1. 숫자가 틀리면 UP, DOWN을 알려주고 숫자를 맞추면 종료합니다.\n",
    "방법2. 숫자가 틀리면 min~max 사이의 수라고 알려주고 숫자를 맞추면 종료합니다.\n",
    "\"\"\""
   ]
  },
  {
   "cell_type": "code",
   "execution_count": 6,
   "id": "f9e33066-1618-4bbc-bf4b-f8ad77f521ba",
   "metadata": {},
   "outputs": [
    {
     "name": "stdout",
     "output_type": "stream",
     "text": [
      "10\n"
     ]
    },
    {
     "name": "stdin",
     "output_type": "stream",
     "text": [
      "1~100 사이의 수를 입력하세요 >>  10\n"
     ]
    },
    {
     "name": "stdout",
     "output_type": "stream",
     "text": [
      "1 번만에 정답 !\n"
     ]
    }
   ],
   "source": [
    "ans = random.randint(1,100)\n",
    "left = 1 \n",
    "right = 100\n",
    "print(ans)\n",
    "for i in range(1,6) :\n",
    "    user = int(input(f\"{left}~{right} 사이의 수를 입력하세요 >> \"))\n",
    "    if user == ans :\n",
    "        print(\"{} 번만에 정답 !\".format(i))\n",
    "        break;\n",
    "    elif user<ans :\n",
    "        print(\"UP\")\n",
    "        left = user+1\n",
    "    elif user>ans :\n",
    "        print(\"DOWN\")\n",
    "        right = user-1\n",
    "    elif (user < left) or (user > right) :\n",
    "        print(\"{} 와 {} 사이의 수를 입력하세요\".format(left,right))\n",
    "else:\n",
    "    print(\"5번만에 예측 실패\")\n",
    "    "
   ]
  },
  {
   "cell_type": "code",
   "execution_count": 20,
   "id": "7fa8cc14-6adf-44a1-8ecd-a597817d4443",
   "metadata": {},
   "outputs": [
    {
     "name": "stdout",
     "output_type": "stream",
     "text": [
      "[5, 8, 11, 22, 27, 33]\n"
     ]
    }
   ],
   "source": [
    "start = random.randint(1,45)\n",
    "lotto = {start}\n",
    "lotto = set()\n",
    "while len(lotto)<6 :\n",
    "    lottonum = random.randint(1,45)\n",
    "    lotto.add(lottonum)\n",
    "#print(lotto)\n",
    "# list(lotto).sorted()\n",
    "\n",
    "# print(lotto)\n",
    "lotto = list(lotto)\n",
    "lotto.sort()\n",
    "print(lotto)"
   ]
  },
  {
   "cell_type": "code",
   "execution_count": null,
   "id": "843ebb14-b19d-4052-9e66-566bafb1542c",
   "metadata": {},
   "outputs": [],
   "source": []
  }
 ],
 "metadata": {
  "kernelspec": {
   "display_name": "Python 3 (ipykernel)",
   "language": "python",
   "name": "python3"
  },
  "language_info": {
   "codemirror_mode": {
    "name": "ipython",
    "version": 3
   },
   "file_extension": ".py",
   "mimetype": "text/x-python",
   "name": "python",
   "nbconvert_exporter": "python",
   "pygments_lexer": "ipython3",
   "version": "3.11.7"
  }
 },
 "nbformat": 4,
 "nbformat_minor": 5
}
