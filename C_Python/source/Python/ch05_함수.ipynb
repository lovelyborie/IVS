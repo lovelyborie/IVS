{
 "cells": [
  {
   "cell_type": "markdown",
   "id": "fb088167-32a1-4246-a1e7-f0bd36ee47b1",
   "metadata": {},
   "source": [
    "<font size ='8' color=\"red\"> <b>ch05 함수</b></font>\n",
    "- 반복해서 사용할 코드를 묵어서 구현해 놓은 것\n",
    "- 같은 이름의 함수는 덮어씀(오버로딩 불가)\n",
    "- 함수 정의(구현)\n",
    "  ```\n",
    "  def 함수명([인수1,인수2,...]):\n",
    "     명령어1\n",
    "     명령어2\n",
    "     ...\n",
    "  ```"
   ]
  },
  {
   "cell_type": "markdown",
   "id": "2b604469-f964-41eb-b7f0-ae57096d6c83",
   "metadata": {},
   "source": [
    "# 1절. 함수의 정의 및 사용(호출)"
   ]
  },
  {
   "cell_type": "markdown",
   "id": "9b8dc2bd-9f0d-4f42-b9ef-8fccc662be3c",
   "metadata": {},
   "source": [
    "## 1.1 함수정의"
   ]
  },
  {
   "cell_type": "code",
   "execution_count": null,
   "id": "ec8de1c9-fb08-4ca0-8f6e-23e5c3d3e49f",
   "metadata": {},
   "outputs": [],
   "source": [
    "def my_hello(x,msg) : #함수정의\n",
    "    for i in range(x) :\n",
    "        print(i,msg)\n",
    "    "
   ]
  },
  {
   "cell_type": "code",
   "execution_count": null,
   "id": "f08ad8a3-62a6-4e5b-9c1d-6bd0a33cb87c",
   "metadata": {},
   "outputs": [],
   "source": [
    "my_hello(2,'hi')"
   ]
  },
  {
   "cell_type": "code",
   "execution_count": null,
   "id": "c8e8d40f-d8bc-45db-99b1-e6ca4e2bf551",
   "metadata": {},
   "outputs": [],
   "source": [
    "type(my_hello) #파이썬에서 함수는 변수다"
   ]
  },
  {
   "cell_type": "code",
   "execution_count": null,
   "id": "33ce4056-996e-45a3-8537-2c77f9f69b17",
   "metadata": {},
   "outputs": [],
   "source": [
    "def my_hello(x) : #함수정의\n",
    "    for i in range(x) :\n",
    "        print(i,\"함수는 복습 필수\")"
   ]
  },
  {
   "cell_type": "code",
   "execution_count": null,
   "id": "49390b68-d49f-4362-ab55-0f47c4077c70",
   "metadata": {},
   "outputs": [],
   "source": [
    "my_hello(3)"
   ]
  },
  {
   "cell_type": "code",
   "execution_count": null,
   "id": "9010a40d-c5d6-4d58-a730-9559889b2421",
   "metadata": {},
   "outputs": [],
   "source": [
    "def my_add(num1,num2,num3=0) : #num3은 기본값을 갖는 인수\n",
    "    return num1 + num2 + num3\n",
    "print(my_add(1,2,3))"
   ]
  },
  {
   "cell_type": "code",
   "execution_count": null,
   "id": "94235a40-541a-4fe9-81b4-fc7a42298859",
   "metadata": {},
   "outputs": [],
   "source": [
    "# def my_add(num1,num2=0,num3) : \n",
    "#     기본값을 갖는 인수는 순서인수 뒤에\n",
    "#     return num1 + num2 + num3\n",
    "# print(my_add(1,2))"
   ]
  },
  {
   "cell_type": "markdown",
   "id": "8ecc9a8b-0453-4d84-8fe1-d2777858738a",
   "metadata": {},
   "source": [
    "## 1.2 docstring\n",
    "- 함수 도움말 (shift+tab)"
   ]
  },
  {
   "cell_type": "code",
   "execution_count": null,
   "id": "17eaa37b-6076-4ad6-a13f-0b38a57dd26d",
   "metadata": {},
   "outputs": [],
   "source": [
    "def fibonacci (n):\n",
    "    \"\"\"\n",
    "    매개변수로 들어온 n값 미만의 피보나치 수열을 출력하는 함수\n",
    "    ex. 인수로 10 : 0, 1, 1, 2, 3, 5, 8\n",
    "    \"\"\"\n",
    "    a,b = 0,1\n",
    "    while a<n :\n",
    "        print(a,end=\". \")\n",
    "        a,b = b,a+b\n",
    "    print() # 개행"
   ]
  },
  {
   "cell_type": "code",
   "execution_count": null,
   "id": "3d36474e-7347-48ea-9c8f-1b02522c90bc",
   "metadata": {},
   "outputs": [],
   "source": [
    "fibonacci(100)"
   ]
  },
  {
   "cell_type": "code",
   "execution_count": null,
   "id": "28279994-392e-4adf-aeee-4cb3add662c2",
   "metadata": {},
   "outputs": [],
   "source": [
    "type(fibonacci)"
   ]
  },
  {
   "cell_type": "code",
   "execution_count": null,
   "id": "0f00941f-b9f9-47cf-adf5-8f81ed0d1640",
   "metadata": {},
   "outputs": [],
   "source": [
    "fibonacci #변수니까 출력도"
   ]
  },
  {
   "cell_type": "code",
   "execution_count": null,
   "id": "f24bae81-8ef5-4653-b173-f15a4087f48e",
   "metadata": {},
   "outputs": [],
   "source": [
    "__name__"
   ]
  },
  {
   "cell_type": "code",
   "execution_count": null,
   "id": "1ada38e7-e6ba-4a15-bff9-87d247a5118e",
   "metadata": {},
   "outputs": [],
   "source": [
    "if __name__ == '__main__' :\n",
    "    fibonacci(100)"
   ]
  },
  {
   "cell_type": "code",
   "execution_count": null,
   "id": "08c4615b-67a2-41fb-b5fb-cf68eba6649d",
   "metadata": {},
   "outputs": [],
   "source": [
    "if __name__ == '__main__' :\n",
    "    fibonacci(100)"
   ]
  },
  {
   "cell_type": "code",
   "execution_count": null,
   "id": "97beaf2c-7793-47c3-b6ec-a3073ef22c34",
   "metadata": {},
   "outputs": [],
   "source": [
    "import fibo#노트북과 같은 폴더에 fibonacci.py가 해석되어 메모리 로드"
   ]
  },
  {
   "cell_type": "code",
   "execution_count": null,
   "id": "d5b7fa3e-26d6-4c55-91fb-a3ceec729b33",
   "metadata": {},
   "outputs": [],
   "source": [
    "fibonacci.fibonacci(100)"
   ]
  },
  {
   "cell_type": "markdown",
   "id": "d8d6e9e9-4325-49df-8380-9b10236f74bf",
   "metadata": {},
   "source": [
    "## 1.3 지역변수(local var)와 전역변수(bal var)"
   ]
  },
  {
   "cell_type": "code",
   "execution_count": null,
   "id": "d6ba5ce3-6ad6-4195-aac2-277ad4ac3711",
   "metadata": {},
   "outputs": [],
   "source": [
    "global_var = 100 #전역변수\n",
    "def func1():\n",
    "    print(global_var)\n",
    "func1()\n",
    "print(global_var)"
   ]
  },
  {
   "cell_type": "code",
   "execution_count": null,
   "id": "5c62190d-2311-4f9b-84c2-8b36312daed4",
   "metadata": {},
   "outputs": [],
   "source": [
    "def func2() :\n",
    "    local_var = 100 #지역변수 : 함수내에서만 사용 가능한 변수.\n",
    "    print(local_var)\n",
    "func2()"
   ]
  },
  {
   "cell_type": "code",
   "execution_count": null,
   "id": "51fdb7c7-b1ec-430e-8c92-71601a72126b",
   "metadata": {},
   "outputs": [],
   "source": [
    "# local_var 탐색 불가"
   ]
  },
  {
   "cell_type": "code",
   "execution_count": null,
   "id": "cc111740-d465-43ea-b3d6-00accda06421",
   "metadata": {},
   "outputs": [],
   "source": [
    "g_var = 100 # 전역변수\n",
    "def func3() :\n",
    "    g_var = 200  #지역변수 로 생각 즉 지역변수 선언\n",
    "    print(g_var)\n",
    "func3()\n",
    "g_var"
   ]
  },
  {
   "cell_type": "markdown",
   "id": "88ef8970-1bf4-4317-9999-14231ec759ed",
   "metadata": {},
   "source": [
    "## 1.4 Lexical 특성"
   ]
  },
  {
   "cell_type": "code",
   "execution_count": null,
   "id": "3c6ca387-c249-4f52-9114-1bc5c0936c60",
   "metadata": {},
   "outputs": [],
   "source": [
    "# g_var = 100 # 전역변수\n",
    "# def func3() :\n",
    "#     print(g_var) #아직 변수 할당 되지않았다고 봄\n",
    "#     g_var = 200  \n",
    "#     print(g_var)\n",
    "# func3()\n",
    "# g_var"
   ]
  },
  {
   "cell_type": "markdown",
   "id": "cefe7e2c-70a7-418d-a3bb-dd48a764c9d4",
   "metadata": {},
   "source": [
    "## 1.5 전역변수 수정"
   ]
  },
  {
   "cell_type": "code",
   "execution_count": 1,
   "id": "9ee3ff4d-ce1f-470e-94d8-cd376f58ae03",
   "metadata": {},
   "outputs": [
    {
     "name": "stdout",
     "output_type": "stream",
     "text": [
      "100\n",
      "200\n"
     ]
    },
    {
     "data": {
      "text/plain": [
       "200"
      ]
     },
     "execution_count": 1,
     "metadata": {},
     "output_type": "execute_result"
    }
   ],
   "source": [
    "g_var = 100 # 전역변수\n",
    "def func3() :\n",
    "    global g_var #함수내에서 g_var는 전역변수를 쓸거야\n",
    "    print(g_var) \n",
    "    g_var = 200  #전역변수에 값을 할당\n",
    "    print(g_var)\n",
    "func3()\n",
    "g_var"
   ]
  },
  {
   "cell_type": "markdown",
   "id": "3c6ff09c-b960-4d20-8b90-b27d576580df",
   "metadata": {},
   "source": [
    "## 1.6 값에 의한 호출 (call by value)\n",
    "- 함수에 인수로 전달되는 변수가 스칼라 변수(숫자,문자,논리)일 경우"
   ]
  },
  {
   "cell_type": "code",
   "execution_count": null,
   "id": "abeefb47-e16c-44a2-95b7-eb624f011ad6",
   "metadata": {},
   "outputs": [],
   "source": [
    "foo = 'ab' #스칼라 변수\n",
    "id(foo)"
   ]
  },
  {
   "cell_type": "code",
   "execution_count": null,
   "id": "e089be7f-6895-4990-b153-dd88542de449",
   "metadata": {},
   "outputs": [],
   "source": [
    "def func1 (f) :\n",
    "    print(\"Before : {}의 주소는 {}\".format(f,id(f)))\n",
    "    f *= 3  #매개변수로 들어온 변수 => 지역변수 #값을 바꾼다 => 바꾸고 새로운 주소 할당\n",
    "    print(\"After : {}의 주소는 {}\".format(f,id(f)))\n",
    "\n",
    "func1(foo)\n",
    "print(\"함수 호출 후 foo : {}의 주소는 {}\".format(foo,id(foo)))"
   ]
  },
  {
   "cell_type": "markdown",
   "id": "a1ade3d1-b849-4a51-a1e9-df51133f48db",
   "metadata": {},
   "source": [
    "## 1.7 참조에 의한 호출 (call by reference)\n",
    "- 함수에 전달되는 인수가 리스트, 딕셔너리 , 셋일 경우"
   ]
  },
  {
   "cell_type": "code",
   "execution_count": null,
   "id": "41fa8421-21d9-49b6-b81f-2c4d00cb3391",
   "metadata": {},
   "outputs": [],
   "source": [
    "L = [1,2,3]\n",
    "print(\"L의 내용은 {}, 주소는 {}\".format(L,id(L) ) )"
   ]
  },
  {
   "cell_type": "code",
   "execution_count": null,
   "id": "be925795-e1f4-4ba0-9a8d-eb0aa02f971e",
   "metadata": {},
   "outputs": [],
   "source": [
    "def func2(f) :\n",
    "    print(\"함수 내 Before : L의 내용은 {}, 주소는 {}\".format(L,id(L) ) )\n",
    "    f.append(4)\n",
    "    print(\"함수 내 After : L의 내용은 {}, 주소는 {}\".format(L,id(L) ) )\n",
    "\n",
    "func2(L)\n",
    "print(\"L의 내용은 {}, 주소는 {}\".format(L,id(L) ) )"
   ]
  },
  {
   "cell_type": "markdown",
   "id": "35df62f4-77d0-4005-9183-5270f75b0f60",
   "metadata": {},
   "source": [
    "# 2절. 함수의 실행결과를 반환하는 return\n",
    "- 여러 개의 값을 반환할 수 있다.(하나의 튜플로 반환)"
   ]
  },
  {
   "cell_type": "code",
   "execution_count": null,
   "id": "735431d0-f039-4c1b-a843-d5be13449f49",
   "metadata": {},
   "outputs": [],
   "source": [
    "# 여러값을 return\n",
    "def swap(a,b) : \n",
    "    return b,a"
   ]
  },
  {
   "cell_type": "code",
   "execution_count": null,
   "id": "caca4e79-7497-4e7d-9caa-53b0e54af8b0",
   "metadata": {},
   "outputs": [],
   "source": [
    "x,y = 5,10\n",
    "print(\"함수 실행 전 x={} , y={}\".format(x,y))\n",
    "x,y = swap(5,10)\n",
    "print(\"함수 실행 후 x={} , y={}\".format(x,y))"
   ]
  },
  {
   "cell_type": "markdown",
   "id": "c5f96273-7b5f-4975-b343-58c8b0c59c84",
   "metadata": {},
   "source": [
    "# 3절. 함수의 매개변수 ★"
   ]
  },
  {
   "cell_type": "markdown",
   "id": "1c313fb0-a1ca-4b63-829a-fe829080b87d",
   "metadata": {},
   "source": [
    "## 3.1 기본값을 갖는 매개변수"
   ]
  },
  {
   "cell_type": "code",
   "execution_count": null,
   "id": "f51b0377-f71e-498b-a975-dc13935fc694",
   "metadata": {},
   "outputs": [],
   "source": [
    "def make_url(ip,port=80) :\n",
    "    # 순서인수, 기본값을 갖는 인수 순으로\n",
    "    return \"http://{}:{}\".format(ip,port)"
   ]
  },
  {
   "cell_type": "code",
   "execution_count": null,
   "id": "0b4ff5da-93c2-4c06-983e-fe063f30c61d",
   "metadata": {},
   "outputs": [],
   "source": [
    "print(make_url(\"localhost\"))\n",
    "print(make_url(\"localhost\",8090))\n",
    "print(make_url(port=8090,ip='localhost'))"
   ]
  },
  {
   "cell_type": "markdown",
   "id": "a9bd541d-812f-4142-8b7c-2d225a882bde",
   "metadata": {},
   "source": [
    "## 3.2 튜플 매개변수로 이용한 가변인수(인수갯수가 가변) 설정"
   ]
  },
  {
   "cell_type": "code",
   "execution_count": null,
   "id": "3885b6f0-eef6-47fa-a279-8f040ecc2763",
   "metadata": {},
   "outputs": [],
   "source": [
    "print('Hello','World') #인수의 갯수가 가변 = 가변인수"
   ]
  },
  {
   "cell_type": "code",
   "execution_count": null,
   "id": "a0a3f26f-4a9a-49f5-9c00-712d2264d9d9",
   "metadata": {},
   "outputs": [],
   "source": [
    "# args앞에 * : args가 튜플로 전달 :튜플 매개변수\n",
    "def add(*args):\n",
    "    # print(\"전달받은 args :\",args)\n",
    "    # print(type(args))\n",
    "    sum = 0\n",
    "    for num in args:\n",
    "        sum += num;\n",
    "    return sum"
   ]
  },
  {
   "cell_type": "code",
   "execution_count": null,
   "id": "30e21f78-5de3-4d41-bb53-320378fa4241",
   "metadata": {},
   "outputs": [],
   "source": [
    "print(add(1,2,3))\n",
    "print(add( 1))\n",
    "print(add(1,2))"
   ]
  },
  {
   "cell_type": "code",
   "execution_count": null,
   "id": "d32afa29-6199-467b-a56c-6ced056fddef",
   "metadata": {},
   "outputs": [],
   "source": [
    "def concat(*args,sep) :\n",
    "    return sep.join(args)"
   ]
  },
  {
   "cell_type": "code",
   "execution_count": null,
   "id": "09709b23-2908-4c60-a8af-fdc28e3a659d",
   "metadata": {},
   "outputs": [],
   "source": [
    "# concat(\"C\",\"Python\",\"Oracle\",\"~\") =>오류 sep과 args를 구분x"
   ]
  },
  {
   "cell_type": "code",
   "execution_count": null,
   "id": "422a6328-7a20-46bb-8c0b-0575a9c3ce5b",
   "metadata": {},
   "outputs": [],
   "source": [
    "#해결책 1\n",
    "concat(\"C\",\"Python\",\"Oracle\",sep=\"~\")"
   ]
  },
  {
   "cell_type": "code",
   "execution_count": null,
   "id": "4e59afbe-5976-4365-bc01-07a4eb1e8dc4",
   "metadata": {},
   "outputs": [],
   "source": [
    "#해결책 2 ☆\n",
    "def concat (sep, *args) : #순서인수 > 튜플인수\n",
    "    return sep.join(args)"
   ]
  },
  {
   "cell_type": "code",
   "execution_count": null,
   "id": "8876e49c-2cf5-4c05-be57-6df253acd902",
   "metadata": {},
   "outputs": [],
   "source": [
    "concat(\"~\",\"C\",\"Python\",\"Oracle\")"
   ]
  },
  {
   "cell_type": "code",
   "execution_count": null,
   "id": "eb5c2bc5-0c93-472c-bdbb-34464118bc66",
   "metadata": {},
   "outputs": [],
   "source": [
    "# 해결책 3\n",
    "def concat(*args,sep='/') : #순서인수 > 튜플인수 > 키워드인수(기본값을 갖는 매개 변수)\n",
    "    return sep.join(args)"
   ]
  },
  {
   "cell_type": "code",
   "execution_count": null,
   "id": "93e78201-cacc-4f79-a68e-c423637796ac",
   "metadata": {},
   "outputs": [],
   "source": [
    "concat(\"C\",\"Python\",\"Oracle\",sep=\"~\")"
   ]
  },
  {
   "cell_type": "markdown",
   "id": "69fefde9-6b3b-403d-9e40-47957fb584d8",
   "metadata": {},
   "source": [
    "## 3.3 딕셔너리 매개변수"
   ]
  },
  {
   "cell_type": "code",
   "execution_count": null,
   "id": "4ecaf47d-3933-4dca-9cb3-ecd8b2b5b506",
   "metadata": {},
   "outputs": [],
   "source": [
    "def func(**args) : # args 가 딕셔너리로 전달\n",
    "    # print(args)\n",
    "    # print(type(args))\n",
    "    for key,value in args.items():\n",
    "        print(\"{} : {}\".format(key,value))"
   ]
  },
  {
   "cell_type": "code",
   "execution_count": null,
   "id": "7bf3b15e-8294-4458-a0cd-2a6cb382d7c9",
   "metadata": {},
   "outputs": [],
   "source": [
    "dic = {\"name\":\"홍길동\",\"age\":20}\n",
    "#func(dic)\n",
    "func(name=\"홍길동\",age=20) #키워드 인수 같기도하네"
   ]
  },
  {
   "cell_type": "code",
   "execution_count": null,
   "id": "a70657fa-575a-49be-b5e1-70fb78715551",
   "metadata": {},
   "outputs": [],
   "source": [
    "func(gameName=\"서바이벌\",year =2024 , price = 33000)"
   ]
  },
  {
   "cell_type": "markdown",
   "id": "a425f1eb-eb20-446a-8e7e-8f08a0fce62e",
   "metadata": {},
   "source": [
    "## 3.4 함수 정의시 매개변수의 순서\n",
    "- 순서인수 > 튜플인수(*) > 키워드인수(매개변수 이름을 명시) > 딕셔너리인수(**)"
   ]
  },
  {
   "cell_type": "code",
   "execution_count": null,
   "id": "02ca1411-e2d2-4eaf-baa5-62354ef28876",
   "metadata": {},
   "outputs": [],
   "source": [
    "def func(a,b,c,*d,e=10,**f) :\n",
    "    print('a =' , a)\n",
    "    print('b =' , b)\n",
    "    print('c =' , c)\n",
    "    print('d =' , d)\n",
    "    print('e =' , e)\n",
    "    print('f =' , f)"
   ]
  },
  {
   "cell_type": "code",
   "execution_count": null,
   "id": "1d882eba-a991-41e1-9958-6a6531f3ca49",
   "metadata": {},
   "outputs": [],
   "source": [
    "func(10,20,30, 1,2,3,4,5 , e=50 ,height=180 , name=\"홍길동\",address=\"서울시\")"
   ]
  },
  {
   "cell_type": "markdown",
   "id": "06f4114e-1d27-492a-9e34-47c3fb3afa52",
   "metadata": {},
   "source": [
    "## 3.5 인수의 언패킹"
   ]
  },
  {
   "cell_type": "markdown",
   "id": "ccf8992e-7f9f-40cf-9765-4d0e8a75d055",
   "metadata": {},
   "source": [
    "### 튜플 인수 언패킹"
   ]
  },
  {
   "cell_type": "code",
   "execution_count": 2,
   "id": "19368c9f-bc26-4835-a424-7419106540ea",
   "metadata": {},
   "outputs": [],
   "source": [
    "def add(*args):\n",
    "    # print(\"전달받은 args :\",args)\n",
    "    # print(type(args))\n",
    "    sum = 0\n",
    "    for num in args:\n",
    "        sum += num;\n",
    "    return sum"
   ]
  },
  {
   "cell_type": "code",
   "execution_count": 3,
   "id": "5755cd52-48c9-466c-b383-615268a3b2c8",
   "metadata": {},
   "outputs": [
    {
     "data": {
      "text/plain": [
       "6"
      ]
     },
     "execution_count": 3,
     "metadata": {},
     "output_type": "execute_result"
    }
   ],
   "source": [
    "data = (1,2,3)\n",
    "add(*data) #(튜플(튜플))  => 튜블 변수 언패킹"
   ]
  },
  {
   "cell_type": "markdown",
   "id": "b743e479-01b7-494e-b7e5-389c928e461d",
   "metadata": {},
   "source": [
    "### 딕셔너리 인수 언패킹"
   ]
  },
  {
   "cell_type": "code",
   "execution_count": 11,
   "id": "1c08ddbf-fb8a-489e-a6de-68eaccf72cdb",
   "metadata": {},
   "outputs": [],
   "source": [
    "def func(**args) : # args 가 딕셔너리로 전달\n",
    "    # print(args)\n",
    "    # print(type(args))\n",
    "    for key,value in args.items():\n",
    "        print(\"{} : {}\".format(key,value))"
   ]
  },
  {
   "cell_type": "code",
   "execution_count": null,
   "id": "b764b3c5-27bf-414f-82c4-681f2263fcf9",
   "metadata": {},
   "outputs": [],
   "source": [
    "dic = {\"name\":\"홍길동\",\"age\":30}\n",
    "#func(name=\"홍길동\",age=30)\n",
    "func(**dic)"
   ]
  },
  {
   "cell_type": "markdown",
   "id": "23bd2817-eb0c-4bbb-abc9-03954ee4fc61",
   "metadata": {},
   "source": [
    "# 4절. 람다식\n",
    "- 람다식은 작은 익명함수를 의미함\n",
    "- 실행할 문장을 한문장만 작성할 수 있음\n",
    "- 리스트 컴프리헨션과 같이 참조해서 학습 추천\n",
    "- ex. map() , filter() 에서 사용할 예정"
   ]
  },
  {
   "cell_type": "code",
   "execution_count": null,
   "id": "4c7f8b17-6ea2-44e3-9f04-229ede9f29e8",
   "metadata": {},
   "outputs": [],
   "source": [
    "# 일반함수\n",
    "def add(a,b) :\n",
    "    return a+b\n",
    "add(3,5)"
   ]
  },
  {
   "cell_type": "code",
   "execution_count": null,
   "id": "8c702975-aa46-4bba-9768-2eb464f4da6c",
   "metadata": {},
   "outputs": [],
   "source": [
    "type(add)"
   ]
  },
  {
   "cell_type": "code",
   "execution_count": null,
   "id": "0c525ce3-774e-4e1d-a813-6d007a0a2725",
   "metadata": {},
   "outputs": [],
   "source": [
    "# 람다식\n",
    "add = lambda a,b : a+b  #lambda 매개변수 : 리턴값"
   ]
  },
  {
   "cell_type": "code",
   "execution_count": null,
   "id": "04c67112-ac22-47c4-9312-86953c0f96e0",
   "metadata": {},
   "outputs": [],
   "source": [
    "add(5,5)"
   ]
  },
  {
   "cell_type": "code",
   "execution_count": null,
   "id": "8c51babe-cb64-4dcc-becb-3c7a707dad13",
   "metadata": {},
   "outputs": [],
   "source": [
    "type(add)"
   ]
  },
  {
   "cell_type": "code",
   "execution_count": null,
   "id": "9cb0a1f4-805f-4cd5-b82f-eb8056ecbe49",
   "metadata": {},
   "outputs": [],
   "source": [
    "(lambda a,b: a+b)(5,6)"
   ]
  },
  {
   "cell_type": "markdown",
   "id": "7dafcb50-0387-4a77-a7a5-25a589517564",
   "metadata": {},
   "source": [
    "## 매개변수로 람다식 이용"
   ]
  },
  {
   "cell_type": "code",
   "execution_count": 6,
   "id": "545b9bc1-23b9-4342-8576-c5df4972a4b6",
   "metadata": {},
   "outputs": [
    {
     "data": {
      "text/plain": [
       "9"
      ]
     },
     "execution_count": 6,
     "metadata": {},
     "output_type": "execute_result"
    }
   ],
   "source": [
    "f = lambda x : x**2\n",
    "f(3)"
   ]
  },
  {
   "cell_type": "code",
   "execution_count": 4,
   "id": "43b390bd-6d56-438c-8e7c-95a3c5822e17",
   "metadata": {},
   "outputs": [],
   "source": [
    "def map_template(func,L=[]) :\n",
    "    result = []\n",
    "    for data in L :\n",
    "        result.append(func(data))\n",
    "    return result"
   ]
  },
  {
   "cell_type": "code",
   "execution_count": 8,
   "id": "bae97eae-b718-470d-b029-827ac65fe76b",
   "metadata": {},
   "outputs": [
    {
     "data": {
      "text/plain": [
       "[1, 4, 9, 16, 25]"
      ]
     },
     "execution_count": 8,
     "metadata": {},
     "output_type": "execute_result"
    }
   ],
   "source": [
    "list_data = [1,2,3,4,5]\n",
    "#map_template(f,list_data)\n",
    "map_template(lambda x : x**2 , list_data)"
   ]
  },
  {
   "cell_type": "code",
   "execution_count": null,
   "id": "4cde870e-f2a1-470c-8e17-ebd0ebce6515",
   "metadata": {},
   "outputs": [],
   "source": [
    "list(map(lambda x:x*2,list_data))"
   ]
  },
  {
   "cell_type": "code",
   "execution_count": null,
   "id": "1788a022-dc94-4826-9c3b-735921c1aa4c",
   "metadata": {},
   "outputs": [],
   "source": [
    "#리스트 컴프리헨션이용\n",
    "[x*2 for x in list_data]"
   ]
  },
  {
   "cell_type": "code",
   "execution_count": null,
   "id": "edfbb92e-48c5-4e89-9f4f-e7b024181ea8",
   "metadata": {},
   "outputs": [],
   "source": []
  },
  {
   "cell_type": "code",
   "execution_count": null,
   "id": "209c289f-7193-4b73-9dd3-482e6ad5ed44",
   "metadata": {},
   "outputs": [],
   "source": [
    "def filter_template(func,L=[]) :\n",
    "    result = []\n",
    "    for data in L :\n",
    "        if func(data):\n",
    "            result.append(data)\n",
    "    return result"
   ]
  },
  {
   "cell_type": "code",
   "execution_count": null,
   "id": "f2418ae7-b2f8-438e-9234-ba3fba7def2f",
   "metadata": {},
   "outputs": [],
   "source": [
    "filter_template(lambda x : x%2==0 , list_data)"
   ]
  },
  {
   "cell_type": "code",
   "execution_count": null,
   "id": "9f70557a-abab-4802-bf73-57f2f53267cc",
   "metadata": {},
   "outputs": [],
   "source": [
    "list(filter(lambda x: x%2==0,list_data))"
   ]
  },
  {
   "cell_type": "code",
   "execution_count": null,
   "id": "d3bc9b93-5161-43f9-85cd-5bfe2cdbec50",
   "metadata": {},
   "outputs": [],
   "source": [
    "#리스트 컴프리헨션 이용\n",
    "[x for x in list_data if x%2==0]"
   ]
  },
  {
   "cell_type": "markdown",
   "id": "98581d8c-f217-4daf-b330-a0daab3d9cf5",
   "metadata": {
    "jp-MarkdownHeadingCollapsed": true
   },
   "source": [
    "# 5절. 파이썬 내장함수\n",
    "- print처럼 import하지 않고 즉시 사용 가능한 함수"
   ]
  },
  {
   "cell_type": "markdown",
   "id": "b274d770-af7e-450d-9d0e-93bd471127ca",
   "metadata": {},
   "source": [
    "# 연습문제"
   ]
  },
  {
   "cell_type": "code",
   "execution_count": null,
   "id": "6c2610f7-c53f-4b5b-8499-0ca6e991a0af",
   "metadata": {},
   "outputs": [],
   "source": [
    "# 1. 함수의 인자로 리스트를 받은 후, 리스트 내에 있는 모든 정수값에 대하여 최대값과 최소값을 return하는 함수 get_max_min(data_list)를 구현하고 호출하시오\n",
    "def get_max_min(L=[]) :\n",
    "    return max(L),min(L)\n",
    "\n",
    "list = [1,39,310,3410,39490,-1]\n",
    "get_max_min(list)"
   ]
  },
  {
   "cell_type": "code",
   "execution_count": 10,
   "id": "39a132f6-a785-4e79-b1f9-2be56ba60cbd",
   "metadata": {},
   "outputs": [
    {
     "name": "stdout",
     "output_type": "stream",
     "text": [
      "[11, 20, 26, 32, 39, 40]\n"
     ]
    }
   ],
   "source": [
    "# 2. 1~45사이의 로또번호 6개를 반환하는 make_lotto()함수를 정의하고 호출하시오\n",
    "import random\n",
    "\n",
    "def make_lotto() :\n",
    "    lotto = set()\n",
    "    while len(lotto)<6 :\n",
    "        lottonum = random.randint(1,45)\n",
    "        lotto.add(lottonum)\n",
    "    lotto = list(lotto)\n",
    "    lotto.sort()\n",
    "    return lotto\n",
    "\n",
    "print(make_lotto())"
   ]
  },
  {
   "cell_type": "code",
   "execution_count": null,
   "id": "49cbdbd5-02a2-4bc4-9282-043109dad071",
   "metadata": {},
   "outputs": [],
   "source": [
    "\"\"\"\n",
    "3. 369게임은 숫자에 3,6,9가 들어가면 박수를 치고, 나머지는 숫자는 그대로\n",
    "이야기하는 게임이다. 369게임을 시뮬레이션하는 함수를 정의하라\n",
    "1단계 : game_369([1,2,3,4,5,6,7,8,9,13,20,33])\n",
    "- 결과 : [1,2, ‘짝’, 4,5, ‘짝’,7,8, ‘짝’, ‘짝’, 20,‘짝짝’]\n",
    "2단계 : game_369(1,2,3,4,5,6,7,8,9,13,20,33) #튜플인수이용\n",
    "- 결과 : [1,2, ‘짝’, 4,5, ‘짝’,7,8, ‘짝’, ‘짝’, 20,‘짝짝’]\n",
    "\"\"\""
   ]
  },
  {
   "cell_type": "code",
   "execution_count": 9,
   "id": "08510e27-58ef-4533-8aca-17b0d5347cc4",
   "metadata": {},
   "outputs": [
    {
     "name": "stdout",
     "output_type": "stream",
     "text": [
      "[1, 2, '짝', 4, 5, '짝', 7, 8, '짝', '짝', 20, '짝짝']\n"
     ]
    }
   ],
   "source": [
    "# 1단계\n",
    "def game_369(L=[]) :\n",
    "    result = []\n",
    "    for num in L :\n",
    "        count = str(num).count('3') + str(num).count('6') + str(num).count('9')\n",
    "        if(count == 0 ) :\n",
    "            result.append(num)\n",
    "        else :\n",
    "            result.append('짝' *  count)\n",
    "    return result\n",
    "\n",
    "print(game_369([1,2,3,4,5,6,7,8,9,13,20,33]))"
   ]
  },
  {
   "cell_type": "code",
   "execution_count": 8,
   "id": "7c5aa00d-b55d-4733-889a-27333e0cf0c7",
   "metadata": {},
   "outputs": [
    {
     "name": "stdout",
     "output_type": "stream",
     "text": [
      "[1, 2, '짝', 4, 5, '짝', 7, 8, '짝', '짝', 20, '짝짝']\n"
     ]
    }
   ],
   "source": [
    "# 2단계\n",
    "def game_369 (*args) :\n",
    "    result = []\n",
    "    for num in args :\n",
    "        count = str(num).count('3') + str(num).count('6') + str(num).count('9')\n",
    "        if(count == 0 ) :\n",
    "            result.append(num)\n",
    "        else :\n",
    "            result.append('짝' * count)\n",
    "    return result\n",
    "\n",
    "print(game_369(1,2,3,4,5,6,7,8,9,13,20,33))"
   ]
  },
  {
   "cell_type": "code",
   "execution_count": null,
   "id": "44ea023e-0f43-4a70-a3df-35c455687fd3",
   "metadata": {},
   "outputs": [],
   "source": []
  }
 ],
 "metadata": {
  "kernelspec": {
   "display_name": "Python 3 (ipykernel)",
   "language": "python",
   "name": "python3"
  },
  "language_info": {
   "codemirror_mode": {
    "name": "ipython",
    "version": 3
   },
   "file_extension": ".py",
   "mimetype": "text/x-python",
   "name": "python",
   "nbconvert_exporter": "python",
   "pygments_lexer": "ipython3",
   "version": "3.11.7"
  }
 },
 "nbformat": 4,
 "nbformat_minor": 5
}
