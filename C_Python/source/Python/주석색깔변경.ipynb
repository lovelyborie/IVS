{
 "cells": [
  {
   "cell_type": "code",
   "execution_count": 1,
   "id": "d0f5ea7c-a1a4-4549-82d8-bd70f286d8a3",
   "metadata": {},
   "outputs": [
    {
     "name": "stderr",
     "output_type": "stream",
     "text": [
      "명령 구문이 올바르지 않습니다.\n"
     ]
    }
   ],
   "source": [
    "mkdir -p ~/.jupyter/custom\n",
    "\n",
    "touch ~/.jupyter/custom/custom.css\n",
    "\n",
    "/* custom.css */\n",
    ".cm-comment {\n",
    "    color: #B0BEC5; /* 원하는 색상 코드로 변경 */\n",
    "}\n",
    "\n",
    "jupyter notebook"
   ]
  },
  {
   "cell_type": "code",
   "execution_count": 3,
   "id": "e46c1c2c-eb17-4a66-9d66-466d561f1281",
   "metadata": {},
   "outputs": [
    {
     "name": "stderr",
     "output_type": "stream",
     "text": [
      "명령 구문이 올바르지 않습니다.\n"
     ]
    }
   ],
   "source": [
    "mkdir -p ~/.jupyter/custom"
   ]
  },
  {
   "cell_type": "code",
   "execution_count": null,
   "id": "b598c994-1659-4193-9045-5a8259ab1b81",
   "metadata": {},
   "outputs": [],
   "source": []
  }
 ],
 "metadata": {
  "kernelspec": {
   "display_name": "Python 3 (ipykernel)",
   "language": "python",
   "name": "python3"
  },
  "language_info": {
   "codemirror_mode": {
    "name": "ipython",
    "version": 3
   },
   "file_extension": ".py",
   "mimetype": "text/x-python",
   "name": "python",
   "nbconvert_exporter": "python",
   "pygments_lexer": "ipython3",
   "version": "3.11.7"
  }
 },
 "nbformat": 4,
 "nbformat_minor": 5
}
