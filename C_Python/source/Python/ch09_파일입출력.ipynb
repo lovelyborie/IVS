{
 "cells": [
  {
   "cell_type": "markdown",
   "id": "420fa02d-4105-44a1-b2b9-cd7d4cdde86d",
   "metadata": {},
   "source": [
    "<font size =\"8\" color = \"red\"><b>ch9 파일입출력</b>"
   ]
  },
  {
   "cell_type": "markdown",
   "id": "1ea250a5-2f59-4ef1-913f-031241bec635",
   "metadata": {},
   "source": [
    "# 1절 파일에 데이터를 저장하고 불러오기"
   ]
  },
  {
   "cell_type": "code",
   "execution_count": 2,
   "id": "2c6224bd-cded-4e6d-a57a-79dc1f67be24",
   "metadata": {},
   "outputs": [
    {
     "name": "stdout",
     "output_type": "stream",
     "text": [
      "True\n"
     ]
    }
   ],
   "source": [
    "# w : 있는 파일은 기존의 파일에 덮어쓰고 없는 파일은 생성 (쓰기 전용)\n",
    "# a : 있는 파일은 추가 / 없는 파일은 생성\n",
    "f = open('data/ch09.txt' , 'w' )\n",
    "print(f.writable())"
   ]
  },
  {
   "cell_type": "code",
   "execution_count": 3,
   "id": "548a7090-c39d-4bb9-8bdf-903a160b1181",
   "metadata": {},
   "outputs": [],
   "source": [
    "f.write(\"Hello\\nWorld\\nHello\\nPython\\n반갑습니다\") #한글은 cp949\n",
    "f.close()"
   ]
  },
  {
   "cell_type": "code",
   "execution_count": 4,
   "id": "f2a79627-74df-4abb-9ab9-f729a80500d8",
   "metadata": {},
   "outputs": [
    {
     "ename": "ValueError",
     "evalue": "I/O operation on closed file.",
     "output_type": "error",
     "traceback": [
      "\u001b[1;31m---------------------------------------------------------------------------\u001b[0m",
      "\u001b[1;31mValueError\u001b[0m                                Traceback (most recent call last)",
      "Cell \u001b[1;32mIn[4], line 1\u001b[0m\n\u001b[1;32m----> 1\u001b[0m f\u001b[38;5;241m.\u001b[39mwrite(\u001b[38;5;124m'\u001b[39m\u001b[38;5;124m여러번 wirte가능\u001b[39m\u001b[38;5;130;01m\\n\u001b[39;00m\u001b[38;5;124m'\u001b[39m)\n\u001b[0;32m      2\u001b[0m f\u001b[38;5;241m.\u001b[39mclose()\n",
      "\u001b[1;31mValueError\u001b[0m: I/O operation on closed file."
     ]
    }
   ],
   "source": [
    "f.write('여러번 wirte가능\\n')\n",
    "f.close()"
   ]
  },
  {
   "cell_type": "code",
   "execution_count": 6,
   "id": "e6f940f7-fe35-47be-8f98-800b0c729679",
   "metadata": {},
   "outputs": [
    {
     "name": "stdout",
     "output_type": "stream",
     "text": [
      "['Hello\\n', 'World\\n', 'Hello\\n', 'Python\\n', '반갑습니다']\n"
     ]
    }
   ],
   "source": [
    "with open('data/ch09.txt','r') as f:\n",
    "    data = f.readlines()\n",
    "    print(data)"
   ]
  },
  {
   "cell_type": "code",
   "execution_count": 7,
   "id": "0498236c-fe0d-4bf3-83cd-a177c4d1de5a",
   "metadata": {},
   "outputs": [],
   "source": [
    "with open('data/ch09.txt','w') as f:\n",
    "    print('Python is easy\\n',file=f)"
   ]
  },
  {
   "cell_type": "code",
   "execution_count": 8,
   "id": "7abc5c6a-830e-4b21-90ae-06b68ab17c21",
   "metadata": {},
   "outputs": [],
   "source": [
    "with open('data/ch09.txt','a') as f:\n",
    "    print('Python is easy\\n',file=f)"
   ]
  },
  {
   "cell_type": "code",
   "execution_count": 11,
   "id": "39c20135-f368-45ed-a341-552d3b90881c",
   "metadata": {},
   "outputs": [
    {
     "name": "stdout",
     "output_type": "stream",
     "text": [
      "홍길동,20,hong@hong.com,서울시 강동구\n",
      "\n",
      "박길서,33,park@hong.com,서울시 강서구\n",
      "\n",
      "신진서,25,shin@hong.com,서울시 강서구\n",
      "\n",
      "정하영,30,hayoung@hong.com,서울시 강남구\n",
      "\n",
      "이동재,29,lee@hong.com,서울시 강북구\n",
      "\n",
      "마이클,40,mike@hong.com,서울시 강동구\n"
     ]
    }
   ],
   "source": [
    "# UTF-8로 인코딩 된 CSV파일을 read\n",
    "with open('data/ch09_member1.csv','r',encoding='utf-8') as f :\n",
    "    data = f.readlines()\n",
    "    for row in data :\n",
    "        print(row)"
   ]
  },
  {
   "cell_type": "code",
   "execution_count": 18,
   "id": "3b314f2e-fd11-4d19-bc6b-00e8466f1556",
   "metadata": {},
   "outputs": [
    {
     "data": {
      "text/html": [
       "<div>\n",
       "<style scoped>\n",
       "    .dataframe tbody tr th:only-of-type {\n",
       "        vertical-align: middle;\n",
       "    }\n",
       "\n",
       "    .dataframe tbody tr th {\n",
       "        vertical-align: top;\n",
       "    }\n",
       "\n",
       "    .dataframe thead th {\n",
       "        text-align: right;\n",
       "    }\n",
       "</style>\n",
       "<table border=\"1\" class=\"dataframe\">\n",
       "  <thead>\n",
       "    <tr style=\"text-align: right;\">\n",
       "      <th></th>\n",
       "      <th>name</th>\n",
       "      <th>age</th>\n",
       "      <th>email</th>\n",
       "      <th>address</th>\n",
       "    </tr>\n",
       "  </thead>\n",
       "  <tbody>\n",
       "    <tr>\n",
       "      <th>0</th>\n",
       "      <td>홍길동</td>\n",
       "      <td>20</td>\n",
       "      <td>hong@hong.com</td>\n",
       "      <td>서울시 강동구</td>\n",
       "    </tr>\n",
       "    <tr>\n",
       "      <th>1</th>\n",
       "      <td>박길서</td>\n",
       "      <td>33</td>\n",
       "      <td>park@hong.com</td>\n",
       "      <td>서울시 강서구</td>\n",
       "    </tr>\n",
       "    <tr>\n",
       "      <th>2</th>\n",
       "      <td>신진서</td>\n",
       "      <td>25</td>\n",
       "      <td>shin@hong.com</td>\n",
       "      <td>서울시 강서구</td>\n",
       "    </tr>\n",
       "    <tr>\n",
       "      <th>3</th>\n",
       "      <td>정하영</td>\n",
       "      <td>30</td>\n",
       "      <td>hayoung@hong.com</td>\n",
       "      <td>서울시 강남구</td>\n",
       "    </tr>\n",
       "    <tr>\n",
       "      <th>4</th>\n",
       "      <td>이동재</td>\n",
       "      <td>29</td>\n",
       "      <td>lee@hong.com</td>\n",
       "      <td>서울시 강북구</td>\n",
       "    </tr>\n",
       "    <tr>\n",
       "      <th>5</th>\n",
       "      <td>마이클</td>\n",
       "      <td>40</td>\n",
       "      <td>mike@hong.com</td>\n",
       "      <td>서울시 강동구</td>\n",
       "    </tr>\n",
       "  </tbody>\n",
       "</table>\n",
       "</div>"
      ],
      "text/plain": [
       "  name  age             email  address\n",
       "0  홍길동   20     hong@hong.com  서울시 강동구\n",
       "1  박길서   33     park@hong.com  서울시 강서구\n",
       "2  신진서   25     shin@hong.com  서울시 강서구\n",
       "3  정하영   30  hayoung@hong.com  서울시 강남구\n",
       "4  이동재   29      lee@hong.com  서울시 강북구\n",
       "5  마이클   40     mike@hong.com  서울시 강동구"
      ]
     },
     "execution_count": 18,
     "metadata": {},
     "output_type": "execute_result"
    }
   ],
   "source": [
    "import pandas as pd\n",
    "member1 = pd.read_csv('data/ch09_member1.csv',header=None)\n",
    "member1.columns = ['name','age','email','address']\n",
    "member1"
   ]
  },
  {
   "cell_type": "code",
   "execution_count": 16,
   "id": "010786ed-ed5f-4e95-aba7-1eca061854f4",
   "metadata": {},
   "outputs": [
    {
     "data": {
      "text/plain": [
       "pandas.core.frame.DataFrame"
      ]
     },
     "execution_count": 16,
     "metadata": {},
     "output_type": "execute_result"
    }
   ],
   "source": [
    "type(member1)"
   ]
  },
  {
   "cell_type": "code",
   "execution_count": 17,
   "id": "af130c35-3d67-47db-bdf5-d093a05f6820",
   "metadata": {},
   "outputs": [
    {
     "data": {
      "text/html": [
       "<div>\n",
       "<style scoped>\n",
       "    .dataframe tbody tr th:only-of-type {\n",
       "        vertical-align: middle;\n",
       "    }\n",
       "\n",
       "    .dataframe tbody tr th {\n",
       "        vertical-align: top;\n",
       "    }\n",
       "\n",
       "    .dataframe thead th {\n",
       "        text-align: right;\n",
       "    }\n",
       "</style>\n",
       "<table border=\"1\" class=\"dataframe\">\n",
       "  <thead>\n",
       "    <tr style=\"text-align: right;\">\n",
       "      <th></th>\n",
       "      <th>name</th>\n",
       "      <th>age</th>\n",
       "      <th>email</th>\n",
       "      <th>address</th>\n",
       "    </tr>\n",
       "  </thead>\n",
       "  <tbody>\n",
       "    <tr>\n",
       "      <th>0</th>\n",
       "      <td>홍길동</td>\n",
       "      <td>20</td>\n",
       "      <td>hong@hong.com</td>\n",
       "      <td>서울시 강동구</td>\n",
       "    </tr>\n",
       "    <tr>\n",
       "      <th>1</th>\n",
       "      <td>박길서</td>\n",
       "      <td>33</td>\n",
       "      <td>park@hong.com</td>\n",
       "      <td>서울시 강서구</td>\n",
       "    </tr>\n",
       "    <tr>\n",
       "      <th>2</th>\n",
       "      <td>신진서</td>\n",
       "      <td>25</td>\n",
       "      <td>shin@hong.com</td>\n",
       "      <td>서울시 강서구</td>\n",
       "    </tr>\n",
       "  </tbody>\n",
       "</table>\n",
       "</div>"
      ],
      "text/plain": [
       "  name  age          email  address\n",
       "0  홍길동   20  hong@hong.com  서울시 강동구\n",
       "1  박길서   33  park@hong.com  서울시 강서구\n",
       "2  신진서   25  shin@hong.com  서울시 강서구"
      ]
     },
     "execution_count": 17,
     "metadata": {},
     "output_type": "execute_result"
    }
   ],
   "source": [
    "memeber2 = pd.read_csv('data/ch09_member2.csv',nrows=3)\n",
    "memeber2"
   ]
  },
  {
   "cell_type": "code",
   "execution_count": 20,
   "id": "6bf21016-c3eb-489e-b2ce-5c65d1f6db2a",
   "metadata": {},
   "outputs": [
    {
     "data": {
      "text/html": [
       "<div>\n",
       "<style scoped>\n",
       "    .dataframe tbody tr th:only-of-type {\n",
       "        vertical-align: middle;\n",
       "    }\n",
       "\n",
       "    .dataframe tbody tr th {\n",
       "        vertical-align: top;\n",
       "    }\n",
       "\n",
       "    .dataframe thead th {\n",
       "        text-align: right;\n",
       "    }\n",
       "</style>\n",
       "<table border=\"1\" class=\"dataframe\">\n",
       "  <thead>\n",
       "    <tr style=\"text-align: right;\">\n",
       "      <th></th>\n",
       "      <th>name</th>\n",
       "      <th>age</th>\n",
       "      <th>email</th>\n",
       "      <th>address</th>\n",
       "    </tr>\n",
       "  </thead>\n",
       "  <tbody>\n",
       "    <tr>\n",
       "      <th>0</th>\n",
       "      <td>홍길동</td>\n",
       "      <td>20</td>\n",
       "      <td>hong@hong.com</td>\n",
       "      <td>서울시 강동구</td>\n",
       "    </tr>\n",
       "    <tr>\n",
       "      <th>1</th>\n",
       "      <td>박길서</td>\n",
       "      <td>33</td>\n",
       "      <td>park@hong.com</td>\n",
       "      <td>서울시 강서구</td>\n",
       "    </tr>\n",
       "    <tr>\n",
       "      <th>2</th>\n",
       "      <td>신진서</td>\n",
       "      <td>25</td>\n",
       "      <td>shin@hong.com</td>\n",
       "      <td>서울시 강서구</td>\n",
       "    </tr>\n",
       "    <tr>\n",
       "      <th>3</th>\n",
       "      <td>정하영</td>\n",
       "      <td>30</td>\n",
       "      <td>hayoung@hong.com</td>\n",
       "      <td>서울시 강남구</td>\n",
       "    </tr>\n",
       "    <tr>\n",
       "      <th>4</th>\n",
       "      <td>이동재</td>\n",
       "      <td>29</td>\n",
       "      <td>lee@hong.com</td>\n",
       "      <td>서울시 강북구</td>\n",
       "    </tr>\n",
       "    <tr>\n",
       "      <th>5</th>\n",
       "      <td>마이클</td>\n",
       "      <td>40</td>\n",
       "      <td>mike@hong.com</td>\n",
       "      <td>서울시 강동구</td>\n",
       "    </tr>\n",
       "    <tr>\n",
       "      <th>0</th>\n",
       "      <td>홍길동</td>\n",
       "      <td>20</td>\n",
       "      <td>hong@hong.com</td>\n",
       "      <td>서울시 강동구</td>\n",
       "    </tr>\n",
       "    <tr>\n",
       "      <th>1</th>\n",
       "      <td>박길서</td>\n",
       "      <td>33</td>\n",
       "      <td>park@hong.com</td>\n",
       "      <td>서울시 강서구</td>\n",
       "    </tr>\n",
       "    <tr>\n",
       "      <th>2</th>\n",
       "      <td>신진서</td>\n",
       "      <td>25</td>\n",
       "      <td>shin@hong.com</td>\n",
       "      <td>서울시 강서구</td>\n",
       "    </tr>\n",
       "  </tbody>\n",
       "</table>\n",
       "</div>"
      ],
      "text/plain": [
       "  name  age             email  address\n",
       "0  홍길동   20     hong@hong.com  서울시 강동구\n",
       "1  박길서   33     park@hong.com  서울시 강서구\n",
       "2  신진서   25     shin@hong.com  서울시 강서구\n",
       "3  정하영   30  hayoung@hong.com  서울시 강남구\n",
       "4  이동재   29      lee@hong.com  서울시 강북구\n",
       "5  마이클   40     mike@hong.com  서울시 강동구\n",
       "0  홍길동   20     hong@hong.com  서울시 강동구\n",
       "1  박길서   33     park@hong.com  서울시 강서구\n",
       "2  신진서   25     shin@hong.com  서울시 강서구"
      ]
     },
     "execution_count": 20,
     "metadata": {},
     "output_type": "execute_result"
    }
   ],
   "source": [
    "member = pd.concat([member1,memeber2]) #행병합\n",
    "member"
   ]
  },
  {
   "cell_type": "code",
   "execution_count": 21,
   "id": "790a2350-6867-482d-92b7-094a18d66341",
   "metadata": {},
   "outputs": [],
   "source": [
    "member.to_csv('data/member.csv',index=False)"
   ]
  },
  {
   "cell_type": "code",
   "execution_count": null,
   "id": "458b8604-1b0e-4f83-ba04-2c65c393c5c4",
   "metadata": {},
   "outputs": [],
   "source": []
  }
 ],
 "metadata": {
  "kernelspec": {
   "display_name": "Python 3 (ipykernel)",
   "language": "python",
   "name": "python3"
  },
  "language_info": {
   "codemirror_mode": {
    "name": "ipython",
    "version": 3
   },
   "file_extension": ".py",
   "mimetype": "text/x-python",
   "name": "python",
   "nbconvert_exporter": "python",
   "pygments_lexer": "ipython3",
   "version": "3.11.7"
  }
 },
 "nbformat": 4,
 "nbformat_minor": 5
}
