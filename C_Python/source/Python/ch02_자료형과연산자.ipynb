{
 "cells": [
  {
   "cell_type": "markdown",
   "id": "b8a18fc0-608b-4499-b62d-f1f02daa441e",
   "metadata": {},
   "source": [
    "<font size = \"8\" color=\"red\"><b>ch 02. 자료형과 연산자</b>"
   ]
  },
  {
   "cell_type": "markdown",
   "id": "67337d9b-5411-4d76-87ef-830595a47603",
   "metadata": {
    "jp-MarkdownHeadingCollapsed": true
   },
   "source": [
    "# 1절. 변수\n",
    "## 1.1 변수선언\n",
    "    - 별도의 변수 선언과정 없음\n",
    "## 1.2 변수 할당\n",
    "    - 대입연산자 (=) 사용"
   ]
  },
  {
   "cell_type": "code",
   "execution_count": null,
   "id": "f031a289-9b9d-436f-9364-b9b2763e25de",
   "metadata": {},
   "outputs": [],
   "source": [
    "#include <stdio.h>\n",
    "# printf()\n",
    "\n",
    "\n",
    "# import stdio.h as std\n",
    "# std.printf()\n",
    "\n",
    "import numpy as np\n",
    "print(np.pi)\n",
    "r = 5\n",
    "area = np.pi * r * r\n",
    "\n",
    "#printf(\"계산된 넒이는 %lf\",area)\n",
    "print(\"계산된 넓이는\",area)\n",
    "print(\"area타입은\",type(area))\n",
    "print(\"area 주소는\",id(area))"
   ]
  },
  {
   "cell_type": "code",
   "execution_count": 13,
   "id": "2d15f9aa-4722-4e74-a479-f0138cbf3b1b",
   "metadata": {},
   "outputs": [
    {
     "name": "stdout",
     "output_type": "stream",
     "text": [
      "area 값은? 10\n",
      "area타입은 <class 'int'>\n",
      "area 주소는 140731716650056\n"
     ]
    }
   ],
   "source": [
    "area = 10\n",
    "print(\"area 값은?\",area)\n",
    "print(\"area타입은\",type(area))\n",
    "print(\"area 주소는\",id(area))"
   ]
  },
  {
   "cell_type": "code",
   "execution_count": 14,
   "id": "ff0dd331-0788-4799-9534-d0c18428507c",
   "metadata": {},
   "outputs": [
    {
     "name": "stdout",
     "output_type": "stream",
     "text": [
      "area 값은? 파이썬은 좋아요 \n",
      "area타입은 <class 'str'>\n",
      "area 주소는 2635020113200\n"
     ]
    }
   ],
   "source": [
    "area = \"파이썬은 좋아요 \"\n",
    "print(\"area 값은?\",area)\n",
    "print(\"area타입은\",type(area))\n",
    "print(\"area 주소는\",id(area))"
   ]
  },
  {
   "cell_type": "markdown",
   "id": "a1a0d8ec-8144-4ae6-a252-814459d594f2",
   "metadata": {},
   "source": [
    "## 1.3 변수이름 규칙\n",
    "    - 문자(특수문자는 _ 제외하고 안됨), 숫자,_로 명명.\n",
    "    - 문자로 시작\n",
    "    - 파이썬에서 제공되는 기본 함수명 피하자. 꼭 서야한다면 int_식으로 _를 붙임\n",
    "    - 파이썬 예약어는 변수명 불가(ex. if)"
   ]
  },
  {
   "cell_type": "code",
   "execution_count": 23,
   "id": "ea8b9a9a-2371-44e7-8e3b-04b9d2f2ead5",
   "metadata": {},
   "outputs": [
    {
     "data": {
      "text/plain": [
       "'북한'"
      ]
     },
     "execution_count": 23,
     "metadata": {},
     "output_type": "execute_result"
    }
   ],
   "source": [
    "불용어 = '북한'\n",
    "불용어"
   ]
  },
  {
   "cell_type": "code",
   "execution_count": 24,
   "id": "54f3d112-e0d2-48fa-854a-451c1a283544",
   "metadata": {},
   "outputs": [
    {
     "name": "stdout",
     "output_type": "stream",
     "text": [
      "북한\n"
     ]
    }
   ],
   "source": [
    "print(불용어)"
   ]
  },
  {
   "cell_type": "raw",
   "id": "988a8bde-f5bd-43f9-8fc0-bf9dcb82c018",
   "metadata": {},
   "source": [
    "# 파이썬 변수는 함수 할당 가능\n",
    "print = 5"
   ]
  },
  {
   "cell_type": "code",
   "execution_count": 25,
   "id": "c54fc3e2-471c-49bc-be80-3dc4add70cc3",
   "metadata": {},
   "outputs": [
    {
     "name": "stdout",
     "output_type": "stream",
     "text": [
      "북한\n"
     ]
    }
   ],
   "source": [
    "print(불용어)"
   ]
  },
  {
   "cell_type": "code",
   "execution_count": 26,
   "id": "658a1380-98d5-41b5-9d48-f250e85ad59a",
   "metadata": {},
   "outputs": [
    {
     "ename": "NameError",
     "evalue": "name 'print' is not defined",
     "output_type": "error",
     "traceback": [
      "\u001b[1;31m---------------------------------------------------------------------------\u001b[0m",
      "\u001b[1;31mNameError\u001b[0m                                 Traceback (most recent call last)",
      "Cell \u001b[1;32mIn[26], line 1\u001b[0m\n\u001b[1;32m----> 1\u001b[0m \u001b[38;5;28;01mdel\u001b[39;00m \u001b[38;5;28mprint\u001b[39m\n",
      "\u001b[1;31mNameError\u001b[0m: name 'print' is not defined"
     ]
    }
   ],
   "source": [
    "del print #print 변수 삭제"
   ]
  },
  {
   "cell_type": "code",
   "execution_count": 27,
   "id": "205e5c53-f4f0-4e86-a31c-01514882c7b9",
   "metadata": {},
   "outputs": [
    {
     "name": "stdout",
     "output_type": "stream",
     "text": [
      "북한\n"
     ]
    }
   ],
   "source": [
    "print(불용어)"
   ]
  },
  {
   "cell_type": "code",
   "execution_count": 28,
   "id": "5824b785-c23d-4f4d-b1bb-874340c1f60d",
   "metadata": {},
   "outputs": [
    {
     "data": {
      "text/plain": [
       "complex"
      ]
     },
     "execution_count": 28,
     "metadata": {},
     "output_type": "execute_result"
    }
   ],
   "source": [
    "i = 3 + 3j #복소수\n",
    "type(i)"
   ]
  },
  {
   "cell_type": "code",
   "execution_count": 29,
   "id": "414710fd-22b8-46b4-b917-c751e520c993",
   "metadata": {},
   "outputs": [],
   "source": [
    "a = 10\n",
    "b = 20"
   ]
  },
  {
   "cell_type": "code",
   "execution_count": 30,
   "id": "fa4dcad1-7c65-4f90-92c7-11c5fa0d70c4",
   "metadata": {},
   "outputs": [],
   "source": [
    "a,b = 10,20 #다중 선언"
   ]
  },
  {
   "cell_type": "code",
   "execution_count": 31,
   "id": "1469bafb-0ca1-4962-8535-6f4a7324d29a",
   "metadata": {},
   "outputs": [
    {
     "data": {
      "text/plain": [
       "(10, 20)"
      ]
     },
     "execution_count": 31,
     "metadata": {},
     "output_type": "execute_result"
    }
   ],
   "source": [
    "a,b"
   ]
  },
  {
   "cell_type": "code",
   "execution_count": 33,
   "id": "3c931b41-1883-4996-9fe7-314785487613",
   "metadata": {},
   "outputs": [
    {
     "name": "stdout",
     "output_type": "stream",
     "text": [
      "a= 20 \t b = 30\n"
     ]
    }
   ],
   "source": [
    "a,b = b,a+b # 다중 선언\n",
    "print('a=',a,'\\t b =',b) #one by one으로 들어가지 않고 병렬로 들어감 a에 b, a(10)+b"
   ]
  },
  {
   "cell_type": "markdown",
   "id": "84f1b52d-eb61-4239-aeb4-462e57275615",
   "metadata": {},
   "source": [
    "## 1.4 도움말"
   ]
  },
  {
   "cell_type": "code",
   "execution_count": 35,
   "id": "0a5eb4b2-ddb4-44ae-be26-4b57cd66fe76",
   "metadata": {},
   "outputs": [
    {
     "name": "stdout",
     "output_type": "stream",
     "text": [
      "Help on built-in function print in module builtins:\n",
      "\n",
      "print(*args, sep=' ', end='\\n', file=None, flush=False)\n",
      "    Prints the values to a stream, or to sys.stdout by default.\n",
      "    \n",
      "    sep\n",
      "      string inserted between values, default a space.\n",
      "    end\n",
      "      string appended after the last value, default a newline.\n",
      "    file\n",
      "      a file-like object (stream); defaults to the current sys.stdout.\n",
      "    flush\n",
      "      whether to forcibly flush the stream.\n",
      "\n"
     ]
    }
   ],
   "source": [
    "help(print)"
   ]
  },
  {
   "cell_type": "code",
   "execution_count": 36,
   "id": "cf3c090d-a118-4db4-b55c-9e0a8bc646b2",
   "metadata": {},
   "outputs": [
    {
     "data": {
      "text/plain": [
       "\u001b[1;31mSignature:\u001b[0m \u001b[0mprint\u001b[0m\u001b[1;33m(\u001b[0m\u001b[1;33m*\u001b[0m\u001b[0margs\u001b[0m\u001b[1;33m,\u001b[0m \u001b[0msep\u001b[0m\u001b[1;33m=\u001b[0m\u001b[1;34m' '\u001b[0m\u001b[1;33m,\u001b[0m \u001b[0mend\u001b[0m\u001b[1;33m=\u001b[0m\u001b[1;34m'\\n'\u001b[0m\u001b[1;33m,\u001b[0m \u001b[0mfile\u001b[0m\u001b[1;33m=\u001b[0m\u001b[1;32mNone\u001b[0m\u001b[1;33m,\u001b[0m \u001b[0mflush\u001b[0m\u001b[1;33m=\u001b[0m\u001b[1;32mFalse\u001b[0m\u001b[1;33m)\u001b[0m\u001b[1;33m\u001b[0m\u001b[1;33m\u001b[0m\u001b[0m\n",
       "\u001b[1;31mDocstring:\u001b[0m\n",
       "Prints the values to a stream, or to sys.stdout by default.\n",
       "\n",
       "sep\n",
       "  string inserted between values, default a space.\n",
       "end\n",
       "  string appended after the last value, default a newline.\n",
       "file\n",
       "  a file-like object (stream); defaults to the current sys.stdout.\n",
       "flush\n",
       "  whether to forcibly flush the stream.\n",
       "\u001b[1;31mType:\u001b[0m      builtin_function_or_method"
      ]
     },
     "metadata": {},
     "output_type": "display_data"
    }
   ],
   "source": [
    "print?"
   ]
  },
  {
   "cell_type": "code",
   "execution_count": 37,
   "id": "5b3e781e-d99a-43dc-8e4e-6b29b580cfa7",
   "metadata": {},
   "outputs": [
    {
     "name": "stdout",
     "output_type": "stream",
     "text": [
      "a~b\n"
     ]
    }
   ],
   "source": [
    "#도움말 기능 : 함수내에서 shift + tab 키\n",
    "print('a','b',sep='~')"
   ]
  },
  {
   "cell_type": "code",
   "execution_count": 39,
   "id": "eb67ac7a-762e-4da4-9744-290e88b7b321",
   "metadata": {},
   "outputs": [],
   "source": [
    "def make_number(x,y=0):\n",
    "    #y => defalut 0 #C : int make_number(int x,int y{} =>y defalut값 존재 x\n",
    "    \"\"\"doc string(함수의 도움말)\n",
    "    매개변수 2개를 이용해서 2자리 정수를 만들어요\n",
    "    x = 10의 자리수\n",
    "    y = 1의 자리수 (default 값 0 )\n",
    "    \"\"\"\n",
    "    return x*10+y"
   ]
  },
  {
   "cell_type": "code",
   "execution_count": 40,
   "id": "c530ce97-f1a1-410c-8bf2-17a44775c287",
   "metadata": {},
   "outputs": [
    {
     "data": {
      "text/plain": [
       "30"
      ]
     },
     "execution_count": 40,
     "metadata": {},
     "output_type": "execute_result"
    }
   ],
   "source": [
    "make_number(3)"
   ]
  },
  {
   "cell_type": "code",
   "execution_count": 41,
   "id": "538ab732-2744-4d01-ace5-12939e38662b",
   "metadata": {},
   "outputs": [
    {
     "data": {
      "text/plain": [
       "89"
      ]
     },
     "execution_count": 41,
     "metadata": {},
     "output_type": "execute_result"
    }
   ],
   "source": [
    "make_number(8,9)"
   ]
  },
  {
   "cell_type": "code",
   "execution_count": 42,
   "id": "a4789991-0cf2-489f-8f96-25892cce482c",
   "metadata": {},
   "outputs": [],
   "source": [
    "make = make_number #함수를 변수에 할당"
   ]
  },
  {
   "cell_type": "code",
   "execution_count": 43,
   "id": "e4a23239-4e9c-4dae-9d51-e20b93040a2a",
   "metadata": {},
   "outputs": [
    {
     "data": {
      "text/plain": [
       "60"
      ]
     },
     "execution_count": 43,
     "metadata": {},
     "output_type": "execute_result"
    }
   ],
   "source": [
    "make(6)"
   ]
  },
  {
   "cell_type": "code",
   "execution_count": 44,
   "id": "8da785cb-7ed1-419e-a479-0a664c690fa6",
   "metadata": {},
   "outputs": [
    {
     "data": {
      "text/plain": [
       "61"
      ]
     },
     "execution_count": 44,
     "metadata": {},
     "output_type": "execute_result"
    }
   ],
   "source": [
    "make(6,1)"
   ]
  },
  {
   "cell_type": "markdown",
   "id": "461bbe78-7a33-4b66-9e13-038350220cb8",
   "metadata": {},
   "source": [
    "## 1.5 변수삭제"
   ]
  },
  {
   "cell_type": "code",
   "execution_count": 46,
   "id": "84293ae7-101b-498b-a6f8-ae1adc3a94a9",
   "metadata": {},
   "outputs": [],
   "source": [
    "del make"
   ]
  },
  {
   "cell_type": "code",
   "execution_count": 47,
   "id": "352c45cf-472c-494d-937c-a807d97d3616",
   "metadata": {},
   "outputs": [
    {
     "ename": "NameError",
     "evalue": "name 'make' is not defined",
     "output_type": "error",
     "traceback": [
      "\u001b[1;31m---------------------------------------------------------------------------\u001b[0m",
      "\u001b[1;31mNameError\u001b[0m                                 Traceback (most recent call last)",
      "Cell \u001b[1;32mIn[47], line 1\u001b[0m\n\u001b[1;32m----> 1\u001b[0m make(\u001b[38;5;241m6\u001b[39m)\n",
      "\u001b[1;31mNameError\u001b[0m: name 'make' is not defined"
     ]
    }
   ],
   "source": [
    "make(6)"
   ]
  },
  {
   "cell_type": "markdown",
   "id": "02f3990a-ec23-45e6-a1bc-74ba06e6cf05",
   "metadata": {},
   "source": [
    "# 2절. 화면 I/O"
   ]
  },
  {
   "cell_type": "code",
   "execution_count": 52,
   "id": "2134bbf2-ef7c-4a8d-aa55-2ab77eaec3ac",
   "metadata": {},
   "outputs": [
    {
     "name": "stdin",
     "output_type": "stream",
     "text": [
      "첫번째 숫자는? 10\n",
      "두번째 숫자는? 20\n"
     ]
    }
   ],
   "source": [
    "first = int(input('첫번째 숫자는?')) #문자로 return\n",
    "second = int(input('두번째 숫자는?'))"
   ]
  },
  {
   "cell_type": "code",
   "execution_count": 53,
   "id": "ebddf6b6-f71c-430a-baed-b4f0686ae317",
   "metadata": {},
   "outputs": [
    {
     "name": "stdout",
     "output_type": "stream",
     "text": [
      "두수의 합은 30\n"
     ]
    }
   ],
   "source": [
    "print('두수의 합은 {}'.format(first+second))"
   ]
  },
  {
   "cell_type": "code",
   "execution_count": 54,
   "id": "eda27311-15d8-4679-bfdb-41fc5330c679",
   "metadata": {},
   "outputs": [
    {
     "name": "stdout",
     "output_type": "stream",
     "text": [
      "hello~world\thello Python\n"
     ]
    }
   ],
   "source": [
    "print(\"hello\",\"world\",sep='~',end = '\\t')\n",
    "print('hello','Python')"
   ]
  },
  {
   "cell_type": "markdown",
   "id": "b6c8dca3-6d0d-4de5-b2e6-8cc87ca4e8d1",
   "metadata": {},
   "source": [
    "# 3절. 기본 자료형\n",
    "    - 숫자 : int,float,complex\n",
    "    - 문자 : str\n",
    "    - 논리 : bool\n",
    "    파이썬은 타입을 지칭하는 키워드가 없고, 변수 할당시 타입이 정해져"
   ]
  },
  {
   "cell_type": "markdown",
   "id": "6889d98e-f604-4ae9-b9ac-af85379f360d",
   "metadata": {
    "jp-MarkdownHeadingCollapsed": true
   },
   "source": [
    "## 3.1 숫자형"
   ]
  },
  {
   "cell_type": "code",
   "execution_count": 57,
   "id": "a1514610-3411-46d4-a9b4-107d59d627a9",
   "metadata": {},
   "outputs": [
    {
     "name": "stdout",
     "output_type": "stream",
     "text": [
      "9223372036854775807\n"
     ]
    }
   ],
   "source": [
    "import sys\n",
    "print(sys.maxsize)"
   ]
  },
  {
   "cell_type": "code",
   "execution_count": 59,
   "id": "21723aac-abbf-49e4-94c4-39e104bb8aec",
   "metadata": {},
   "outputs": [
    {
     "name": "stdout",
     "output_type": "stream",
     "text": [
      "값 : 9223372036854775817 / 수조 : 2635056135120\n",
      "<class 'int'>\n"
     ]
    }
   ],
   "source": [
    "a= sys.maxsize + 10\n",
    "print(\"값 : {} / 수조 : {}\" .format(a,id(a)))\n",
    "print(type(a))"
   ]
  },
  {
   "cell_type": "code",
   "execution_count": 60,
   "id": "8c4a5e93-1477-42a6-8338-cb6b09a007de",
   "metadata": {},
   "outputs": [
    {
     "name": "stdout",
     "output_type": "stream",
     "text": [
      "값 : 1 / 수조 : 140731716649768\n",
      "<class 'int'>\n"
     ]
    }
   ],
   "source": [
    "a=1\n",
    "print(\"값 : {} / 수조 : {}\" .format(a,id(a)))\n",
    "print(type(a))"
   ]
  },
  {
   "cell_type": "code",
   "execution_count": 61,
   "id": "aa07dff4-1f11-4fb9-9497-6a0d87d8149e",
   "metadata": {},
   "outputs": [
    {
     "name": "stdout",
     "output_type": "stream",
     "text": [
      "값 : 1 / 수조 : 140731716649768\n",
      "<class 'int'>\n"
     ]
    }
   ],
   "source": [
    "a= int(3/2) #C언어 결과처럼하고자 하면 명시적 형변환\n",
    "a = 3 // 2 #C언어 결과처럼 명시적형변환\n",
    "print(\"값 : {} / 수조 : {}\" .format(a,id(a)))\n",
    "print(type(a))"
   ]
  },
  {
   "cell_type": "code",
   "execution_count": 62,
   "id": "186cfaa8-522b-4aa1-8d5d-d20352655ee9",
   "metadata": {},
   "outputs": [
    {
     "name": "stdout",
     "output_type": "stream",
     "text": [
      "1.12e+20\n",
      "1.12e-20\n"
     ]
    }
   ],
   "source": [
    "f = 1.12e20 #1.12의 10의 20승\n",
    "print(f)\n",
    "f = 1.12e-20 #1.12의 10의 -20\n",
    "print(f)"
   ]
  },
  {
   "cell_type": "markdown",
   "id": "cb4c7a4a-d9bf-4844-9fc5-815a352e0f7a",
   "metadata": {
    "jp-MarkdownHeadingCollapsed": true
   },
   "source": [
    "## 3.2 문자형"
   ]
  },
  {
   "cell_type": "code",
   "execution_count": 63,
   "id": "238268ed-219d-4a38-a98d-0fe5b580a7dc",
   "metadata": {},
   "outputs": [
    {
     "name": "stdout",
     "output_type": "stream",
     "text": [
      "홍길동'님' 서울시 \"금천구\" 가산디지털1로\n"
     ]
    }
   ],
   "source": [
    "name = \"홍길동'님'\"\n",
    "address = \"서울시 \\\"금천구\\\" \\\n",
    "가산디지털1로\"\n",
    "print(name,address)"
   ]
  },
  {
   "cell_type": "code",
   "execution_count": 64,
   "id": "319f4530-f99f-44e1-aa36-b050ff686eca",
   "metadata": {},
   "outputs": [
    {
     "name": "stdout",
     "output_type": "stream",
     "text": [
      "안녕하세요\n",
      "홍길동입니다\n",
      "반갑습니다\n"
     ]
    }
   ],
   "source": [
    "text = \"안녕하세요\\n홍길동입니다\\n반갑습니다\"\n",
    "print(text)"
   ]
  },
  {
   "cell_type": "code",
   "execution_count": 65,
   "id": "21708050-8f49-4978-8244-066a3168b8aa",
   "metadata": {},
   "outputs": [
    {
     "name": "stdout",
     "output_type": "stream",
     "text": [
      "안녕하세요\n",
      "홍길동입니다\n",
      "반갑습니다\n",
      "\n"
     ]
    }
   ],
   "source": [
    "text = \"\"\"안녕하세요\n",
    "홍길동입니다\n",
    "반갑습니다\n",
    "\"\"\"\n",
    "print(text)"
   ]
  },
  {
   "cell_type": "code",
   "execution_count": 66,
   "id": "f79277bc-7816-457a-9f9d-8cea17a262f9",
   "metadata": {},
   "outputs": [],
   "source": [
    "#문자열 슬라이싱"
   ]
  },
  {
   "cell_type": "code",
   "execution_count": 67,
   "id": "3ebc2ecd-a96a-4e10-bd33-8ac2ea28587d",
   "metadata": {},
   "outputs": [
    {
     "data": {
      "text/plain": [
       "'a'"
      ]
     },
     "execution_count": 67,
     "metadata": {},
     "output_type": "execute_result"
    }
   ],
   "source": [
    "str('a')"
   ]
  },
  {
   "cell_type": "code",
   "execution_count": 68,
   "id": "0dd073b3-fd52-41c4-8f21-8cd597df7c3a",
   "metadata": {},
   "outputs": [
    {
     "data": {
      "text/plain": [
       "'0123456789'"
      ]
     },
     "execution_count": 68,
     "metadata": {},
     "output_type": "execute_result"
    }
   ],
   "source": [
    "str_ = \"0123456789\"\n",
    "str_"
   ]
  },
  {
   "cell_type": "code",
   "execution_count": 69,
   "id": "b445d88f-ae57-463d-9299-f492fecff6e3",
   "metadata": {},
   "outputs": [
    {
     "data": {
      "text/plain": [
       "'012'"
      ]
     },
     "execution_count": 69,
     "metadata": {},
     "output_type": "execute_result"
    }
   ],
   "source": [
    "str_[0:3] #0번째부터 3번째 앞까지"
   ]
  },
  {
   "cell_type": "code",
   "execution_count": 70,
   "id": "5a5ffec7-09a5-4ca1-8849-523464be6db9",
   "metadata": {},
   "outputs": [
    {
     "data": {
      "text/plain": [
       "'9'"
      ]
     },
     "execution_count": 70,
     "metadata": {},
     "output_type": "execute_result"
    }
   ],
   "source": [
    "str_[-1] #음수인덱스는 뒤에서부터"
   ]
  },
  {
   "cell_type": "code",
   "execution_count": 72,
   "id": "f78a6c86-8245-48a2-ad45-da38d10a781e",
   "metadata": {},
   "outputs": [
    {
     "data": {
      "text/plain": [
       "'5678'"
      ]
     },
     "execution_count": 72,
     "metadata": {},
     "output_type": "execute_result"
    }
   ],
   "source": [
    "str_ = \"0123456789\"\n",
    "str_[-5:-1]"
   ]
  },
  {
   "cell_type": "code",
   "execution_count": 73,
   "id": "bc2ec9f5-671d-441d-8ad9-97c62ca73820",
   "metadata": {},
   "outputs": [
    {
     "data": {
      "text/plain": [
       "'56789'"
      ]
     },
     "execution_count": 73,
     "metadata": {},
     "output_type": "execute_result"
    }
   ],
   "source": [
    "str_[5:] #5번째인덱스부터 끝까지"
   ]
  },
  {
   "cell_type": "code",
   "execution_count": 74,
   "id": "9534fd90-50cf-4b87-a585-a42d51c9514b",
   "metadata": {},
   "outputs": [
    {
     "data": {
      "text/plain": [
       "'01234'"
      ]
     },
     "execution_count": 74,
     "metadata": {},
     "output_type": "execute_result"
    }
   ],
   "source": [
    "str_[:-5] #처음부터 -5번째 앞까지"
   ]
  },
  {
   "cell_type": "code",
   "execution_count": 75,
   "id": "b98cc662-7a5e-4182-ab83-9554f5f2d0fc",
   "metadata": {},
   "outputs": [
    {
     "ename": "IndexError",
     "evalue": "string index out of range",
     "output_type": "error",
     "traceback": [
      "\u001b[1;31m---------------------------------------------------------------------------\u001b[0m",
      "\u001b[1;31mIndexError\u001b[0m                                Traceback (most recent call last)",
      "Cell \u001b[1;32mIn[75], line 1\u001b[0m\n\u001b[1;32m----> 1\u001b[0m str_[\u001b[38;5;241m19\u001b[39m]\n",
      "\u001b[1;31mIndexError\u001b[0m: string index out of range"
     ]
    }
   ],
   "source": [
    "str_[19] #없는 인덱스는 에러남\n",
    "str_[5:19] #슬라이싱에서는 인덱스를 벗어나면 끝까지"
   ]
  },
  {
   "cell_type": "code",
   "execution_count": 79,
   "id": "a259b2c6-2da7-400a-bc9f-12e01954be44",
   "metadata": {},
   "outputs": [
    {
     "name": "stdout",
     "output_type": "stream",
     "text": [
      "02468\n",
      "02468\n"
     ]
    }
   ],
   "source": [
    "# str_[from:to:step]\n",
    "print(str_[0:9:2]) #0번째부터 9번째 앞까지 2씩 인덱스 증가해서\n",
    "print(str_[::2]) #0번째 부터 끝까지 2씩 인덱스 증가"
   ]
  },
  {
   "cell_type": "code",
   "execution_count": 84,
   "id": "05bf4183-5cf7-4f1b-8895-85f29abc01eb",
   "metadata": {},
   "outputs": [
    {
     "name": "stdout",
     "output_type": "stream",
     "text": [
      "9876543210\n",
      "9876543210\n"
     ]
    }
   ],
   "source": [
    "# 끝부터 처음까지 (거꾸로)\n",
    "print(str_[9::-1])\n",
    "print(str_[::-1])"
   ]
  },
  {
   "cell_type": "markdown",
   "id": "988d8502-e61c-4531-8332-ce9cd99e664c",
   "metadata": {
    "jp-MarkdownHeadingCollapsed": true
   },
   "source": [
    "## 3.3 논리형(True,False)"
   ]
  },
  {
   "cell_type": "code",
   "execution_count": 85,
   "id": "daa15933-7b74-431c-a3a0-67888410c007",
   "metadata": {},
   "outputs": [
    {
     "name": "stdout",
     "output_type": "stream",
     "text": [
      "True\n",
      "<class 'bool'>\n",
      "True\n"
     ]
    }
   ],
   "source": [
    "a = True\n",
    "print(a)\n",
    "print(type(a))\n",
    "print(isinstance(a,bool)) #a가 bool 형인가?"
   ]
  },
  {
   "cell_type": "code",
   "execution_count": 86,
   "id": "73242476-450e-4e76-bbbc-62529b80333e",
   "metadata": {},
   "outputs": [],
   "source": [
    "#False로 간주하는 것 : 0,None, \"\"(빈스트링) ''(빈스트링),[],(),{}\n",
    "#True로 간주하는 것 : \" \" , '\\0' (널문자)"
   ]
  },
  {
   "cell_type": "code",
   "execution_count": 87,
   "id": "2f933f16-254c-46d6-a396-222fdf79c4d7",
   "metadata": {},
   "outputs": [
    {
     "name": "stdout",
     "output_type": "stream",
     "text": [
      "false\n"
     ]
    }
   ],
   "source": [
    "if 0+0j : #false로 간주\n",
    "    print('True')\n",
    "else:\n",
    "    print('false')"
   ]
  },
  {
   "cell_type": "markdown",
   "id": "38394ba0-ca5c-4486-89a3-f5d167493447",
   "metadata": {
    "jp-MarkdownHeadingCollapsed": true
   },
   "source": [
    "## 3.4 자료형 확인 및 변환\n",
    "    - type() : 자료형 확인\n",
    "    - int() : 정수형 변환\n",
    "    - float() : 실수형 변환\n",
    "    - str() : 문자형 변환\n",
    "    - bool() : 논리형 변환"
   ]
  },
  {
   "cell_type": "code",
   "execution_count": 88,
   "id": "e2b9ff12-ab20-4eb5-a1c4-940ec9f493f3",
   "metadata": {},
   "outputs": [],
   "source": [
    "# int(' ') #에러\n",
    "# int('2,000') #에러"
   ]
  },
  {
   "cell_type": "code",
   "execution_count": 89,
   "id": "8998910f-1225-4741-bfdb-ad9a0820de35",
   "metadata": {},
   "outputs": [
    {
     "data": {
      "text/plain": [
       "1.0"
      ]
     },
     "execution_count": 89,
     "metadata": {},
     "output_type": "execute_result"
    }
   ],
   "source": [
    "float(True)"
   ]
  },
  {
   "cell_type": "markdown",
   "id": "869f7ff8-1f2b-4dc3-80e6-2b4ce6202334",
   "metadata": {},
   "source": [
    "# 4절. 포맷팅"
   ]
  },
  {
   "cell_type": "code",
   "execution_count": 93,
   "id": "f9aac6e0-ab62-42a2-b3da-66b907708f3e",
   "metadata": {},
   "outputs": [
    {
     "name": "stdout",
     "output_type": "stream",
     "text": [
      "이름은 홍길동,주소는 서울시 금천구\n"
     ]
    }
   ],
   "source": [
    "name = \"홍길동\"\n",
    "add = \"서울시 금천구\"\n",
    "print(\"이름은 {0},주소는 {1}\".format(name,add)) #index 생략가능 #ppt 37page"
   ]
  },
  {
   "cell_type": "code",
   "execution_count": 94,
   "id": "b8d822c1-0e79-4fbc-b541-024efa90778d",
   "metadata": {},
   "outputs": [
    {
     "name": "stdout",
     "output_type": "stream",
     "text": [
      "이름은 홍길동, 주소는 서울시 금천구\n"
     ]
    }
   ],
   "source": [
    "print(\"이름은 %s, 주소는 %s\"%(name,add))"
   ]
  },
  {
   "cell_type": "code",
   "execution_count": 95,
   "id": "91b74922-36d1-4fcb-8448-1ae7532907a3",
   "metadata": {},
   "outputs": [
    {
     "name": "stdout",
     "output_type": "stream",
     "text": [
      "이름은 홍길동,주소는서울시 금천구\n"
     ]
    }
   ],
   "source": [
    "print(f\"이름은 {name},주소는{add}\")"
   ]
  },
  {
   "cell_type": "markdown",
   "id": "77a89462-9989-41bd-994d-16d370eac196",
   "metadata": {},
   "source": [
    "format() 함수\n",
    "```\n",
    "- \"{[인덱스]:[공백대체문자][정렬방법][자릿수][타입]}\".format(변수명,...)\n",
    "    - 정렬방법 : <(왼쪽정렬),>(오른쪽 정렬),^(가운데정렬)\n",
    "    - 타입 : d(10진수) , x(16진수) , b(2진수) , f(실수) , s(문자)\n",
    "```"
   ]
  },
  {
   "cell_type": "code",
   "execution_count": 96,
   "id": "84af60f6-624a-4432-a81e-cf9a279e860d",
   "metadata": {},
   "outputs": [
    {
     "name": "stdout",
     "output_type": "stream",
     "text": [
      "[$$$$$$$$10],[Hello***************]\n"
     ]
    }
   ],
   "source": [
    "a = 10\n",
    "s = 'Hello'\n",
    "print(\"[{0:$>10d}],[{1:*<20}]\".format(a,s))"
   ]
  },
  {
   "cell_type": "markdown",
   "id": "4f6e9199-1bf0-4ea8-b591-0773c15b307d",
   "metadata": {
    "jp-MarkdownHeadingCollapsed": true
   },
   "source": [
    "# 5절. 연산자"
   ]
  },
  {
   "cell_type": "markdown",
   "id": "40924d87-afb4-47da-a9c0-16cd91895189",
   "metadata": {
    "jp-MarkdownHeadingCollapsed": true
   },
   "source": [
    "## 5.1 산술연산자 : + = / * //(몫) %(나머지) **(제곱)"
   ]
  },
  {
   "cell_type": "markdown",
   "id": "48d8ae7b-8613-4c48-a934-00f962e3396f",
   "metadata": {},
   "source": [
    "## 5.2 할당연산자 : = += -= /= %= .."
   ]
  },
  {
   "cell_type": "markdown",
   "id": "2c879e8b-db84-4b72-b85d-b7b9e5e8ffc4",
   "metadata": {},
   "source": [
    "## 5.3 논리연산자 & and | or not (연산자 우선순위가 높음)"
   ]
  },
  {
   "cell_type": "markdown",
   "id": "4178f50e-6f89-4b8c-ac45-255382d35108",
   "metadata": {
    "jp-MarkdownHeadingCollapsed": true
   },
   "source": [
    "## 5.4 비트연산자 &,| ^(xor) (연산자 우선순위가 높음)"
   ]
  },
  {
   "cell_type": "code",
   "execution_count": 101,
   "id": "c5645d02-36a9-4336-9825-e8eae69fd268",
   "metadata": {},
   "outputs": [
    {
     "name": "stdout",
     "output_type": "stream",
     "text": [
      "True\n"
     ]
    }
   ],
   "source": [
    "print( (10>3) & (10>5) )  #논리 연산 : 앞 뒤 True & True(False)"
   ]
  },
  {
   "cell_type": "code",
   "execution_count": 104,
   "id": "22d72931-cc4b-45fa-8af0-17bd023b856f",
   "metadata": {},
   "outputs": [
    {
     "name": "stdout",
     "output_type": "stream",
     "text": [
      "0\n",
      "13\n"
     ]
    }
   ],
   "source": [
    "print( 12 & 1 ) # 비트연산 12 : 1 1 0 0\n",
    "                # 비트연산  1 : 0 0 0 1\n",
    "print( 12 | 1 ) "
   ]
  },
  {
   "cell_type": "markdown",
   "id": "0e0228ad-2be7-4bc1-8297-31d9d3318a36",
   "metadata": {},
   "source": [
    "## 5.5 비교연산자 > >= < <= == !="
   ]
  },
  {
   "cell_type": "code",
   "execution_count": 105,
   "id": "e8440bf4-970d-4637-8f93-91bb74b4d308",
   "metadata": {},
   "outputs": [
    {
     "data": {
      "text/plain": [
       "True"
      ]
     },
     "execution_count": 105,
     "metadata": {},
     "output_type": "execute_result"
    }
   ],
   "source": [
    "'아' < '하' #아스키코드 순"
   ]
  },
  {
   "cell_type": "code",
   "execution_count": 106,
   "id": "9fcbab23-7480-48a2-8e3b-ff65b837272c",
   "metadata": {},
   "outputs": [
    {
     "data": {
      "text/plain": [
       "True"
      ]
     },
     "execution_count": 106,
     "metadata": {},
     "output_type": "execute_result"
    }
   ],
   "source": [
    "'*' < '1' < 'A' < 'a'"
   ]
  },
  {
   "cell_type": "code",
   "execution_count": 107,
   "id": "ee9fe676-94cb-468f-8606-d13cf8a7015f",
   "metadata": {},
   "outputs": [
    {
     "data": {
      "text/plain": [
       "True"
      ]
     },
     "execution_count": 107,
     "metadata": {},
     "output_type": "execute_result"
    }
   ],
   "source": [
    "score = 85\n",
    "80<=score<90"
   ]
  },
  {
   "cell_type": "markdown",
   "id": "22b455e7-05ff-46be-8dc5-5efd41c098b7",
   "metadata": {
    "jp-MarkdownHeadingCollapsed": true
   },
   "source": [
    "# 6절. 문자열 다루기\n",
    "    - 문자열 슬라이싱 : 문자변수[from:to:step]\n",
    "    - len(문자열) : 문자갯수\n",
    "    - upper() : 대문자로\n",
    "    - lower() : 소문자로\n",
    "    - title() : 각 단어의 앞글자만 대문자로\n",
    "    - capitalize() : 첫문자만 대문자로. 그 외는 소문자\n",
    "    - count('찾을문자열') : 찾을 문자열이 몇개 들어있는지 갯수 반환\n",
    "    - find('찾을문자열') : 찾을문자열을 왼족(0번)부터 시작하여 몇번째 인덱스에 있는지 index(숫자)반환\n",
    "                          찾을문자열이 없으면 -1을 반환\n",
    "    - rfind('찾을문자열') : 찾을문자열을 오른쪽부터 시작하여 몇번째 인덱스에 있는지 index(숫자)반환\n",
    "    - startswith('특정문자열') : 특정문자열로 시작하는지 여부 T/F 반환\n",
    "    - endswith('특정문자열') : 특정문자열로 끝나는지 여부 T/F 반환\n",
    "    - strip() : 좌우 공백제거\n",
    "    - lstrip() : 왼족 공백제거\n",
    "    - rstrip() : 오른쪽 공백제거\n",
    "    - isdigit() : 문자열이 숫자 문자열인지 여부 T/F 반환\n",
    "    - islower() : 문자열이 소문자인지 여부 T/F 반환\n",
    "    - isuppper() : 문자열이 대문자인지 여부 T/F 반환\n",
    "    - replace(oldStr,newStr) : oldStr을 newStr 변경"
   ]
  },
  {
   "cell_type": "code",
   "execution_count": 110,
   "id": "65070491-f2a4-4ca3-89f1-caf044832f73",
   "metadata": {
    "scrolled": true
   },
   "outputs": [
    {
     "data": {
      "text/plain": [
       "['__add__',\n",
       " '__class__',\n",
       " '__contains__',\n",
       " '__delattr__',\n",
       " '__dir__',\n",
       " '__doc__',\n",
       " '__eq__',\n",
       " '__format__',\n",
       " '__ge__',\n",
       " '__getattribute__',\n",
       " '__getitem__',\n",
       " '__getnewargs__',\n",
       " '__getstate__',\n",
       " '__gt__',\n",
       " '__hash__',\n",
       " '__init__',\n",
       " '__init_subclass__',\n",
       " '__iter__',\n",
       " '__le__',\n",
       " '__len__',\n",
       " '__lt__',\n",
       " '__mod__',\n",
       " '__mul__',\n",
       " '__ne__',\n",
       " '__new__',\n",
       " '__reduce__',\n",
       " '__reduce_ex__',\n",
       " '__repr__',\n",
       " '__rmod__',\n",
       " '__rmul__',\n",
       " '__setattr__',\n",
       " '__sizeof__',\n",
       " '__str__',\n",
       " '__subclasshook__',\n",
       " 'capitalize',\n",
       " 'casefold',\n",
       " 'center',\n",
       " 'count',\n",
       " 'encode',\n",
       " 'endswith',\n",
       " 'expandtabs',\n",
       " 'find',\n",
       " 'format',\n",
       " 'format_map',\n",
       " 'index',\n",
       " 'isalnum',\n",
       " 'isalpha',\n",
       " 'isascii',\n",
       " 'isdecimal',\n",
       " 'isdigit',\n",
       " 'isidentifier',\n",
       " 'islower',\n",
       " 'isnumeric',\n",
       " 'isprintable',\n",
       " 'isspace',\n",
       " 'istitle',\n",
       " 'isupper',\n",
       " 'join',\n",
       " 'ljust',\n",
       " 'lower',\n",
       " 'lstrip',\n",
       " 'maketrans',\n",
       " 'partition',\n",
       " 'removeprefix',\n",
       " 'removesuffix',\n",
       " 'replace',\n",
       " 'rfind',\n",
       " 'rindex',\n",
       " 'rjust',\n",
       " 'rpartition',\n",
       " 'rsplit',\n",
       " 'rstrip',\n",
       " 'split',\n",
       " 'splitlines',\n",
       " 'startswith',\n",
       " 'strip',\n",
       " 'swapcase',\n",
       " 'title',\n",
       " 'translate',\n",
       " 'upper',\n",
       " 'zfill']"
      ]
     },
     "execution_count": 110,
     "metadata": {},
     "output_type": "execute_result"
    }
   ],
   "source": [
    "# 문자열을 다룰수 있는 함수 목록\n",
    "dir(str)"
   ]
  },
  {
   "cell_type": "code",
   "execution_count": 109,
   "id": "3c1b19df-24ba-4898-bcdd-337eb96cca90",
   "metadata": {},
   "outputs": [
    {
     "data": {
      "text/plain": [
       "('PYTHON IS EASY. PYTHON IS SMART.', 32)"
      ]
     },
     "execution_count": 109,
     "metadata": {},
     "output_type": "execute_result"
    }
   ],
   "source": [
    "temp = 'Python is easy. Python is smart.'\n",
    "temp.upper() , len(temp)"
   ]
  },
  {
   "cell_type": "code",
   "execution_count": 119,
   "id": "43da1870-2039-4de4-b4a4-197bcaf67839",
   "metadata": {},
   "outputs": [
    {
     "name": "stdout",
     "output_type": "stream",
     "text": [
      "첫번째 글자 : P , 마지막 글자 : .\n"
     ]
    }
   ],
   "source": [
    "print(\"첫번째 글자 : {} , 마지막 글자 : {}\".format(temp[0],temp[len(temp)-1]))"
   ]
  },
  {
   "cell_type": "code",
   "execution_count": 117,
   "id": "07545b4f-f4d1-433d-87da-0ca19acc14dc",
   "metadata": {},
   "outputs": [
    {
     "name": "stdout",
     "output_type": "stream",
     "text": [
      "대문자로: PYTHON IS EASY. PYTHON IS SMART.\n",
      "첫글자만대문자: Python is easy. python is smart.\n",
      "title() : Python Is Easy. Python Is Smart.\n",
      "count() : 2\n",
      "find() : 0\n",
      "rfind() : 16\n",
      "replace(\"Python\",) :   is easy.   is smart.\n",
      "startswith() :  True\n"
     ]
    }
   ],
   "source": [
    "temp = 'Python is easy. Python is smart.'\n",
    "print(\"대문자로:\",temp.upper())\n",
    "print(\"첫글자만대문자:\",temp.capitalize())\n",
    "print('title() :',temp.title())\n",
    "print('count() :',temp.count('Python'))\n",
    "print('find() :',temp.find('Python'))\n",
    "print('rfind() :',temp.rfind('Python'))\n",
    "print('replace(\"Python\",' ') :',temp.replace(\"Python\",\" \"))\n",
    "print(\"startswith() : \",temp.startswith(\"Py\"))"
   ]
  },
  {
   "cell_type": "code",
   "execution_count": 123,
   "id": "119d7137-6354-4ca8-b81c-eff02367b7b9",
   "metadata": {},
   "outputs": [
    {
     "name": "stdout",
     "output_type": "stream",
     "text": [
      "temp : [             Python              ]\n",
      "strip : [Python]\n",
      "lstrip : [Python              ]\n",
      "rstrip : [             Python]\n"
     ]
    }
   ],
   "source": [
    "temp = \"             Python              \"\n",
    "print(\"temp : [{}]\".format(temp))\n",
    "print(\"strip : [{}]\".format(temp.strip()))\n",
    "print(\"lstrip : [{}]\".format(temp.lstrip()))\n",
    "print(\"rstrip : [{}]\".format(temp.rstrip()))"
   ]
  },
  {
   "cell_type": "code",
   "execution_count": 124,
   "id": "740dc33f-cd40-4c16-9906-91ba14cb19bf",
   "metadata": {},
   "outputs": [
    {
     "name": "stdout",
     "output_type": "stream",
     "text": [
      "space 단위로 분리하여 list로 반환 : ['Python', 'is', 'easy', 'Python', 'is', 'smart']\n"
     ]
    }
   ],
   "source": [
    "temp = 'Python is easy Python is smart'\n",
    "print('space 단위로 분리하여 list로 반환 :',temp.split())"
   ]
  },
  {
   "cell_type": "code",
   "execution_count": 129,
   "id": "9898099d-faeb-4f2a-b644-f98a05641917",
   "metadata": {},
   "outputs": [
    {
     "name": "stdout",
     "output_type": "stream",
     "text": [
      "년월일 분리 :  ['2024', '05', '30']\n",
      "연결된 temp :  2024~05~30\n"
     ]
    }
   ],
   "source": [
    "temp = \"2024-05-30\"\n",
    "temp_list = temp.split('-')\n",
    "temp_join = '~'.join(temp_list)\n",
    "print(\"년월일 분리 : \" , temp_list)\n",
    "print(\"연결된 temp : \" , temp_join)"
   ]
  },
  {
   "cell_type": "markdown",
   "id": "f523eef6-616a-4dc2-bfe6-4f94072268db",
   "metadata": {},
   "source": [
    "# 7절. 날짜다루기"
   ]
  },
  {
   "cell_type": "markdown",
   "id": "dfed0baa-25ba-49ce-8114-831e25620088",
   "metadata": {},
   "source": [
    "## 7.1 날짜"
   ]
  },
  {
   "cell_type": "code",
   "execution_count": 130,
   "id": "e8893b74-d161-4887-942b-9aa753edc978",
   "metadata": {},
   "outputs": [
    {
     "data": {
      "text/plain": [
       "datetime.date(2024, 5, 30)"
      ]
     },
     "execution_count": 130,
     "metadata": {},
     "output_type": "execute_result"
    }
   ],
   "source": [
    "from datetime import date\n",
    "someday = date(2024,5,30)\n",
    "someday"
   ]
  },
  {
   "cell_type": "code",
   "execution_count": 131,
   "id": "a6e6a4c3-3892-44d1-98e8-d375322980b4",
   "metadata": {},
   "outputs": [
    {
     "name": "stdout",
     "output_type": "stream",
     "text": [
      "2024-05-30\n"
     ]
    }
   ],
   "source": [
    "print(\"{}\".format(someday))"
   ]
  },
  {
   "cell_type": "code",
   "execution_count": 134,
   "id": "f9bdef59-29f7-4c66-aa23-b1fb819c7875",
   "metadata": {},
   "outputs": [
    {
     "name": "stdout",
     "output_type": "stream",
     "text": [
      "2024년05월30일 00시 00분\n"
     ]
    }
   ],
   "source": [
    "print(\"{:%Y년%m월%d일 %H시 %M분}\".format(someday))"
   ]
  },
  {
   "cell_type": "markdown",
   "id": "ffcfb64f-8f85-4fe0-951c-002dc60340dd",
   "metadata": {},
   "source": [
    "## 7.2 시간"
   ]
  },
  {
   "cell_type": "code",
   "execution_count": 133,
   "id": "10b653f7-5894-4147-9f4b-52883a0c3b78",
   "metadata": {},
   "outputs": [
    {
     "name": "stdout",
     "output_type": "stream",
     "text": [
      "2024년05월30일 12시 48분\n"
     ]
    }
   ],
   "source": [
    "from datetime import datetime\n",
    "now = datetime.today()\n",
    "print(\"{:%Y년%m월%d일 %H시 %M분}\".format(now))"
   ]
  },
  {
   "cell_type": "markdown",
   "id": "692f6523-151d-422e-857a-812c8f0188e1",
   "metadata": {},
   "source": [
    "# 8절. 연습문제"
   ]
  },
  {
   "cell_type": "code",
   "execution_count": 142,
   "id": "5278d0d2-1368-44b9-810f-4f6ec9dc4e49",
   "metadata": {},
   "outputs": [
    {
     "name": "stdin",
     "output_type": "stream",
     "text": [
      "이름은? :  홍길동\n",
      "나이는? :  23\n"
     ]
    },
    {
     "name": "stdout",
     "output_type": "stream",
     "text": [
      "홍길동님의 나이는 23살입니다\n"
     ]
    }
   ],
   "source": [
    "name = input(\"이름은? : \")\n",
    "age = int(input(\"나이는? : \"))\n",
    "print(\"{}님의 나이는 {}살입니다\".format(name,age))"
   ]
  },
  {
   "cell_type": "code",
   "execution_count": 143,
   "id": "8364c2ae-63f9-4b24-b028-c582186708f4",
   "metadata": {},
   "outputs": [
    {
     "name": "stdin",
     "output_type": "stream",
     "text": [
      "첫번째 숫자 :  10\n",
      "두번째 숫자 :  3\n"
     ]
    },
    {
     "name": "stdout",
     "output_type": "stream",
     "text": [
      "13\n",
      "7\n",
      "30\n",
      "3\n",
      "1\n"
     ]
    }
   ],
   "source": [
    "first = int(input(\"첫번째 숫자 : \"))\n",
    "second = int(input(\"두번째 숫자 : \"))\n",
    "print(first+second)\n",
    "print(first-second)\n",
    "print(first*second)\n",
    "print(first//second)\n",
    "print(first%second)"
   ]
  },
  {
   "cell_type": "code",
   "execution_count": 149,
   "id": "caed339a-db4a-4341-8b2a-e596753b5a3f",
   "metadata": {},
   "outputs": [
    {
     "name": "stdout",
     "output_type": "stream",
     "text": [
      "World Hello\n"
     ]
    }
   ],
   "source": [
    "word = \"Hello World\"\n",
    "word_list = word.split()\n",
    "print(word_list[1],word_list[0])"
   ]
  },
  {
   "cell_type": "code",
   "execution_count": 165,
   "id": "fb2a4236-437b-4be1-91c2-3946ac8fe918",
   "metadata": {},
   "outputs": [
    {
     "name": "stdout",
     "output_type": "stream",
     "text": [
      "bcdefa\n",
      "fedcba\n"
     ]
    }
   ],
   "source": [
    "x = 'abcdef'\n",
    "print(x[1:]+x[0])\n",
    "print(x[-1::-1])"
   ]
  },
  {
   "cell_type": "code",
   "execution_count": 164,
   "id": "d47180d2-be50-4f35-b278-cd07a1a09e01",
   "metadata": {},
   "outputs": [
    {
     "name": "stdin",
     "output_type": "stream",
     "text": [
      "섭씨온도 : 23\n"
     ]
    },
    {
     "name": "stdout",
     "output_type": "stream",
     "text": [
      "73.4\n"
     ]
    }
   ],
   "source": [
    "c = int(input('섭씨온도 :'))\n",
    "f = (c*1.8)+32\n",
    "if(f.is_integer()):\n",
    "    print(int(f))\n",
    "else :\n",
    "    print(round(f,2))\n",
    "\n",
    "if (f == round(f)) :\n",
    "    print('섭씨 {}도는 화씨온도로 바꾸면 {:.0f}도입니다'.format(c,f))\n",
    "else:\n",
    "    print('섭씨 {}도는 화씨온도로 바꾸면 {:.2f}도입니다.'.format(c,f))"
   ]
  },
  {
   "cell_type": "code",
   "execution_count": 166,
   "id": "b4b39d73-66fd-430c-bd70-9cba092710cd",
   "metadata": {},
   "outputs": [],
   "source": [
    "#7 1,2,3"
   ]
  },
  {
   "cell_type": "code",
   "execution_count": 168,
   "id": "d94f581b-fe46-446b-8a4b-86092fe5f9c8",
   "metadata": {},
   "outputs": [
    {
     "name": "stdout",
     "output_type": "stream",
     "text": [
      "SeounSeoul\n",
      "Seou n Seoul\n"
     ]
    }
   ],
   "source": [
    "text = \"Seoul A001 - programming with python\"\n",
    "print(text[:4]+text[-1]+text.split()[0])\n",
    "print(text[:4],text[-1],text.split()[0])"
   ]
  },
  {
   "cell_type": "code",
   "execution_count": null,
   "id": "08978b3e-7064-44b7-b586-8d63f26e49ae",
   "metadata": {},
   "outputs": [],
   "source": []
  }
 ],
 "metadata": {
  "kernelspec": {
   "display_name": "Python 3 (ipykernel)",
   "language": "python",
   "name": "python3"
  },
  "language_info": {
   "codemirror_mode": {
    "name": "ipython",
    "version": 3
   },
   "file_extension": ".py",
   "mimetype": "text/x-python",
   "name": "python",
   "nbconvert_exporter": "python",
   "pygments_lexer": "ipython3",
   "version": "3.11.7"
  }
 },
 "nbformat": 4,
 "nbformat_minor": 5
}
